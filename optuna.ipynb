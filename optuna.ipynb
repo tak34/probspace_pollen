{
  "nbformat": 4,
  "nbformat_minor": 0,
  "metadata": {
    "colab": {
      "provenance": [],
      "mount_file_id": "14OVtYzJwaV0jE7aosA9Y2-9mHT1TnVCv",
      "authorship_tag": "ABX9TyN1Zale30HXuQ9z7LwlQDVK"
    },
    "kernelspec": {
      "name": "python3",
      "display_name": "Python 3"
    },
    "language_info": {
      "name": "python"
    }
  },
  "cells": [
    {
      "cell_type": "code",
      "execution_count": null,
      "metadata": {
        "colab": {
          "base_uri": "https://localhost:8080/"
        },
        "id": "1cibLUHWVuD0",
        "outputId": "ec5863e9-c494-4970-a8c3-0ee1e8042bad"
      },
      "outputs": [
        {
          "output_type": "stream",
          "name": "stdout",
          "text": [
            "Looking in indexes: https://pypi.org/simple, https://us-python.pkg.dev/colab-wheels/public/simple/\n",
            "Collecting optuna\n",
            "  Downloading optuna-3.0.5-py3-none-any.whl (348 kB)\n",
            "\u001b[2K     \u001b[90m━━━━━━━━━━━━━━━━━━━━━━━━━━━━━━━━━━━━━━\u001b[0m \u001b[32m348.5/348.5 KB\u001b[0m \u001b[31m10.6 MB/s\u001b[0m eta \u001b[36m0:00:00\u001b[0m\n",
            "\u001b[?25hCollecting alembic>=1.5.0\n",
            "  Downloading alembic-1.9.2-py3-none-any.whl (210 kB)\n",
            "\u001b[2K     \u001b[90m━━━━━━━━━━━━━━━━━━━━━━━━━━━━━━━━━━━━━━\u001b[0m \u001b[32m210.6/210.6 KB\u001b[0m \u001b[31m17.5 MB/s\u001b[0m eta \u001b[36m0:00:00\u001b[0m\n",
            "\u001b[?25hRequirement already satisfied: sqlalchemy>=1.3.0 in /usr/local/lib/python3.8/dist-packages (from optuna) (1.4.46)\n",
            "Requirement already satisfied: PyYAML in /usr/local/lib/python3.8/dist-packages (from optuna) (6.0)\n",
            "Collecting cmaes>=0.8.2\n",
            "  Downloading cmaes-0.9.1-py3-none-any.whl (21 kB)\n",
            "Collecting cliff\n",
            "  Downloading cliff-4.1.0-py3-none-any.whl (81 kB)\n",
            "\u001b[2K     \u001b[90m━━━━━━━━━━━━━━━━━━━━━━━━━━━━━━━━━━━━━━━━\u001b[0m \u001b[32m81.0/81.0 KB\u001b[0m \u001b[31m9.1 MB/s\u001b[0m eta \u001b[36m0:00:00\u001b[0m\n",
            "\u001b[?25hRequirement already satisfied: packaging>=20.0 in /usr/local/lib/python3.8/dist-packages (from optuna) (21.3)\n",
            "Collecting importlib-metadata<5.0.0\n",
            "  Downloading importlib_metadata-4.13.0-py3-none-any.whl (23 kB)\n",
            "Requirement already satisfied: numpy in /usr/local/lib/python3.8/dist-packages (from optuna) (1.21.6)\n",
            "Requirement already satisfied: tqdm in /usr/local/lib/python3.8/dist-packages (from optuna) (4.64.1)\n",
            "Requirement already satisfied: scipy<1.9.0,>=1.7.0 in /usr/local/lib/python3.8/dist-packages (from optuna) (1.7.3)\n",
            "Collecting colorlog\n",
            "  Downloading colorlog-6.7.0-py2.py3-none-any.whl (11 kB)\n",
            "Collecting Mako\n",
            "  Downloading Mako-1.2.4-py3-none-any.whl (78 kB)\n",
            "\u001b[2K     \u001b[90m━━━━━━━━━━━━━━━━━━━━━━━━━━━━━━━━━━━━━━━━\u001b[0m \u001b[32m78.7/78.7 KB\u001b[0m \u001b[31m7.7 MB/s\u001b[0m eta \u001b[36m0:00:00\u001b[0m\n",
            "\u001b[?25hRequirement already satisfied: importlib-resources in /usr/local/lib/python3.8/dist-packages (from alembic>=1.5.0->optuna) (5.10.2)\n",
            "Requirement already satisfied: zipp>=0.5 in /usr/local/lib/python3.8/dist-packages (from importlib-metadata<5.0.0->optuna) (3.11.0)\n",
            "Requirement already satisfied: pyparsing!=3.0.5,>=2.0.2 in /usr/local/lib/python3.8/dist-packages (from packaging>=20.0->optuna) (3.0.9)\n",
            "Requirement already satisfied: greenlet!=0.4.17 in /usr/local/lib/python3.8/dist-packages (from sqlalchemy>=1.3.0->optuna) (2.0.1)\n",
            "Collecting cmd2>=1.0.0\n",
            "  Downloading cmd2-2.4.2-py3-none-any.whl (147 kB)\n",
            "\u001b[2K     \u001b[90m━━━━━━━━━━━━━━━━━━━━━━━━━━━━━━━━━━━━━━\u001b[0m \u001b[32m147.1/147.1 KB\u001b[0m \u001b[31m13.7 MB/s\u001b[0m eta \u001b[36m0:00:00\u001b[0m\n",
            "\u001b[?25hCollecting autopage>=0.4.0\n",
            "  Downloading autopage-0.5.1-py3-none-any.whl (29 kB)\n",
            "Requirement already satisfied: PrettyTable>=0.7.2 in /usr/local/lib/python3.8/dist-packages (from cliff->optuna) (3.5.0)\n",
            "Collecting stevedore>=2.0.1\n",
            "  Downloading stevedore-4.1.1-py3-none-any.whl (50 kB)\n",
            "\u001b[2K     \u001b[90m━━━━━━━━━━━━━━━━━━━━━━━━━━━━━━━━━━━━━━━━\u001b[0m \u001b[32m50.0/50.0 KB\u001b[0m \u001b[31m5.2 MB/s\u001b[0m eta \u001b[36m0:00:00\u001b[0m\n",
            "\u001b[?25hCollecting pyperclip>=1.6\n",
            "  Downloading pyperclip-1.8.2.tar.gz (20 kB)\n",
            "  Preparing metadata (setup.py) ... \u001b[?25l\u001b[?25hdone\n",
            "Requirement already satisfied: wcwidth>=0.1.7 in /usr/local/lib/python3.8/dist-packages (from cmd2>=1.0.0->cliff->optuna) (0.2.5)\n",
            "Requirement already satisfied: attrs>=16.3.0 in /usr/local/lib/python3.8/dist-packages (from cmd2>=1.0.0->cliff->optuna) (22.2.0)\n",
            "Collecting pbr!=2.1.0,>=2.0.0\n",
            "  Downloading pbr-5.11.1-py2.py3-none-any.whl (112 kB)\n",
            "\u001b[2K     \u001b[90m━━━━━━━━━━━━━━━━━━━━━━━━━━━━━━━━━━━━━━\u001b[0m \u001b[32m112.7/112.7 KB\u001b[0m \u001b[31m10.6 MB/s\u001b[0m eta \u001b[36m0:00:00\u001b[0m\n",
            "\u001b[?25hRequirement already satisfied: MarkupSafe>=0.9.2 in /usr/local/lib/python3.8/dist-packages (from Mako->alembic>=1.5.0->optuna) (2.0.1)\n",
            "Building wheels for collected packages: pyperclip\n",
            "  Building wheel for pyperclip (setup.py) ... \u001b[?25l\u001b[?25hdone\n",
            "  Created wheel for pyperclip: filename=pyperclip-1.8.2-py3-none-any.whl size=11136 sha256=9d79ce1cc62075d154099a6b26e535fab268c328a2cb01c739a26026b2db2978\n",
            "  Stored in directory: /root/.cache/pip/wheels/7f/1a/65/84ff8c386bec21fca6d220ea1f5498a0367883a78dd5ba6122\n",
            "Successfully built pyperclip\n",
            "Installing collected packages: pyperclip, pbr, Mako, importlib-metadata, colorlog, cmd2, cmaes, autopage, stevedore, alembic, cliff, optuna\n",
            "  Attempting uninstall: importlib-metadata\n",
            "    Found existing installation: importlib-metadata 6.0.0\n",
            "    Uninstalling importlib-metadata-6.0.0:\n",
            "      Successfully uninstalled importlib-metadata-6.0.0\n",
            "Successfully installed Mako-1.2.4 alembic-1.9.2 autopage-0.5.1 cliff-4.1.0 cmaes-0.9.1 cmd2-2.4.2 colorlog-6.7.0 importlib-metadata-4.13.0 optuna-3.0.5 pbr-5.11.1 pyperclip-1.8.2 stevedore-4.1.1\n"
          ]
        }
      ],
      "source": [
        "!pip install optuna"
      ]
    },
    {
      "cell_type": "code",
      "source": [
        "import numpy as np\n",
        "import pandas as pd\n",
        "from pathlib import Path\n",
        "import lightgbm as lgb\n",
        "import datetime as dt\n",
        "import optuna\n",
        "import gc\n",
        "import warnings\n",
        "import random\n",
        "import os\n",
        "from functools import partial\n",
        "from scipy import stats\n",
        "\n",
        "warnings.simplefilter('ignore')"
      ],
      "metadata": {
        "id": "Xrp6OW5NV7in"
      },
      "execution_count": null,
      "outputs": []
    },
    {
      "cell_type": "code",
      "source": [
        "def fix_all_seeds(seed):\n",
        "    np.random.seed(seed)\n",
        "    random.seed(seed)\n",
        "    os.environ[\"PYTHONHASHSEED\"] = str(seed)\n",
        "    \n",
        "fix_all_seeds(0)"
      ],
      "metadata": {
        "id": "e3mWCHyvV9e4"
      },
      "execution_count": null,
      "outputs": []
    },
    {
      "cell_type": "markdown",
      "source": [
        "# データ読み込み"
      ],
      "metadata": {
        "id": "5RpNdxz9WDcW"
      }
    },
    {
      "cell_type": "code",
      "source": [
        "df_train_val = pd.read_pickle(\"/content/drive/MyDrive/Kaggle/花粉飛散量（ProbSpace）/proc/20221210/val24.pkl\")\n",
        "df_train_val.dropna(inplace=True)\n",
        "df_train_val.head()"
      ],
      "metadata": {
        "colab": {
          "base_uri": "https://localhost:8080/",
          "height": 504
        },
        "id": "AJ0aNm_DWE8-",
        "outputId": "a1154191-8415-43fe-ad51-396a2462b8e9"
      },
      "execution_count": null,
      "outputs": [
        {
          "output_type": "execute_result",
          "data": {
            "text/plain": [
              "                       datetime  precipitation_utsunomiya  \\\n",
              "datetime2                                                   \n",
              "2017-02-08 00:00:00  2017020724                       0.0   \n",
              "2017-02-08 01:00:00  2017020801                       0.0   \n",
              "2017-02-08 02:00:00  2017020802                       0.0   \n",
              "2017-02-08 03:00:00  2017020803                       0.0   \n",
              "2017-02-08 04:00:00  2017020804                       0.0   \n",
              "\n",
              "                     precipitation_chiba  precipitation_tokyo  \\\n",
              "datetime2                                                       \n",
              "2017-02-08 00:00:00                  0.0                  0.0   \n",
              "2017-02-08 01:00:00                  0.0                  0.0   \n",
              "2017-02-08 02:00:00                  0.0                  0.0   \n",
              "2017-02-08 03:00:00                  0.0                  0.0   \n",
              "2017-02-08 04:00:00                  0.0                  0.0   \n",
              "\n",
              "                     temperature_utsunomiya  temperature_chiba  \\\n",
              "datetime2                                                        \n",
              "2017-02-08 00:00:00                    -0.5                4.0   \n",
              "2017-02-08 01:00:00                    -1.1                3.9   \n",
              "2017-02-08 02:00:00                    -1.9                3.8   \n",
              "2017-02-08 03:00:00                    -2.4                3.7   \n",
              "2017-02-08 04:00:00                    -2.4                3.8   \n",
              "\n",
              "                     temperature_tokyo  winddirection_utsunomiya  \\\n",
              "datetime2                                                          \n",
              "2017-02-08 00:00:00                3.2                         6   \n",
              "2017-02-08 01:00:00                2.9                         5   \n",
              "2017-02-08 02:00:00                1.7                         3   \n",
              "2017-02-08 03:00:00                2.6                         7   \n",
              "2017-02-08 04:00:00                2.8                         3   \n",
              "\n",
              "                     winddirection_chiba  winddirection_tokyo  ...  \\\n",
              "datetime2                                                      ...   \n",
              "2017-02-08 00:00:00                 14.0                 15.0  ...   \n",
              "2017-02-08 01:00:00                 14.0                 14.0  ...   \n",
              "2017-02-08 02:00:00                 14.0                  1.0  ...   \n",
              "2017-02-08 03:00:00                 14.0                 13.0  ...   \n",
              "2017-02-08 04:00:00                 14.0                 14.0  ...   \n",
              "\n",
              "                     mean_temperature  mean_cumsum_temperature  \\\n",
              "datetime2                                                        \n",
              "2017-02-08 00:00:00          2.233333                40.581944   \n",
              "2017-02-08 01:00:00          1.900000                45.579167   \n",
              "2017-02-08 02:00:00          1.200000                45.579167   \n",
              "2017-02-08 03:00:00          1.300000                45.579167   \n",
              "2017-02-08 04:00:00          1.400000                45.579167   \n",
              "\n",
              "                     mean_windspeed  mean_zerocount_precipitation  \\\n",
              "datetime2                                                           \n",
              "2017-02-08 00:00:00        3.466667                      4.342150   \n",
              "2017-02-08 01:00:00        4.133333                      4.356890   \n",
              "2017-02-08 02:00:00        2.966667                      4.371377   \n",
              "2017-02-08 03:00:00        2.700000                      4.385619   \n",
              "2017-02-08 04:00:00        2.733333                      4.399627   \n",
              "\n",
              "                              utsunomiya_rising          utsunomiya_setting  \\\n",
              "datetime2                                                                     \n",
              "2017-02-08 00:00:00  2017-02-08 06:35:52.904637  2017-02-08 17:13:48.727028   \n",
              "2017-02-08 01:00:00  2017-02-08 06:35:52.904637  2017-02-08 17:13:48.727028   \n",
              "2017-02-08 02:00:00  2017-02-08 06:35:52.904637  2017-02-08 17:13:48.727028   \n",
              "2017-02-08 03:00:00  2017-02-08 06:35:52.904637  2017-02-08 17:13:48.727028   \n",
              "2017-02-08 04:00:00  2017-02-08 06:35:52.904637  2017-02-08 17:13:48.727028   \n",
              "\n",
              "                     seconds_since_rising  temp_transition_utsunomiya  \\\n",
              "datetime2                                                               \n",
              "2017-02-08 00:00:00              -23753.0                         0.1   \n",
              "2017-02-08 01:00:00              -20153.0                         0.0   \n",
              "2017-02-08 02:00:00              -16553.0                         0.0   \n",
              "2017-02-08 03:00:00              -12953.0                         0.0   \n",
              "2017-02-08 04:00:00               -9353.0                         0.0   \n",
              "\n",
              "                     temp_transition_tokyo  temp_transition_chiba  \n",
              "datetime2                                                          \n",
              "2017-02-08 00:00:00                    0.0                    0.0  \n",
              "2017-02-08 01:00:00                    0.0                    0.0  \n",
              "2017-02-08 02:00:00                    0.0                    0.0  \n",
              "2017-02-08 03:00:00                    0.9                    0.0  \n",
              "2017-02-08 04:00:00                    1.1                    0.1  \n",
              "\n",
              "[5 rows x 121 columns]"
            ],
            "text/html": [
              "\n",
              "  <div id=\"df-c84c5390-272b-42ca-8cda-a791ef02a207\">\n",
              "    <div class=\"colab-df-container\">\n",
              "      <div>\n",
              "<style scoped>\n",
              "    .dataframe tbody tr th:only-of-type {\n",
              "        vertical-align: middle;\n",
              "    }\n",
              "\n",
              "    .dataframe tbody tr th {\n",
              "        vertical-align: top;\n",
              "    }\n",
              "\n",
              "    .dataframe thead th {\n",
              "        text-align: right;\n",
              "    }\n",
              "</style>\n",
              "<table border=\"1\" class=\"dataframe\">\n",
              "  <thead>\n",
              "    <tr style=\"text-align: right;\">\n",
              "      <th></th>\n",
              "      <th>datetime</th>\n",
              "      <th>precipitation_utsunomiya</th>\n",
              "      <th>precipitation_chiba</th>\n",
              "      <th>precipitation_tokyo</th>\n",
              "      <th>temperature_utsunomiya</th>\n",
              "      <th>temperature_chiba</th>\n",
              "      <th>temperature_tokyo</th>\n",
              "      <th>winddirection_utsunomiya</th>\n",
              "      <th>winddirection_chiba</th>\n",
              "      <th>winddirection_tokyo</th>\n",
              "      <th>...</th>\n",
              "      <th>mean_temperature</th>\n",
              "      <th>mean_cumsum_temperature</th>\n",
              "      <th>mean_windspeed</th>\n",
              "      <th>mean_zerocount_precipitation</th>\n",
              "      <th>utsunomiya_rising</th>\n",
              "      <th>utsunomiya_setting</th>\n",
              "      <th>seconds_since_rising</th>\n",
              "      <th>temp_transition_utsunomiya</th>\n",
              "      <th>temp_transition_tokyo</th>\n",
              "      <th>temp_transition_chiba</th>\n",
              "    </tr>\n",
              "    <tr>\n",
              "      <th>datetime2</th>\n",
              "      <th></th>\n",
              "      <th></th>\n",
              "      <th></th>\n",
              "      <th></th>\n",
              "      <th></th>\n",
              "      <th></th>\n",
              "      <th></th>\n",
              "      <th></th>\n",
              "      <th></th>\n",
              "      <th></th>\n",
              "      <th></th>\n",
              "      <th></th>\n",
              "      <th></th>\n",
              "      <th></th>\n",
              "      <th></th>\n",
              "      <th></th>\n",
              "      <th></th>\n",
              "      <th></th>\n",
              "      <th></th>\n",
              "      <th></th>\n",
              "      <th></th>\n",
              "    </tr>\n",
              "  </thead>\n",
              "  <tbody>\n",
              "    <tr>\n",
              "      <th>2017-02-08 00:00:00</th>\n",
              "      <td>2017020724</td>\n",
              "      <td>0.0</td>\n",
              "      <td>0.0</td>\n",
              "      <td>0.0</td>\n",
              "      <td>-0.5</td>\n",
              "      <td>4.0</td>\n",
              "      <td>3.2</td>\n",
              "      <td>6</td>\n",
              "      <td>14.0</td>\n",
              "      <td>15.0</td>\n",
              "      <td>...</td>\n",
              "      <td>2.233333</td>\n",
              "      <td>40.581944</td>\n",
              "      <td>3.466667</td>\n",
              "      <td>4.342150</td>\n",
              "      <td>2017-02-08 06:35:52.904637</td>\n",
              "      <td>2017-02-08 17:13:48.727028</td>\n",
              "      <td>-23753.0</td>\n",
              "      <td>0.1</td>\n",
              "      <td>0.0</td>\n",
              "      <td>0.0</td>\n",
              "    </tr>\n",
              "    <tr>\n",
              "      <th>2017-02-08 01:00:00</th>\n",
              "      <td>2017020801</td>\n",
              "      <td>0.0</td>\n",
              "      <td>0.0</td>\n",
              "      <td>0.0</td>\n",
              "      <td>-1.1</td>\n",
              "      <td>3.9</td>\n",
              "      <td>2.9</td>\n",
              "      <td>5</td>\n",
              "      <td>14.0</td>\n",
              "      <td>14.0</td>\n",
              "      <td>...</td>\n",
              "      <td>1.900000</td>\n",
              "      <td>45.579167</td>\n",
              "      <td>4.133333</td>\n",
              "      <td>4.356890</td>\n",
              "      <td>2017-02-08 06:35:52.904637</td>\n",
              "      <td>2017-02-08 17:13:48.727028</td>\n",
              "      <td>-20153.0</td>\n",
              "      <td>0.0</td>\n",
              "      <td>0.0</td>\n",
              "      <td>0.0</td>\n",
              "    </tr>\n",
              "    <tr>\n",
              "      <th>2017-02-08 02:00:00</th>\n",
              "      <td>2017020802</td>\n",
              "      <td>0.0</td>\n",
              "      <td>0.0</td>\n",
              "      <td>0.0</td>\n",
              "      <td>-1.9</td>\n",
              "      <td>3.8</td>\n",
              "      <td>1.7</td>\n",
              "      <td>3</td>\n",
              "      <td>14.0</td>\n",
              "      <td>1.0</td>\n",
              "      <td>...</td>\n",
              "      <td>1.200000</td>\n",
              "      <td>45.579167</td>\n",
              "      <td>2.966667</td>\n",
              "      <td>4.371377</td>\n",
              "      <td>2017-02-08 06:35:52.904637</td>\n",
              "      <td>2017-02-08 17:13:48.727028</td>\n",
              "      <td>-16553.0</td>\n",
              "      <td>0.0</td>\n",
              "      <td>0.0</td>\n",
              "      <td>0.0</td>\n",
              "    </tr>\n",
              "    <tr>\n",
              "      <th>2017-02-08 03:00:00</th>\n",
              "      <td>2017020803</td>\n",
              "      <td>0.0</td>\n",
              "      <td>0.0</td>\n",
              "      <td>0.0</td>\n",
              "      <td>-2.4</td>\n",
              "      <td>3.7</td>\n",
              "      <td>2.6</td>\n",
              "      <td>7</td>\n",
              "      <td>14.0</td>\n",
              "      <td>13.0</td>\n",
              "      <td>...</td>\n",
              "      <td>1.300000</td>\n",
              "      <td>45.579167</td>\n",
              "      <td>2.700000</td>\n",
              "      <td>4.385619</td>\n",
              "      <td>2017-02-08 06:35:52.904637</td>\n",
              "      <td>2017-02-08 17:13:48.727028</td>\n",
              "      <td>-12953.0</td>\n",
              "      <td>0.0</td>\n",
              "      <td>0.9</td>\n",
              "      <td>0.0</td>\n",
              "    </tr>\n",
              "    <tr>\n",
              "      <th>2017-02-08 04:00:00</th>\n",
              "      <td>2017020804</td>\n",
              "      <td>0.0</td>\n",
              "      <td>0.0</td>\n",
              "      <td>0.0</td>\n",
              "      <td>-2.4</td>\n",
              "      <td>3.8</td>\n",
              "      <td>2.8</td>\n",
              "      <td>3</td>\n",
              "      <td>14.0</td>\n",
              "      <td>14.0</td>\n",
              "      <td>...</td>\n",
              "      <td>1.400000</td>\n",
              "      <td>45.579167</td>\n",
              "      <td>2.733333</td>\n",
              "      <td>4.399627</td>\n",
              "      <td>2017-02-08 06:35:52.904637</td>\n",
              "      <td>2017-02-08 17:13:48.727028</td>\n",
              "      <td>-9353.0</td>\n",
              "      <td>0.0</td>\n",
              "      <td>1.1</td>\n",
              "      <td>0.1</td>\n",
              "    </tr>\n",
              "  </tbody>\n",
              "</table>\n",
              "<p>5 rows × 121 columns</p>\n",
              "</div>\n",
              "      <button class=\"colab-df-convert\" onclick=\"convertToInteractive('df-c84c5390-272b-42ca-8cda-a791ef02a207')\"\n",
              "              title=\"Convert this dataframe to an interactive table.\"\n",
              "              style=\"display:none;\">\n",
              "        \n",
              "  <svg xmlns=\"http://www.w3.org/2000/svg\" height=\"24px\"viewBox=\"0 0 24 24\"\n",
              "       width=\"24px\">\n",
              "    <path d=\"M0 0h24v24H0V0z\" fill=\"none\"/>\n",
              "    <path d=\"M18.56 5.44l.94 2.06.94-2.06 2.06-.94-2.06-.94-.94-2.06-.94 2.06-2.06.94zm-11 1L8.5 8.5l.94-2.06 2.06-.94-2.06-.94L8.5 2.5l-.94 2.06-2.06.94zm10 10l.94 2.06.94-2.06 2.06-.94-2.06-.94-.94-2.06-.94 2.06-2.06.94z\"/><path d=\"M17.41 7.96l-1.37-1.37c-.4-.4-.92-.59-1.43-.59-.52 0-1.04.2-1.43.59L10.3 9.45l-7.72 7.72c-.78.78-.78 2.05 0 2.83L4 21.41c.39.39.9.59 1.41.59.51 0 1.02-.2 1.41-.59l7.78-7.78 2.81-2.81c.8-.78.8-2.07 0-2.86zM5.41 20L4 18.59l7.72-7.72 1.47 1.35L5.41 20z\"/>\n",
              "  </svg>\n",
              "      </button>\n",
              "      \n",
              "  <style>\n",
              "    .colab-df-container {\n",
              "      display:flex;\n",
              "      flex-wrap:wrap;\n",
              "      gap: 12px;\n",
              "    }\n",
              "\n",
              "    .colab-df-convert {\n",
              "      background-color: #E8F0FE;\n",
              "      border: none;\n",
              "      border-radius: 50%;\n",
              "      cursor: pointer;\n",
              "      display: none;\n",
              "      fill: #1967D2;\n",
              "      height: 32px;\n",
              "      padding: 0 0 0 0;\n",
              "      width: 32px;\n",
              "    }\n",
              "\n",
              "    .colab-df-convert:hover {\n",
              "      background-color: #E2EBFA;\n",
              "      box-shadow: 0px 1px 2px rgba(60, 64, 67, 0.3), 0px 1px 3px 1px rgba(60, 64, 67, 0.15);\n",
              "      fill: #174EA6;\n",
              "    }\n",
              "\n",
              "    [theme=dark] .colab-df-convert {\n",
              "      background-color: #3B4455;\n",
              "      fill: #D2E3FC;\n",
              "    }\n",
              "\n",
              "    [theme=dark] .colab-df-convert:hover {\n",
              "      background-color: #434B5C;\n",
              "      box-shadow: 0px 1px 3px 1px rgba(0, 0, 0, 0.15);\n",
              "      filter: drop-shadow(0px 1px 2px rgba(0, 0, 0, 0.3));\n",
              "      fill: #FFFFFF;\n",
              "    }\n",
              "  </style>\n",
              "\n",
              "      <script>\n",
              "        const buttonEl =\n",
              "          document.querySelector('#df-c84c5390-272b-42ca-8cda-a791ef02a207 button.colab-df-convert');\n",
              "        buttonEl.style.display =\n",
              "          google.colab.kernel.accessAllowed ? 'block' : 'none';\n",
              "\n",
              "        async function convertToInteractive(key) {\n",
              "          const element = document.querySelector('#df-c84c5390-272b-42ca-8cda-a791ef02a207');\n",
              "          const dataTable =\n",
              "            await google.colab.kernel.invokeFunction('convertToInteractive',\n",
              "                                                     [key], {});\n",
              "          if (!dataTable) return;\n",
              "\n",
              "          const docLinkHtml = 'Like what you see? Visit the ' +\n",
              "            '<a target=\"_blank\" href=https://colab.research.google.com/notebooks/data_table.ipynb>data table notebook</a>'\n",
              "            + ' to learn more about interactive tables.';\n",
              "          element.innerHTML = '';\n",
              "          dataTable['output_type'] = 'display_data';\n",
              "          await google.colab.output.renderOutput(dataTable, element);\n",
              "          const docLink = document.createElement('div');\n",
              "          docLink.innerHTML = docLinkHtml;\n",
              "          element.appendChild(docLink);\n",
              "        }\n",
              "      </script>\n",
              "    </div>\n",
              "  </div>\n",
              "  "
            ]
          },
          "metadata": {},
          "execution_count": 5
        }
      ]
    },
    {
      "cell_type": "markdown",
      "source": [
        "# 特徴量"
      ],
      "metadata": {
        "id": "VJOWsQLKWNGR"
      }
    },
    {
      "cell_type": "code",
      "source": [
        "features = ['std18hours_windspeed_utsunomiya',\n",
        " 'MSUM12hours_log_precipitation_tokyo',\n",
        " 'log_precipitation_tokyo',\n",
        " 'log_precipitation_chiba',\n",
        " 'windspeed_chiba_EW',\n",
        " 'MA7days_temperature_utsunomiya',\n",
        " 'MSUM24hours_log_precipitation_chiba',\n",
        " 'std18hours_windspeed_chiba_NS',\n",
        " 'diffMA3_cumsum_temperature_utsunomiya',\n",
        " 'windspeed_tokyo_NS',\n",
        " 'MA18hours_windspeed_chiba',\n",
        " 'zerocount_precipitation_chiba',\n",
        " 'hour',\n",
        " 'MA18hours_windspeed_utsunomiya_NS',\n",
        " 'mean_zerocount_precipitation',\n",
        " 'MA18hours_windspeed_utsunomiya_EW',\n",
        " 'std18hours_windspeed_chiba_EW',\n",
        " 'temperature_chiba',\n",
        " 'std18hours_windspeed_utsunomiya_EW',\n",
        " 'mean_log_precipitation',\n",
        " 'shiftRatio_diffMA3_cumsum_temperature_utsunomiya',\n",
        " 'maxmin_temperature_utsunomiya',\n",
        " 'MSUM48hours_log_precipitation_tokyo',\n",
        " 'MSUM12hours_log_precipitation_chiba',\n",
        " 'MSUM12hours_log_precipitation_utsunomiya',\n",
        " 'maxmin_temperature_chiba',\n",
        " 'minmax_temperature_utsunomiya',\n",
        " 'windspeed_utsunomiya_EW',\n",
        " 'windspeed_utsunomiya',\n",
        " 'MA7days_temperature_tokyo',\n",
        " 'MA18hours_windspeed_tokyo_NS',\n",
        " 'minmax_temperature_chiba',\n",
        " 'MA18hours_windspeed_utsunomiya',\n",
        " 'mean_windspeed',\n",
        " 'maxmin_temperature_tokyo',\n",
        " 'seconds_since_rising',\n",
        " 'MA18hours_windspeed_tokyo',\n",
        " 'mean_cumsum_temperature',\n",
        " 'zerocount_precipitation_tokyo',\n",
        " 'windspeed_utsunomiya_NS',\n",
        " 'MA18hours_windspeed_chiba_EW',\n",
        " 'std18hours_windspeed_tokyo',\n",
        " 'zerocount_precipitation_utsunomiya',\n",
        " 'MA18hours_windspeed_tokyo_EW',\n",
        " 'diff1_cumsum_pollen_ratio_fitted_chiba',\n",
        " 'shiftRatio_diffMA3_cumsum_temperature_chiba',\n",
        " 'windspeed_tokyo',\n",
        " 'minmax_temperature_tokyo',\n",
        " 'MSUM24hours_log_precipitation_tokyo',\n",
        " 'MA7days_temperature_chiba',\n",
        " 'std18hours_windspeed_tokyo_EW',\n",
        " 'std18hours_windspeed_utsunomiya_NS',\n",
        " 'windspeed_chiba_NS',\n",
        " 'MSUM48hours_log_precipitation_utsunomiya',\n",
        " 'MSUM48hours_log_precipitation_chiba',\n",
        " 'log_precipitation_utsunomiya',\n",
        " 'std18hours_windspeed_tokyo_NS',\n",
        " 'MA18hours_windspeed_chiba_NS',\n",
        " 'MSUM24hours_log_precipitation_utsunomiya',\n",
        " 'std18hours_windspeed_chiba',\n",
        " 'windspeed_chiba',\n",
        " 'shiftRatio_diffMA3_cumsum_temperature_tokyo',\n",
        " 'windspeed_tokyo_EW']\n",
        "\n",
        "print(\"特徴量の数：\", len(features))"
      ],
      "metadata": {
        "colab": {
          "base_uri": "https://localhost:8080/"
        },
        "id": "F1b043aDWL4J",
        "outputId": "a3cd85de-40b9-4803-a2a5-e0c7601b2b8b"
      },
      "execution_count": null,
      "outputs": [
        {
          "output_type": "stream",
          "name": "stdout",
          "text": [
            "特徴量の数： 63\n"
          ]
        }
      ]
    },
    {
      "cell_type": "markdown",
      "source": [
        "# Optuna"
      ],
      "metadata": {
        "id": "rJtYu-REWhTc"
      }
    },
    {
      "cell_type": "code",
      "source": [
        "def my_kfold(df):\n",
        "    idx = df.index\n",
        "    cv = []\n",
        "    train_idx1 = (idx < dt.datetime(2018, 4, 1))\n",
        "    val_idx1 = (idx >= dt.datetime(2018, 4, 1))&\\\n",
        "               (idx < dt.datetime(2018, 4, 15))\n",
        "    cv.append([train_idx1, val_idx1])\n",
        "    train_idx2 = (idx < dt.datetime(2018, 4, 15))\n",
        "    val_idx2 = (idx >= dt.datetime(2018, 4, 15))&\\\n",
        "               (idx < dt.datetime(2018, 4, 29))\n",
        "    cv.append([train_idx2, val_idx2])\n",
        "    train_idx3 = (idx < dt.datetime(2019, 4, 1))\n",
        "    val_idx3 = (idx >= dt.datetime(2019, 4, 1))&\\\n",
        "               (idx < dt.datetime(2019, 4, 15))\n",
        "    cv.append([train_idx3, val_idx3])\n",
        "    train_idx4 = (idx < dt.datetime(2019, 4, 15))\n",
        "    val_idx4 = (idx >= dt.datetime(2019, 4, 15))&\\\n",
        "               (idx < dt.datetime(2019, 4, 29))\n",
        "    cv.append([train_idx4, val_idx4])\n",
        "    return cv"
      ],
      "metadata": {
        "id": "R92B5mVYWbz9"
      },
      "execution_count": null,
      "outputs": []
    },
    {
      "cell_type": "code",
      "source": [
        "def objective(X, y, y_raw, cv_indicies, trial):\n",
        "\n",
        "    # Optuna suggest params\n",
        "    params = {\n",
        "        # \"extra_trees\": True,\n",
        "        'objective': 'fair',\n",
        "        'metric': 'fair',\n",
        "        'boosting_type': 'gbdt',\n",
        "        'max_depth': trial.suggest_int('max_depth', 3, 27),\n",
        "        'n_estimators': trial.suggest_int('n_estimators', 100, 3000),\n",
        "        'learning_rate': trial.suggest_uniform('learning_rate', 0.002, 0.10),\n",
        "#         'lambda_l1': trial.suggest_loguniform('lambda_l1', 0.05, 10.0),\n",
        "        'lambda_l2': trial.suggest_loguniform('lambda_l2', 0.05, 10.0),\n",
        "        'num_leaves': trial.suggest_int('num_leaves', 5, 256),\n",
        "        'colsample_bytree': trial.suggest_uniform('colsample_bytree', 0.3, 0.8),\n",
        "        # 'subsample': trial.suggest_uniform('subsample', 0.4, 0.9),\n",
        "#         'subsample_freq': trial.suggest_int('subsample_freq', 1, 7),\n",
        "#         'min_child_samples': trial.suggest_int('min_child_samples', 5, 100),\n",
        "        \"verbose\": -1,\n",
        "        'seed': 46,\n",
        "        \"n_jobs\": -1\n",
        "    }\n",
        "\n",
        "    # FN_ratio = trial.suggest_uniform('FN_ratio', 0, 1)\n",
        "    \n",
        "    scores = []\n",
        "    for train_idx, val_idx in cv_indicies:\n",
        "        X_train = X[train_idx]\n",
        "        y_train = y[train_idx]\n",
        "        X_val = X[val_idx]\n",
        "        y_val = y[val_idx]\n",
        "        y_val_raw = y_raw[val_idx]\n",
        "       \n",
        "        train_dataset = lgb.Dataset(X_train, y_train, feature_name=features)\n",
        "        \n",
        "        model = lgb.train(params, train_dataset)\n",
        "        y_pred = model.predict(X_val)\n",
        "        y_pred = np.expm1(y_pred)\n",
        "        y_pred[y_pred<0] = 0\n",
        "        y_pred = np.round(y_pred) * 4\n",
        "\n",
        "        mae = np.mean(np.abs(y_val_raw - y_pred))\n",
        "        scores.append(mae)\n",
        "    print(\"Scores:\", scores)\n",
        "    return np.average(scores)"
      ],
      "metadata": {
        "id": "ArB_Z-fNWrS0"
      },
      "execution_count": null,
      "outputs": []
    },
    {
      "cell_type": "markdown",
      "source": [
        "# 宇都宮"
      ],
      "metadata": {
        "id": "OuUXtmoGnGsd"
      }
    },
    {
      "cell_type": "code",
      "source": [
        "cv_indicies = my_kfold(df_train_val)\n",
        "\n",
        "train_val_X = df_train_val[features].values\n",
        "train_val_y = df_train_val[\"log_pollen_utsunomiya\"].values\n",
        "train_val_y_raw = df_train_val[\"pollen_utsunomiya\"].values\n",
        "# S_code = price_features[[\"Code\"]]\n",
        "\n",
        "# del df_train_val\n",
        "# gc.collect()"
      ],
      "metadata": {
        "id": "PPp7xm8uXXDs"
      },
      "execution_count": null,
      "outputs": []
    },
    {
      "cell_type": "code",
      "source": [
        "f = partial(objective,\n",
        "            train_val_X,\n",
        "            train_val_y,\n",
        "            train_val_y_raw,\n",
        "            cv_indicies)\n",
        "study = optuna.create_study(direction=\"minimize\")\n",
        "study.optimize(f, n_trials=100)\n",
        "\n",
        "trial = study.best_trial\n",
        "\n",
        "print(\"  Value: {}\".format(trial.value))\n",
        "\n",
        "print(\"  Params: \")\n",
        "for key, value in trial.params.items():\n",
        "    print(\"    {}: {}\".format(key, value))\n",
        "best_params = trial.params  "
      ],
      "metadata": {
        "colab": {
          "base_uri": "https://localhost:8080/"
        },
        "id": "xcpgZ0kqXj7b",
        "outputId": "8bd678f6-793a-491f-aac1-675a53149a36"
      },
      "execution_count": null,
      "outputs": [
        {
          "output_type": "stream",
          "name": "stderr",
          "text": [
            "\u001b[32m[I 2023-01-08 22:41:58,480]\u001b[0m A new study created in memory with name: no-name-5ec972b0-e596-4b21-8a8e-a1dcce952629\u001b[0m\n",
            "\u001b[32m[I 2023-01-08 22:44:19,097]\u001b[0m Trial 0 finished with value: 11.175204387111618 and parameters: {'max_depth': 27, 'n_estimators': 1977, 'learning_rate': 0.06778984774717976, 'lambda_l2': 0.33841507645435304, 'num_leaves': 252, 'colsample_bytree': 0.36309312940708416}. Best is trial 0 with value: 11.175204387111618.\u001b[0m\n"
          ]
        },
        {
          "output_type": "stream",
          "name": "stdout",
          "text": [
            "Scores: [16.08900671125707, 5.480742849154305, 15.945257054295986, 7.185810933739114]\n"
          ]
        },
        {
          "output_type": "stream",
          "name": "stderr",
          "text": [
            "\u001b[32m[I 2023-01-08 22:44:27,445]\u001b[0m Trial 1 finished with value: 10.780429138285132 and parameters: {'max_depth': 8, 'n_estimators': 371, 'learning_rate': 0.027549967818334305, 'lambda_l2': 5.474191036388837, 'num_leaves': 20, 'colsample_bytree': 0.7759477304725235}. Best is trial 1 with value: 10.780429138285132.\u001b[0m\n"
          ]
        },
        {
          "output_type": "stream",
          "name": "stdout",
          "text": [
            "Scores: [15.038613993697144, 5.353272472091476, 15.670440762363686, 7.059389324988228]\n"
          ]
        },
        {
          "output_type": "stream",
          "name": "stderr",
          "text": [
            "\u001b[32m[I 2023-01-08 22:45:17,644]\u001b[0m Trial 2 finished with value: 11.347468782865185 and parameters: {'max_depth': 5, 'n_estimators': 2943, 'learning_rate': 0.06078280206588705, 'lambda_l2': 0.6120252988199267, 'num_leaves': 211, 'colsample_bytree': 0.7720504852245931}. Best is trial 1 with value: 10.780429138285132.\u001b[0m\n"
          ]
        },
        {
          "output_type": "stream",
          "name": "stdout",
          "text": [
            "Scores: [15.321042112730057, 5.9346694580313075, 16.76464714077962, 7.369516419919762]\n"
          ]
        },
        {
          "output_type": "stream",
          "name": "stderr",
          "text": [
            "\u001b[32m[I 2023-01-08 22:48:58,929]\u001b[0m Trial 3 finished with value: 11.120873218999364 and parameters: {'max_depth': 23, 'n_estimators': 2701, 'learning_rate': 0.040910634801706806, 'lambda_l2': 1.762355459665484, 'num_leaves': 134, 'colsample_bytree': 0.7056972134052623}. Best is trial 1 with value: 10.780429138285132.\u001b[0m\n"
          ]
        },
        {
          "output_type": "stream",
          "name": "stdout",
          "text": [
            "Scores: [15.57975813479808, 5.736739174996113, 15.922723052475076, 7.244272513728184]\n"
          ]
        },
        {
          "output_type": "stream",
          "name": "stderr",
          "text": [
            "\u001b[32m[I 2023-01-08 22:49:10,853]\u001b[0m Trial 4 finished with value: 10.755427343308858 and parameters: {'max_depth': 20, 'n_estimators': 361, 'learning_rate': 0.05792410729096616, 'lambda_l2': 2.583446556020335, 'num_leaves': 31, 'colsample_bytree': 0.5991746116165291}. Best is trial 4 with value: 10.755427343308858.\u001b[0m\n"
          ]
        },
        {
          "output_type": "stream",
          "name": "stdout",
          "text": [
            "Scores: [14.760437070849477, 5.2872556654369, 15.828949282535381, 7.145067354413667]\n"
          ]
        },
        {
          "output_type": "stream",
          "name": "stderr",
          "text": [
            "\u001b[32m[I 2023-01-08 22:49:58,916]\u001b[0m Trial 5 finished with value: 11.196413327527797 and parameters: {'max_depth': 10, 'n_estimators': 1221, 'learning_rate': 0.04585031428167787, 'lambda_l2': 0.22784041790568135, 'num_leaves': 116, 'colsample_bytree': 0.60050289812367}. Best is trial 4 with value: 10.755427343308858.\u001b[0m\n"
          ]
        },
        {
          "output_type": "stream",
          "name": "stdout",
          "text": [
            "Scores: [15.864707162292305, 5.811080329302355, 15.810274955593215, 7.29959086292331]\n"
          ]
        },
        {
          "output_type": "stream",
          "name": "stderr",
          "text": [
            "\u001b[32m[I 2023-01-08 22:52:31,688]\u001b[0m Trial 6 finished with value: 10.848591748387769 and parameters: {'max_depth': 21, 'n_estimators': 2578, 'learning_rate': 0.03436556788182367, 'lambda_l2': 0.9466051085204059, 'num_leaves': 255, 'colsample_bytree': 0.41192921207631694}. Best is trial 4 with value: 10.755427343308858.\u001b[0m\n"
          ]
        },
        {
          "output_type": "stream",
          "name": "stdout",
          "text": [
            "Scores: [15.397734982448956, 5.084447155537582, 15.685908626887018, 7.2262762286775235]\n"
          ]
        },
        {
          "output_type": "stream",
          "name": "stderr",
          "text": [
            "\u001b[32m[I 2023-01-08 22:52:43,122]\u001b[0m Trial 7 finished with value: 10.965401148729962 and parameters: {'max_depth': 12, 'n_estimators': 130, 'learning_rate': 0.02390036597179738, 'lambda_l2': 0.21155411960151613, 'num_leaves': 171, 'colsample_bytree': 0.6264924468656117}. Best is trial 4 with value: 10.755427343308858.\u001b[0m\n"
          ]
        },
        {
          "output_type": "stream",
          "name": "stdout",
          "text": [
            "Scores: [15.740376468946092, 5.293163117980946, 15.546524596956935, 7.281540411035867]\n"
          ]
        },
        {
          "output_type": "stream",
          "name": "stderr",
          "text": [
            "\u001b[32m[I 2023-01-08 22:53:05,371]\u001b[0m Trial 8 finished with value: 11.102401992980733 and parameters: {'max_depth': 15, 'n_estimators': 307, 'learning_rate': 0.08201923426040185, 'lambda_l2': 2.0409320848243833, 'num_leaves': 190, 'colsample_bytree': 0.7136319013133794}. Best is trial 4 with value: 10.755427343308858.\u001b[0m\n"
          ]
        },
        {
          "output_type": "stream",
          "name": "stdout",
          "text": [
            "Scores: [15.530164889645706, 5.844287863092349, 15.559435248429299, 7.475719970755575]\n"
          ]
        },
        {
          "output_type": "stream",
          "name": "stderr",
          "text": [
            "\u001b[32m[I 2023-01-08 22:54:39,287]\u001b[0m Trial 9 finished with value: 11.129537346684478 and parameters: {'max_depth': 9, 'n_estimators': 2694, 'learning_rate': 0.0868598341229948, 'lambda_l2': 3.3324326594508613, 'num_leaves': 98, 'colsample_bytree': 0.5926819422377496}. Best is trial 4 with value: 10.755427343308858.\u001b[0m\n"
          ]
        },
        {
          "output_type": "stream",
          "name": "stdout",
          "text": [
            "Scores: [15.981427743048972, 5.391231509308007, 15.575821985147757, 7.569668149233174]\n"
          ]
        },
        {
          "output_type": "stream",
          "name": "stderr",
          "text": [
            "\u001b[32m[I 2023-01-08 22:54:45,541]\u001b[0m Trial 10 finished with value: 10.920005321139676 and parameters: {'max_depth': 18, 'n_estimators': 1045, 'learning_rate': 0.0026051577505821766, 'lambda_l2': 0.06443662511639126, 'num_leaves': 5, 'colsample_bytree': 0.4738930318279533}. Best is trial 4 with value: 10.755427343308858.\u001b[0m\n"
          ]
        },
        {
          "output_type": "stream",
          "name": "stdout",
          "text": [
            "Scores: [15.659282284124856, 4.365074204161454, 15.791741067236753, 7.863923729035651]\n"
          ]
        },
        {
          "output_type": "stream",
          "name": "stderr",
          "text": [
            "\u001b[32m[I 2023-01-08 22:54:49,325]\u001b[0m Trial 11 finished with value: 10.548458061036161 and parameters: {'max_depth': 3, 'n_estimators': 684, 'learning_rate': 0.016862349767287572, 'lambda_l2': 9.278636121320465, 'num_leaves': 6, 'colsample_bytree': 0.4955916290396917}. Best is trial 11 with value: 10.548458061036161.\u001b[0m\n"
          ]
        },
        {
          "output_type": "stream",
          "name": "stdout",
          "text": [
            "Scores: [14.762743366094346, 4.402641566961627, 15.629893254778612, 7.3985540563100605]\n"
          ]
        },
        {
          "output_type": "stream",
          "name": "stderr",
          "text": [
            "\u001b[32m[I 2023-01-08 22:54:54,520]\u001b[0m Trial 12 finished with value: 10.866807684905927 and parameters: {'max_depth': 3, 'n_estimators': 785, 'learning_rate': 0.0036693574378138735, 'lambda_l2': 9.852623237540103, 'num_leaves': 52, 'colsample_bytree': 0.5182845447082169}. Best is trial 11 with value: 10.548458061036161.\u001b[0m\n"
          ]
        },
        {
          "output_type": "stream",
          "name": "stdout",
          "text": [
            "Scores: [15.398864585530243, 4.5356514157549475, 15.619510016416859, 7.913204721921661]\n"
          ]
        },
        {
          "output_type": "stream",
          "name": "stderr",
          "text": [
            "\u001b[32m[I 2023-01-08 22:55:50,968]\u001b[0m Trial 13 finished with value: 11.247436367545198 and parameters: {'max_depth': 16, 'n_estimators': 1668, 'learning_rate': 0.06415023020333847, 'lambda_l2': 9.730196583171352, 'num_leaves': 59, 'colsample_bytree': 0.4646485334095268}. Best is trial 11 with value: 10.548458061036161.\u001b[0m\n"
          ]
        },
        {
          "output_type": "stream",
          "name": "stdout",
          "text": [
            "Scores: [16.158988036553133, 5.341442426947454, 16.371637622091882, 7.117677384588324]\n"
          ]
        },
        {
          "output_type": "stream",
          "name": "stderr",
          "text": [
            "\u001b[32m[I 2023-01-08 22:56:06,253]\u001b[0m Trial 14 finished with value: 10.894815186850698 and parameters: {'max_depth': 21, 'n_estimators': 666, 'learning_rate': 0.021602849286467475, 'lambda_l2': 4.120772666951812, 'num_leaves': 55, 'colsample_bytree': 0.3004476157678586}. Best is trial 11 with value: 10.548458061036161.\u001b[0m\n"
          ]
        },
        {
          "output_type": "stream",
          "name": "stdout",
          "text": [
            "Scores: [15.130637003062272, 5.008514924567501, 16.317998287630253, 7.122110532142764]\n"
          ]
        },
        {
          "output_type": "stream",
          "name": "stderr",
          "text": [
            "\u001b[32m[I 2023-01-08 22:56:23,629]\u001b[0m Trial 15 finished with value: 10.943437673141085 and parameters: {'max_depth': 26, 'n_estimators': 679, 'learning_rate': 0.05388130981961652, 'lambda_l2': 1.7769671309573827, 'num_leaves': 31, 'colsample_bytree': 0.65566661060681}. Best is trial 11 with value: 10.548458061036161.\u001b[0m\n"
          ]
        },
        {
          "output_type": "stream",
          "name": "stdout",
          "text": [
            "Scores: [15.54190409445415, 5.196679216808671, 15.722866082420609, 7.312301298880913]\n"
          ]
        },
        {
          "output_type": "stream",
          "name": "stderr",
          "text": [
            "\u001b[32m[I 2023-01-08 22:57:34,383]\u001b[0m Trial 16 finished with value: 10.860547830282904 and parameters: {'max_depth': 14, 'n_estimators': 1513, 'learning_rate': 0.012320358910316192, 'lambda_l2': 5.792363468763205, 'num_leaves': 82, 'colsample_bytree': 0.5282296502500774}. Best is trial 11 with value: 10.548458061036161.\u001b[0m\n"
          ]
        },
        {
          "output_type": "stream",
          "name": "stdout",
          "text": [
            "Scores: [14.982292395151484, 5.397288395373533, 15.902137433689765, 7.16047309691683]\n"
          ]
        },
        {
          "output_type": "stream",
          "name": "stderr",
          "text": [
            "\u001b[32m[I 2023-01-08 22:57:41,215]\u001b[0m Trial 17 finished with value: 11.308951709353614 and parameters: {'max_depth': 20, 'n_estimators': 1178, 'learning_rate': 0.07436165466131481, 'lambda_l2': 2.6939366150167894, 'num_leaves': 5, 'colsample_bytree': 0.5563968552633406}. Best is trial 11 with value: 10.548458061036161.\u001b[0m\n"
          ]
        },
        {
          "output_type": "stream",
          "name": "stdout",
          "text": [
            "Scores: [16.027181225959627, 5.824471170998356, 16.205594573192933, 7.178559867263543]\n"
          ]
        },
        {
          "output_type": "stream",
          "name": "stderr",
          "text": [
            "\u001b[32m[I 2023-01-08 22:57:48,845]\u001b[0m Trial 18 finished with value: 11.301201539627051 and parameters: {'max_depth': 6, 'n_estimators': 486, 'learning_rate': 0.09724086274033059, 'lambda_l2': 0.6932943327338869, 'num_leaves': 140, 'colsample_bytree': 0.46075773210113763}. Best is trial 11 with value: 10.548458061036161.\u001b[0m\n"
          ]
        },
        {
          "output_type": "stream",
          "name": "stdout",
          "text": [
            "Scores: [15.720100955702966, 5.639707579376942, 16.164371344459678, 7.680626278968615]\n"
          ]
        },
        {
          "output_type": "stream",
          "name": "stderr",
          "text": [
            "\u001b[32m[I 2023-01-08 22:58:43,516]\u001b[0m Trial 19 finished with value: 11.149134732651296 and parameters: {'max_depth': 24, 'n_estimators': 942, 'learning_rate': 0.05516578725103094, 'lambda_l2': 1.2882191166129422, 'num_leaves': 80, 'colsample_bytree': 0.6760214564895997}. Best is trial 11 with value: 10.548458061036161.\u001b[0m\n"
          ]
        },
        {
          "output_type": "stream",
          "name": "stdout",
          "text": [
            "Scores: [15.957279535018849, 5.520066845714638, 15.816433157573803, 7.302759392297893]\n"
          ]
        },
        {
          "output_type": "stream",
          "name": "stderr",
          "text": [
            "\u001b[32m[I 2023-01-08 22:58:47,924]\u001b[0m Trial 20 finished with value: 10.852788591770484 and parameters: {'max_depth': 18, 'n_estimators': 155, 'learning_rate': 0.04558467679390687, 'lambda_l2': 7.200411318046815, 'num_leaves': 31, 'colsample_bytree': 0.5714957117109372}. Best is trial 11 with value: 10.548458061036161.\u001b[0m\n"
          ]
        },
        {
          "output_type": "stream",
          "name": "stdout",
          "text": [
            "Scores: [15.149392222326666, 5.425961989510157, 15.77526556562922, 7.060534589615891]\n"
          ]
        },
        {
          "output_type": "stream",
          "name": "stderr",
          "text": [
            "\u001b[32m[I 2023-01-08 22:58:59,945]\u001b[0m Trial 21 finished with value: 10.781400244348056 and parameters: {'max_depth': 7, 'n_estimators': 467, 'learning_rate': 0.02804385858599662, 'lambda_l2': 4.875708548714717, 'num_leaves': 27, 'colsample_bytree': 0.7966878221061909}. Best is trial 11 with value: 10.548458061036161.\u001b[0m\n"
          ]
        },
        {
          "output_type": "stream",
          "name": "stdout",
          "text": [
            "Scores: [14.6461182451445, 5.7590474789584665, 15.549339861025032, 7.171095392264225]\n"
          ]
        },
        {
          "output_type": "stream",
          "name": "stderr",
          "text": [
            "\u001b[32m[I 2023-01-08 22:59:03,644]\u001b[0m Trial 22 finished with value: 10.542244946236337 and parameters: {'max_depth': 3, 'n_estimators': 432, 'learning_rate': 0.01406072675931595, 'lambda_l2': 3.301929355227527, 'num_leaves': 23, 'colsample_bytree': 0.7445078187549831}. Best is trial 22 with value: 10.542244946236337.\u001b[0m\n"
          ]
        },
        {
          "output_type": "stream",
          "name": "stdout",
          "text": [
            "Scores: [14.528310829040912, 4.526238265718546, 15.560262027575307, 7.554168662610583]\n"
          ]
        },
        {
          "output_type": "stream",
          "name": "stderr",
          "text": [
            "\u001b[32m[I 2023-01-08 22:59:09,895]\u001b[0m Trial 23 finished with value: 10.472098506892234 and parameters: {'max_depth': 3, 'n_estimators': 774, 'learning_rate': 0.014690387547766819, 'lambda_l2': 2.981652785237322, 'num_leaves': 48, 'colsample_bytree': 0.7391660105617552}. Best is trial 23 with value: 10.472098506892234.\u001b[0m\n"
          ]
        },
        {
          "output_type": "stream",
          "name": "stdout",
          "text": [
            "Scores: [14.347155964746635, 4.583419896895475, 15.59993536287579, 7.357882803051031]\n"
          ]
        },
        {
          "output_type": "stream",
          "name": "stderr",
          "text": [
            "\u001b[32m[I 2023-01-08 22:59:26,541]\u001b[0m Trial 24 finished with value: 10.545306630988337 and parameters: {'max_depth': 4, 'n_estimators': 1411, 'learning_rate': 0.013718776040150099, 'lambda_l2': 3.746284214267851, 'num_leaves': 69, 'colsample_bytree': 0.734788328558206}. Best is trial 23 with value: 10.472098506892234.\u001b[0m\n"
          ]
        },
        {
          "output_type": "stream",
          "name": "stdout",
          "text": [
            "Scores: [14.302966914340292, 5.238323665150896, 15.558941020151309, 7.080994924310852]\n"
          ]
        },
        {
          "output_type": "stream",
          "name": "stderr",
          "text": [
            "\u001b[32m[I 2023-01-08 22:59:55,452]\u001b[0m Trial 25 finished with value: 10.667237433907749 and parameters: {'max_depth': 5, 'n_estimators': 1578, 'learning_rate': 0.012017093217223367, 'lambda_l2': 1.1451011322583713, 'num_leaves': 72, 'colsample_bytree': 0.7272489779460052}. Best is trial 23 with value: 10.472098506892234.\u001b[0m\n"
          ]
        },
        {
          "output_type": "stream",
          "name": "stdout",
          "text": [
            "Scores: [14.412999644276928, 5.305098159997568, 15.610336829367764, 7.340515101988734]\n"
          ]
        },
        {
          "output_type": "stream",
          "name": "stderr",
          "text": [
            "\u001b[32m[I 2023-01-08 23:00:11,887]\u001b[0m Trial 26 finished with value: 10.67553532232281 and parameters: {'max_depth': 3, 'n_estimators': 2085, 'learning_rate': 0.010494888046101889, 'lambda_l2': 3.5427384921578957, 'num_leaves': 115, 'colsample_bytree': 0.7502610951477802}. Best is trial 23 with value: 10.472098506892234.\u001b[0m\n"
          ]
        },
        {
          "output_type": "stream",
          "name": "stdout",
          "text": [
            "Scores: [14.794603733029893, 4.930016364968317, 15.689144889246206, 7.288376302046823]\n"
          ]
        },
        {
          "output_type": "stream",
          "name": "stderr",
          "text": [
            "\u001b[32m[I 2023-01-08 23:00:39,316]\u001b[0m Trial 27 finished with value: 10.896586408404842 and parameters: {'max_depth': 6, 'n_estimators': 1356, 'learning_rate': 0.03689273134937706, 'lambda_l2': 2.5859886946527975, 'num_leaves': 48, 'colsample_bytree': 0.6762644500389119}. Best is trial 23 with value: 10.472098506892234.\u001b[0m\n"
          ]
        },
        {
          "output_type": "stream",
          "name": "stdout",
          "text": [
            "Scores: [15.334395104286235, 5.282662149078719, 15.711767021024189, 7.257521359230222]\n"
          ]
        },
        {
          "output_type": "stream",
          "name": "stderr",
          "text": [
            "\u001b[32m[I 2023-01-08 23:00:58,395]\u001b[0m Trial 28 finished with value: 10.65410543065235 and parameters: {'max_depth': 4, 'n_estimators': 1834, 'learning_rate': 0.017918042906806587, 'lambda_l2': 0.07521798152224612, 'num_leaves': 97, 'colsample_bytree': 0.6520496306784906}. Best is trial 23 with value: 10.472098506892234.\u001b[0m\n"
          ]
        },
        {
          "output_type": "stream",
          "name": "stdout",
          "text": [
            "Scores: [14.536881053539787, 5.282053894408105, 15.537248379980593, 7.26023839468092]\n"
          ]
        },
        {
          "output_type": "stream",
          "name": "stderr",
          "text": [
            "\u001b[32m[I 2023-01-08 23:02:43,112]\u001b[0m Trial 29 finished with value: 10.944898736568126 and parameters: {'max_depth': 11, 'n_estimators': 2212, 'learning_rate': 0.006897011759464258, 'lambda_l2': 0.5802269704258095, 'num_leaves': 67, 'colsample_bytree': 0.7299559711876831}. Best is trial 23 with value: 10.472098506892234.\u001b[0m\n"
          ]
        },
        {
          "output_type": "stream",
          "name": "stdout",
          "text": [
            "Scores: [15.213555951895355, 5.782616728910931, 15.550826826417042, 7.232595439049178]\n"
          ]
        },
        {
          "output_type": "stream",
          "name": "stderr",
          "text": [
            "\u001b[32m[I 2023-01-08 23:03:12,051]\u001b[0m Trial 30 finished with value: 10.848806092503 and parameters: {'max_depth': 8, 'n_estimators': 992, 'learning_rate': 0.030672509459225977, 'lambda_l2': 0.34265639217725075, 'num_leaves': 46, 'colsample_bytree': 0.6909133379085233}. Best is trial 23 with value: 10.472098506892234.\u001b[0m\n"
          ]
        },
        {
          "output_type": "stream",
          "name": "stdout",
          "text": [
            "Scores: [15.092848142413303, 5.505655331885585, 15.571774161078737, 7.224946734634378]\n"
          ]
        },
        {
          "output_type": "stream",
          "name": "stderr",
          "text": [
            "\u001b[32m[I 2023-01-08 23:03:15,858]\u001b[0m Trial 31 finished with value: 10.544563759632739 and parameters: {'max_depth': 3, 'n_estimators': 772, 'learning_rate': 0.01874598909910534, 'lambda_l2': 7.057441752528517, 'num_leaves': 12, 'colsample_bytree': 0.40599601773528143}. Best is trial 23 with value: 10.472098506892234.\u001b[0m\n"
          ]
        },
        {
          "output_type": "stream",
          "name": "stdout",
          "text": [
            "Scores: [14.551422241363152, 4.605570213789475, 15.643663813497389, 7.377598769880938]\n"
          ]
        },
        {
          "output_type": "stream",
          "name": "stderr",
          "text": [
            "\u001b[32m[I 2023-01-08 23:03:24,603]\u001b[0m Trial 32 finished with value: 10.630949501498442 and parameters: {'max_depth': 5, 'n_estimators': 888, 'learning_rate': 0.017914057447703163, 'lambda_l2': 6.691369824006631, 'num_leaves': 38, 'colsample_bytree': 0.3730004000452628}. Best is trial 23 with value: 10.472098506892234.\u001b[0m\n"
          ]
        },
        {
          "output_type": "stream",
          "name": "stdout",
          "text": [
            "Scores: [14.729979513397558, 4.954733994010326, 15.68663570426582, 7.152448794320064]\n"
          ]
        },
        {
          "output_type": "stream",
          "name": "stderr",
          "text": [
            "\u001b[32m[I 2023-01-08 23:03:33,386]\u001b[0m Trial 33 finished with value: 10.77146082072163 and parameters: {'max_depth': 7, 'n_estimators': 562, 'learning_rate': 0.02399897656313454, 'lambda_l2': 4.512004463630382, 'num_leaves': 13, 'colsample_bytree': 0.7672450746314055}. Best is trial 23 with value: 10.472098506892234.\u001b[0m\n"
          ]
        },
        {
          "output_type": "stream",
          "name": "stdout",
          "text": [
            "Scores: [15.064209447859778, 5.189150407488925, 15.694092722448133, 7.138390705089681]\n"
          ]
        },
        {
          "output_type": "stream",
          "name": "stderr",
          "text": [
            "\u001b[32m[I 2023-01-08 23:03:52,049]\u001b[0m Trial 34 finished with value: 10.499793496075249 and parameters: {'max_depth': 4, 'n_estimators': 1343, 'learning_rate': 0.009479181756100102, 'lambda_l2': 6.378051165779571, 'num_leaves': 20, 'colsample_bytree': 0.7524124571380744}. Best is trial 23 with value: 10.472098506892234.\u001b[0m\n"
          ]
        },
        {
          "output_type": "stream",
          "name": "stdout",
          "text": [
            "Scores: [14.193017454711274, 5.0083503509900895, 15.601138122936362, 7.19666805566327]\n"
          ]
        },
        {
          "output_type": "stream",
          "name": "stderr",
          "text": [
            "\u001b[32m[I 2023-01-08 23:04:15,824]\u001b[0m Trial 35 finished with value: 10.70612589633885 and parameters: {'max_depth': 8, 'n_estimators': 1134, 'learning_rate': 0.00861305320015211, 'lambda_l2': 6.792039336140575, 'num_leaves': 18, 'colsample_bytree': 0.7858401403977706}. Best is trial 23 with value: 10.472098506892234.\u001b[0m\n"
          ]
        },
        {
          "output_type": "stream",
          "name": "stdout",
          "text": [
            "Scores: [14.789401962001099, 5.285266327847646, 15.608879346450115, 7.140955949056539]\n"
          ]
        },
        {
          "output_type": "stream",
          "name": "stderr",
          "text": [
            "\u001b[32m[I 2023-01-08 23:04:17,600]\u001b[0m Trial 36 finished with value: 10.616397348350098 and parameters: {'max_depth': 4, 'n_estimators': 267, 'learning_rate': 0.030809769422376482, 'lambda_l2': 5.630623361799105, 'num_leaves': 21, 'colsample_bytree': 0.31419753096789044}. Best is trial 23 with value: 10.472098506892234.\u001b[0m\n"
          ]
        },
        {
          "output_type": "stream",
          "name": "stdout",
          "text": [
            "Scores: [14.773583019217178, 4.660147666197478, 15.753410930582534, 7.278447777403203]\n"
          ]
        },
        {
          "output_type": "stream",
          "name": "stderr",
          "text": [
            "\u001b[32m[I 2023-01-08 23:04:29,417]\u001b[0m Trial 37 finished with value: 10.604025820644772 and parameters: {'max_depth': 6, 'n_estimators': 800, 'learning_rate': 0.02034461088007731, 'lambda_l2': 1.472989634274985, 'num_leaves': 232, 'colsample_bytree': 0.40624238890161307}. Best is trial 23 with value: 10.472098506892234.\u001b[0m\n"
          ]
        },
        {
          "output_type": "stream",
          "name": "stdout",
          "text": [
            "Scores: [14.597681932628543, 5.089814483662697, 15.596640135567885, 7.131966730719965]\n"
          ]
        },
        {
          "output_type": "stream",
          "name": "stderr",
          "text": [
            "\u001b[32m[I 2023-01-08 23:04:43,288]\u001b[0m Trial 38 finished with value: 10.99929183728847 and parameters: {'max_depth': 3, 'n_estimators': 1807, 'learning_rate': 0.03896609634990905, 'lambda_l2': 2.282714668036166, 'num_leaves': 35, 'colsample_bytree': 0.7586456855837184}. Best is trial 23 with value: 10.472098506892234.\u001b[0m\n"
          ]
        },
        {
          "output_type": "stream",
          "name": "stdout",
          "text": [
            "Scores: [15.451401379067752, 5.28647526716091, 15.993365562388624, 7.265925140536585]\n"
          ]
        },
        {
          "output_type": "stream",
          "name": "stderr",
          "text": [
            "\u001b[32m[I 2023-01-08 23:05:42,718]\u001b[0m Trial 39 finished with value: 10.913591762512349 and parameters: {'max_depth': 10, 'n_estimators': 1369, 'learning_rate': 0.04448973831937719, 'lambda_l2': 3.108676666811542, 'num_leaves': 150, 'colsample_bytree': 0.6336411978183037}. Best is trial 23 with value: 10.472098506892234.\u001b[0m\n"
          ]
        },
        {
          "output_type": "stream",
          "name": "stdout",
          "text": [
            "Scores: [15.269416076858455, 5.299295704326123, 15.709866666059174, 7.375788602805639]\n"
          ]
        },
        {
          "output_type": "stream",
          "name": "stderr",
          "text": [
            "\u001b[32m[I 2023-01-08 23:05:52,631]\u001b[0m Trial 40 finished with value: 10.924810177114324 and parameters: {'max_depth': 13, 'n_estimators': 393, 'learning_rate': 0.005426308191129991, 'lambda_l2': 7.655914328675443, 'num_leaves': 43, 'colsample_bytree': 0.40165053951448215}. Best is trial 23 with value: 10.472098506892234.\u001b[0m\n"
          ]
        },
        {
          "output_type": "stream",
          "name": "stdout",
          "text": [
            "Scores: [15.647903490102001, 4.718845657277507, 15.8939165644022, 7.4385749966755865]\n"
          ]
        },
        {
          "output_type": "stream",
          "name": "stderr",
          "text": [
            "\u001b[32m[I 2023-01-08 23:06:07,603]\u001b[0m Trial 41 finished with value: 10.563168053422231 and parameters: {'max_depth': 4, 'n_estimators': 1304, 'learning_rate': 0.015281477710585429, 'lambda_l2': 3.9956374896192486, 'num_leaves': 66, 'colsample_bytree': 0.7400695098246509}. Best is trial 23 with value: 10.472098506892234.\u001b[0m\n"
          ]
        },
        {
          "output_type": "stream",
          "name": "stdout",
          "text": [
            "Scores: [14.445254636185556, 5.1697773964881355, 15.516031739957636, 7.121608441057597]\n"
          ]
        },
        {
          "output_type": "stream",
          "name": "stderr",
          "text": [
            "\u001b[32m[I 2023-01-08 23:06:26,893]\u001b[0m Trial 42 finished with value: 10.704870801544162 and parameters: {'max_depth': 5, 'n_estimators': 1447, 'learning_rate': 0.01306726401966727, 'lambda_l2': 4.63795530003178, 'num_leaves': 15, 'colsample_bytree': 0.6963242908409303}. Best is trial 23 with value: 10.472098506892234.\u001b[0m\n"
          ]
        },
        {
          "output_type": "stream",
          "name": "stdout",
          "text": [
            "Scores: [14.69916419759347, 5.247683824991544, 15.679728233684164, 7.192906949907469]\n"
          ]
        },
        {
          "output_type": "stream",
          "name": "stderr",
          "text": [
            "\u001b[32m[I 2023-01-08 23:06:57,437]\u001b[0m Trial 43 finished with value: 10.805287919065176 and parameters: {'max_depth': 7, 'n_estimators': 1078, 'learning_rate': 0.02380674991638579, 'lambda_l2': 1.9679770886565808, 'num_leaves': 91, 'colsample_bytree': 0.7164409272639888}. Best is trial 23 with value: 10.472098506892234.\u001b[0m\n"
          ]
        },
        {
          "output_type": "stream",
          "name": "stdout",
          "text": [
            "Scores: [14.706099892298534, 5.773624549883839, 15.48555711108856, 7.255870122989769]\n"
          ]
        },
        {
          "output_type": "stream",
          "name": "stderr",
          "text": [
            "\u001b[32m[I 2023-01-08 23:07:28,674]\u001b[0m Trial 44 finished with value: 10.582999289629143 and parameters: {'max_depth': 4, 'n_estimators': 2332, 'learning_rate': 0.002488335743800866, 'lambda_l2': 3.1415619200967826, 'num_leaves': 110, 'colsample_bytree': 0.7989136257285673}. Best is trial 23 with value: 10.472098506892234.\u001b[0m\n"
          ]
        },
        {
          "output_type": "stream",
          "name": "stdout",
          "text": [
            "Scores: [14.446831556312375, 5.033908938531808, 15.507323616178175, 7.343933047494212]\n"
          ]
        },
        {
          "output_type": "stream",
          "name": "stderr",
          "text": [
            "\u001b[32m[I 2023-01-08 23:07:53,969]\u001b[0m Trial 45 finished with value: 10.77636454736833 and parameters: {'max_depth': 9, 'n_estimators': 869, 'learning_rate': 0.009158108306041714, 'lambda_l2': 5.379624750682366, 'num_leaves': 23, 'colsample_bytree': 0.7728346597904375}. Best is trial 23 with value: 10.472098506892234.\u001b[0m\n"
          ]
        },
        {
          "output_type": "stream",
          "name": "stdout",
          "text": [
            "Scores: [15.029111970362981, 5.452173268371372, 15.50902092198273, 7.1151520287562375]\n"
          ]
        },
        {
          "output_type": "stream",
          "name": "stderr",
          "text": [
            "\u001b[32m[I 2023-01-08 23:08:07,485]\u001b[0m Trial 46 finished with value: 10.710323131413132 and parameters: {'max_depth': 3, 'n_estimators': 1764, 'learning_rate': 0.015893920019729453, 'lambda_l2': 0.8901874741394226, 'num_leaves': 57, 'colsample_bytree': 0.7399261760636514}. Best is trial 23 with value: 10.472098506892234.\u001b[0m\n"
          ]
        },
        {
          "output_type": "stream",
          "name": "stdout",
          "text": [
            "Scores: [14.945515653088691, 5.015473329356457, 15.723501066750297, 7.156802476457082]\n"
          ]
        },
        {
          "output_type": "stream",
          "name": "stderr",
          "text": [
            "\u001b[32m[I 2023-01-08 23:08:16,378]\u001b[0m Trial 47 finished with value: 10.685212540330543 and parameters: {'max_depth': 5, 'n_estimators': 607, 'learning_rate': 0.026747241370118552, 'lambda_l2': 8.082542249118514, 'num_leaves': 40, 'colsample_bytree': 0.6117142791522635}. Best is trial 23 with value: 10.472098506892234.\u001b[0m\n"
          ]
        },
        {
          "output_type": "stream",
          "name": "stdout",
          "text": [
            "Scores: [14.738707724964787, 5.080566890722617, 15.532617562744509, 7.388957982890258]\n"
          ]
        },
        {
          "output_type": "stream",
          "name": "stderr",
          "text": [
            "\u001b[32m[I 2023-01-08 23:08:20,466]\u001b[0m Trial 48 finished with value: 10.701222362322797 and parameters: {'max_depth': 6, 'n_estimators': 257, 'learning_rate': 0.03297682273217808, 'lambda_l2': 3.6675675796661875, 'num_leaves': 14, 'colsample_bytree': 0.7140713412875773}. Best is trial 23 with value: 10.472098506892234.\u001b[0m\n"
          ]
        },
        {
          "output_type": "stream",
          "name": "stdout",
          "text": [
            "Scores: [15.247052815662531, 4.995717197486183, 15.507083793291267, 7.055035642851211]\n"
          ]
        },
        {
          "output_type": "stream",
          "name": "stderr",
          "text": [
            "\u001b[32m[I 2023-01-08 23:08:28,432]\u001b[0m Trial 49 finished with value: 10.535385754748189 and parameters: {'max_depth': 4, 'n_estimators': 1241, 'learning_rate': 0.020086381632930424, 'lambda_l2': 2.651366294337222, 'num_leaves': 184, 'colsample_bytree': 0.33978154195018095}. Best is trial 23 with value: 10.472098506892234.\u001b[0m\n"
          ]
        },
        {
          "output_type": "stream",
          "name": "stdout",
          "text": [
            "Scores: [14.36726592089344, 4.886870696778921, 15.75280210056716, 7.1346043007532405]\n"
          ]
        },
        {
          "output_type": "stream",
          "name": "stderr",
          "text": [
            "\u001b[32m[I 2023-01-08 23:08:52,953]\u001b[0m Trial 50 finished with value: 11.021003185199522 and parameters: {'max_depth': 8, 'n_estimators': 1240, 'learning_rate': 0.020109484521527325, 'lambda_l2': 2.354442628348629, 'num_leaves': 211, 'colsample_bytree': 0.338914252196325}. Best is trial 23 with value: 10.472098506892234.\u001b[0m\n"
          ]
        },
        {
          "output_type": "stream",
          "name": "stdout",
          "text": [
            "Scores: [15.585351580243232, 5.1869662162104, 16.055022716977355, 7.256672227367108]\n"
          ]
        },
        {
          "output_type": "stream",
          "name": "stderr",
          "text": [
            "\u001b[32m[I 2023-01-08 23:09:05,018]\u001b[0m Trial 51 finished with value: 10.523423653214854 and parameters: {'max_depth': 4, 'n_estimators': 1586, 'learning_rate': 0.014395620114949916, 'lambda_l2': 1.6932844520216943, 'num_leaves': 188, 'colsample_bytree': 0.42952060322737434}. Best is trial 23 with value: 10.472098506892234.\u001b[0m\n"
          ]
        },
        {
          "output_type": "stream",
          "name": "stdout",
          "text": [
            "Scores: [14.581340657915048, 4.848131261286399, 15.562247184337352, 7.1019755093206145]\n"
          ]
        },
        {
          "output_type": "stream",
          "name": "stderr",
          "text": [
            "\u001b[32m[I 2023-01-08 23:09:12,558]\u001b[0m Trial 52 finished with value: 10.79304684308926 and parameters: {'max_depth': 3, 'n_estimators': 1606, 'learning_rate': 0.023688617743973343, 'lambda_l2': 2.754072065526911, 'num_leaves': 174, 'colsample_bytree': 0.3752018971133452}. Best is trial 23 with value: 10.472098506892234.\u001b[0m\n"
          ]
        },
        {
          "output_type": "stream",
          "name": "stdout",
          "text": [
            "Scores: [15.026688488746302, 5.025073763054162, 15.837237042955753, 7.283188077600822]\n"
          ]
        },
        {
          "output_type": "stream",
          "name": "stderr",
          "text": [
            "\u001b[32m[I 2023-01-08 23:09:19,203]\u001b[0m Trial 53 finished with value: 10.575357213565255 and parameters: {'max_depth': 4, 'n_estimators': 791, 'learning_rate': 0.0067088204533117465, 'lambda_l2': 1.7892979551537935, 'num_leaves': 195, 'colsample_bytree': 0.4377166658337141}. Best is trial 23 with value: 10.472098506892234.\u001b[0m\n"
          ]
        },
        {
          "output_type": "stream",
          "name": "stdout",
          "text": [
            "Scores: [14.796934705396476, 4.500116843674002, 15.52201669271812, 7.482360612472418]\n"
          ]
        },
        {
          "output_type": "stream",
          "name": "stderr",
          "text": [
            "\u001b[32m[I 2023-01-08 23:09:44,874]\u001b[0m Trial 54 finished with value: 10.924139996941378 and parameters: {'max_depth': 6, 'n_estimators': 1957, 'learning_rate': 0.02764203997221001, 'lambda_l2': 1.4019553746258542, 'num_leaves': 167, 'colsample_bytree': 0.3349283460815158}. Best is trial 23 with value: 10.472098506892234.\u001b[0m\n"
          ]
        },
        {
          "output_type": "stream",
          "name": "stdout",
          "text": [
            "Scores: [14.99204884887973, 5.418665884019506, 16.04553980521451, 7.240305449651763]\n"
          ]
        },
        {
          "output_type": "stream",
          "name": "stderr",
          "text": [
            "\u001b[32m[I 2023-01-08 23:09:58,127]\u001b[0m Trial 55 finished with value: 10.527727596871207 and parameters: {'max_depth': 5, 'n_estimators': 1216, 'learning_rate': 0.01823455200692605, 'lambda_l2': 5.8961367213505715, 'num_leaves': 197, 'colsample_bytree': 0.4355833533339785}. Best is trial 23 with value: 10.472098506892234.\u001b[0m\n"
          ]
        },
        {
          "output_type": "stream",
          "name": "stdout",
          "text": [
            "Scores: [14.725070022902665, 5.0049345103144045, 15.366902784155535, 7.014003070112223]\n"
          ]
        },
        {
          "output_type": "stream",
          "name": "stderr",
          "text": [
            "\u001b[32m[I 2023-01-08 23:10:24,143]\u001b[0m Trial 56 finished with value: 10.773326227935936 and parameters: {'max_depth': 7, 'n_estimators': 1238, 'learning_rate': 0.01012415903258342, 'lambda_l2': 0.9802483344467452, 'num_leaves': 213, 'colsample_bytree': 0.4290885166933383}. Best is trial 23 with value: 10.472098506892234.\u001b[0m\n"
          ]
        },
        {
          "output_type": "stream",
          "name": "stdout",
          "text": [
            "Scores: [15.249900218845244, 5.13544419369249, 15.583024597938987, 7.124935901267022]\n"
          ]
        },
        {
          "output_type": "stream",
          "name": "stderr",
          "text": [
            "\u001b[32m[I 2023-01-08 23:10:44,211]\u001b[0m Trial 57 finished with value: 11.144761653046057 and parameters: {'max_depth': 5, 'n_estimators': 1694, 'learning_rate': 0.0696192337387464, 'lambda_l2': 1.5656928257717262, 'num_leaves': 195, 'colsample_bytree': 0.5119064067436203}. Best is trial 23 with value: 10.472098506892234.\u001b[0m\n"
          ]
        },
        {
          "output_type": "stream",
          "name": "stdout",
          "text": [
            "Scores: [15.84386881454635, 5.324846721839877, 15.914635013055122, 7.495696062742882]\n"
          ]
        },
        {
          "output_type": "stream",
          "name": "stderr",
          "text": [
            "\u001b[32m[I 2023-01-08 23:11:02,451]\u001b[0m Trial 58 finished with value: 10.627037954654128 and parameters: {'max_depth': 5, 'n_estimators': 1538, 'learning_rate': 0.014821400827579823, 'lambda_l2': 2.069547284825178, 'num_leaves': 233, 'colsample_bytree': 0.48861391491495276}. Best is trial 23 with value: 10.472098506892234.\u001b[0m\n"
          ]
        },
        {
          "output_type": "stream",
          "name": "stdout",
          "text": [
            "Scores: [14.83409623724327, 5.105456663370001, 15.472118785771805, 7.096480132231436]\n"
          ]
        },
        {
          "output_type": "stream",
          "name": "stderr",
          "text": [
            "\u001b[32m[I 2023-01-08 23:11:52,096]\u001b[0m Trial 59 finished with value: 10.760410263037198 and parameters: {'max_depth': 9, 'n_estimators': 1052, 'learning_rate': 0.004534434547298932, 'lambda_l2': 5.863541536059645, 'num_leaves': 185, 'colsample_bytree': 0.543676862937504}. Best is trial 23 with value: 10.472098506892234.\u001b[0m\n"
          ]
        },
        {
          "output_type": "stream",
          "name": "stdout",
          "text": [
            "Scores: [14.998814367017232, 5.193428933229305, 15.636615904330034, 7.2127818475722165]\n"
          ]
        },
        {
          "output_type": "stream",
          "name": "stderr",
          "text": [
            "\u001b[32m[I 2023-01-08 23:13:10,668]\u001b[0m Trial 60 finished with value: 10.886148569769727 and parameters: {'max_depth': 17, 'n_estimators': 1457, 'learning_rate': 0.012270197918688927, 'lambda_l2': 4.413190833924052, 'num_leaves': 162, 'colsample_bytree': 0.44561092216668163}. Best is trial 23 with value: 10.472098506892234.\u001b[0m\n"
          ]
        },
        {
          "output_type": "stream",
          "name": "stdout",
          "text": [
            "Scores: [15.310198823654892, 5.196101242249915, 15.825609990248939, 7.21268422292516]\n"
          ]
        },
        {
          "output_type": "stream",
          "name": "stderr",
          "text": [
            "\u001b[32m[I 2023-01-08 23:13:14,204]\u001b[0m Trial 61 finished with value: 10.553048161320602 and parameters: {'max_depth': 3, 'n_estimators': 715, 'learning_rate': 0.018391160184227595, 'lambda_l2': 6.218107172612605, 'num_leaves': 211, 'colsample_bytree': 0.38994670260190484}. Best is trial 23 with value: 10.472098506892234.\u001b[0m\n"
          ]
        },
        {
          "output_type": "stream",
          "name": "stdout",
          "text": [
            "Scores: [14.724296211135734, 4.487918817716426, 15.659054167475777, 7.34092344895447]\n"
          ]
        },
        {
          "output_type": "stream",
          "name": "stderr",
          "text": [
            "\u001b[32m[I 2023-01-08 23:13:18,427]\u001b[0m Trial 62 finished with value: 10.55584920811102 and parameters: {'max_depth': 4, 'n_estimators': 521, 'learning_rate': 0.02204197085162998, 'lambda_l2': 8.675948858081565, 'num_leaves': 132, 'colsample_bytree': 0.45785197712877024}. Best is trial 23 with value: 10.472098506892234.\u001b[0m\n"
          ]
        },
        {
          "output_type": "stream",
          "name": "stdout",
          "text": [
            "Scores: [14.55603188129617, 4.631721915945879, 15.70475287488924, 7.330890160312792]\n"
          ]
        },
        {
          "output_type": "stream",
          "name": "stderr",
          "text": [
            "\u001b[32m[I 2023-01-08 23:13:23,385]\u001b[0m Trial 63 finished with value: 10.657680233026724 and parameters: {'max_depth': 3, 'n_estimators': 1148, 'learning_rate': 0.02639846614857675, 'lambda_l2': 3.165019058747108, 'num_leaves': 186, 'colsample_bytree': 0.3377575004687526}. Best is trial 23 with value: 10.472098506892234.\u001b[0m\n"
          ]
        },
        {
          "output_type": "stream",
          "name": "stdout",
          "text": [
            "Scores: [14.539268652054457, 4.97388944123795, 15.921310269467963, 7.1962525693465285]\n"
          ]
        },
        {
          "output_type": "stream",
          "name": "stderr",
          "text": [
            "\u001b[32m[I 2023-01-08 23:13:29,198]\u001b[0m Trial 64 finished with value: 10.919720859656207 and parameters: {'max_depth': 6, 'n_estimators': 429, 'learning_rate': 0.049561418339738005, 'lambda_l2': 5.125737754210903, 'num_leaves': 201, 'colsample_bytree': 0.35186595029531953}. Best is trial 23 with value: 10.472098506892234.\u001b[0m\n"
          ]
        },
        {
          "output_type": "stream",
          "name": "stdout",
          "text": [
            "Scores: [15.360977314517728, 5.253298013482775, 15.801873228367464, 7.262734882256863]\n"
          ]
        },
        {
          "output_type": "stream",
          "name": "stderr",
          "text": [
            "\u001b[32m[I 2023-01-08 23:13:36,234]\u001b[0m Trial 65 finished with value: 10.470229186480147 and parameters: {'max_depth': 4, 'n_estimators': 940, 'learning_rate': 0.017304667344574476, 'lambda_l2': 9.391515369818118, 'num_leaves': 153, 'colsample_bytree': 0.426989513611237}. Best is trial 65 with value: 10.470229186480147.\u001b[0m\n"
          ]
        },
        {
          "output_type": "stream",
          "name": "stdout",
          "text": [
            "Scores: [14.332084189570123, 4.734773531009661, 15.571040109913842, 7.2430189154269575]\n"
          ]
        },
        {
          "output_type": "stream",
          "name": "stderr",
          "text": [
            "\u001b[32m[I 2023-01-08 23:13:48,748]\u001b[0m Trial 66 finished with value: 10.476961800655094 and parameters: {'max_depth': 4, 'n_estimators': 1290, 'learning_rate': 0.007452212232774027, 'lambda_l2': 9.437207966974848, 'num_leaves': 147, 'colsample_bytree': 0.42629873345050123}. Best is trial 65 with value: 10.470229186480147.\u001b[0m\n"
          ]
        },
        {
          "output_type": "stream",
          "name": "stdout",
          "text": [
            "Scores: [14.456033729084668, 4.453518468188004, 15.601189796632985, 7.397105208714722]\n"
          ]
        },
        {
          "output_type": "stream",
          "name": "stderr",
          "text": [
            "\u001b[32m[I 2023-01-08 23:14:02,915]\u001b[0m Trial 67 finished with value: 10.598908661083053 and parameters: {'max_depth': 5, 'n_estimators': 1302, 'learning_rate': 0.008226192327577965, 'lambda_l2': 9.474826114757843, 'num_leaves': 139, 'colsample_bytree': 0.42549159283838667}. Best is trial 65 with value: 10.470229186480147.\u001b[0m\n"
          ]
        },
        {
          "output_type": "stream",
          "name": "stdout",
          "text": [
            "Scores: [14.656193623566175, 4.969633625581463, 15.554229046744243, 7.215578348440333]\n"
          ]
        },
        {
          "output_type": "stream",
          "name": "stderr",
          "text": [
            "\u001b[32m[I 2023-01-08 23:14:12,150]\u001b[0m Trial 68 finished with value: 10.620474689149521 and parameters: {'max_depth': 4, 'n_estimators': 981, 'learning_rate': 0.003444948783626614, 'lambda_l2': 7.903256057863378, 'num_leaves': 156, 'colsample_bytree': 0.47787345194220654}. Best is trial 65 with value: 10.470229186480147.\u001b[0m\n"
          ]
        },
        {
          "output_type": "stream",
          "name": "stdout",
          "text": [
            "Scores: [14.774718225288613, 4.461295121392776, 15.550387917461725, 7.695497492454967]\n"
          ]
        },
        {
          "output_type": "stream",
          "name": "stderr",
          "text": [
            "\u001b[32m[I 2023-01-08 23:15:18,958]\u001b[0m Trial 69 finished with value: 10.895887345431568 and parameters: {'max_depth': 27, 'n_estimators': 912, 'learning_rate': 0.010351366537555085, 'lambda_l2': 9.815831628035557, 'num_leaves': 175, 'colsample_bytree': 0.5109236885891388}. Best is trial 65 with value: 10.470229186480147.\u001b[0m\n"
          ]
        },
        {
          "output_type": "stream",
          "name": "stdout",
          "text": [
            "Scores: [15.086170812177958, 5.3467794749607105, 15.973499094798026, 7.177099999789575]\n"
          ]
        },
        {
          "output_type": "stream",
          "name": "stderr",
          "text": [
            "\u001b[32m[I 2023-01-08 23:15:41,390]\u001b[0m Trial 70 finished with value: 10.865697790678981 and parameters: {'max_depth': 7, 'n_estimators': 1089, 'learning_rate': 0.01664731482570973, 'lambda_l2': 5.125870266776777, 'num_leaves': 125, 'colsample_bytree': 0.38970866706263413}. Best is trial 65 with value: 10.470229186480147.\u001b[0m\n"
          ]
        },
        {
          "output_type": "stream",
          "name": "stdout",
          "text": [
            "Scores: [15.481594283664203, 5.184999588705038, 15.595370801840511, 7.2008264885061735]\n"
          ]
        },
        {
          "output_type": "stream",
          "name": "stderr",
          "text": [
            "\u001b[32m[I 2023-01-08 23:15:50,302]\u001b[0m Trial 71 finished with value: 10.532884128805085 and parameters: {'max_depth': 4, 'n_estimators': 1201, 'learning_rate': 0.01364059551669384, 'lambda_l2': 4.052926047010354, 'num_leaves': 148, 'colsample_bytree': 0.4212286814630569}. Best is trial 65 with value: 10.470229186480147.\u001b[0m\n"
          ]
        },
        {
          "output_type": "stream",
          "name": "stdout",
          "text": [
            "Scores: [14.541925821019136, 4.754439806063263, 15.656943472098215, 7.178227416039727]\n"
          ]
        },
        {
          "output_type": "stream",
          "name": "stderr",
          "text": [
            "\u001b[32m[I 2023-01-08 23:16:03,723]\u001b[0m Trial 72 finished with value: 10.604153264811128 and parameters: {'max_depth': 5, 'n_estimators': 1199, 'learning_rate': 0.006698178583382858, 'lambda_l2': 6.524523316139163, 'num_leaves': 148, 'colsample_bytree': 0.4168379639205466}. Best is trial 65 with value: 10.470229186480147.\u001b[0m\n"
          ]
        },
        {
          "output_type": "stream",
          "name": "stdout",
          "text": [
            "Scores: [14.859865802049098, 4.903887372895808, 15.485601493533096, 7.167258390766506]\n"
          ]
        },
        {
          "output_type": "stream",
          "name": "stderr",
          "text": [
            "\u001b[32m[I 2023-01-08 23:16:24,313]\u001b[0m Trial 73 finished with value: 10.751148907347945 and parameters: {'max_depth': 6, 'n_estimators': 1307, 'learning_rate': 0.012251617001205452, 'lambda_l2': 0.4934889518373344, 'num_leaves': 178, 'colsample_bytree': 0.4511438530540801}. Best is trial 65 with value: 10.470229186480147.\u001b[0m\n"
          ]
        },
        {
          "output_type": "stream",
          "name": "stdout",
          "text": [
            "Scores: [14.952467471368593, 5.277775368667724, 15.642176530639377, 7.132176258716085]\n"
          ]
        },
        {
          "output_type": "stream",
          "name": "stderr",
          "text": [
            "\u001b[32m[I 2023-01-08 23:16:37,283]\u001b[0m Trial 74 finished with value: 10.702290022442085 and parameters: {'max_depth': 4, 'n_estimators': 1641, 'learning_rate': 0.019997292808639103, 'lambda_l2': 0.17584020343656, 'num_leaves': 124, 'colsample_bytree': 0.4727945243515709}. Best is trial 65 with value: 10.470229186480147.\u001b[0m\n"
          ]
        },
        {
          "output_type": "stream",
          "name": "stdout",
          "text": [
            "Scores: [14.962765033034676, 4.965054265760304, 15.717973568541352, 7.163367222432005]\n"
          ]
        },
        {
          "output_type": "stream",
          "name": "stderr",
          "text": [
            "\u001b[32m[I 2023-01-08 23:16:46,908]\u001b[0m Trial 75 finished with value: 10.582100732900908 and parameters: {'max_depth': 4, 'n_estimators': 1492, 'learning_rate': 0.015439529759864994, 'lambda_l2': 4.120859356699019, 'num_leaves': 161, 'colsample_bytree': 0.36114221229709603}. Best is trial 65 with value: 10.470229186480147.\u001b[0m\n"
          ]
        },
        {
          "output_type": "stream",
          "name": "stdout",
          "text": [
            "Scores: [14.635310839171344, 4.918876861283616, 15.623244152680085, 7.150971078468584]\n"
          ]
        },
        {
          "output_type": "stream",
          "name": "stderr",
          "text": [
            "\u001b[32m[I 2023-01-08 23:17:10,451]\u001b[0m Trial 76 finished with value: 10.967883139216708 and parameters: {'max_depth': 7, 'n_estimators': 1378, 'learning_rate': 0.023029782226454652, 'lambda_l2': 8.333451731767283, 'num_leaves': 145, 'colsample_bytree': 0.3904922181522049}. Best is trial 65 with value: 10.470229186480147.\u001b[0m\n"
          ]
        },
        {
          "output_type": "stream",
          "name": "stdout",
          "text": [
            "Scores: [15.78625402286091, 5.294822324896471, 15.5053606506384, 7.285095558471049]\n"
          ]
        },
        {
          "output_type": "stream",
          "name": "stderr",
          "text": [
            "\u001b[32m[I 2023-01-08 23:17:14,864]\u001b[0m Trial 77 finished with value: 11.28578305087436 and parameters: {'max_depth': 3, 'n_estimators': 975, 'learning_rate': 0.0020240987854497072, 'lambda_l2': 2.7847869545876036, 'num_leaves': 155, 'colsample_bytree': 0.3057610693590348}. Best is trial 65 with value: 10.470229186480147.\u001b[0m\n"
          ]
        },
        {
          "output_type": "stream",
          "name": "stdout",
          "text": [
            "Scores: [16.541873128946683, 4.505049044252787, 16.03038959158902, 8.065820438708949]\n"
          ]
        },
        {
          "output_type": "stream",
          "name": "stderr",
          "text": [
            "\u001b[32m[I 2023-01-08 23:20:19,100]\u001b[0m Trial 78 finished with value: 10.955129703802067 and parameters: {'max_depth': 24, 'n_estimators': 2901, 'learning_rate': 0.09546475834799409, 'lambda_l2': 5.9647680187950565, 'num_leaves': 180, 'colsample_bytree': 0.4339456885681}. Best is trial 65 with value: 10.470229186480147.\u001b[0m\n"
          ]
        },
        {
          "output_type": "stream",
          "name": "stdout",
          "text": [
            "Scores: [15.018913802579348, 5.683385801957304, 15.660795538258872, 7.457423672412742]\n"
          ]
        },
        {
          "output_type": "stream",
          "name": "stderr",
          "text": [
            "\u001b[32m[I 2023-01-08 23:20:32,983]\u001b[0m Trial 79 finished with value: 10.989965926699547 and parameters: {'max_depth': 5, 'n_estimators': 1166, 'learning_rate': 0.06066899682595688, 'lambda_l2': 3.8531321204426057, 'num_leaves': 228, 'colsample_bytree': 0.49471332777018817}. Best is trial 65 with value: 10.470229186480147.\u001b[0m\n"
          ]
        },
        {
          "output_type": "stream",
          "name": "stdout",
          "text": [
            "Scores: [15.458466747767126, 5.418103049516681, 15.802197853051398, 7.281096056462987]\n"
          ]
        },
        {
          "output_type": "stream",
          "name": "stderr",
          "text": [
            "\u001b[32m[I 2023-01-08 23:20:55,885]\u001b[0m Trial 80 finished with value: 10.881231155334318 and parameters: {'max_depth': 6, 'n_estimators': 1259, 'learning_rate': 0.030682514588480918, 'lambda_l2': 7.010739986435398, 'num_leaves': 204, 'colsample_bytree': 0.5872506852391309}. Best is trial 65 with value: 10.470229186480147.\u001b[0m\n"
          ]
        },
        {
          "output_type": "stream",
          "name": "stdout",
          "text": [
            "Scores: [15.28885063160187, 5.330138349685342, 15.756026791116218, 7.149908848933843]\n"
          ]
        },
        {
          "output_type": "stream",
          "name": "stderr",
          "text": [
            "\u001b[32m[I 2023-01-08 23:21:02,899]\u001b[0m Trial 81 finished with value: 10.485722066072494 and parameters: {'max_depth': 3, 'n_estimators': 844, 'learning_rate': 0.013297842086010526, 'lambda_l2': 3.412028791331, 'num_leaves': 167, 'colsample_bytree': 0.7826521882196109}. Best is trial 65 with value: 10.470229186480147.\u001b[0m\n"
          ]
        },
        {
          "output_type": "stream",
          "name": "stdout",
          "text": [
            "Scores: [14.473664262862314, 4.530028673716842, 15.551303144030806, 7.387892183680017]\n"
          ]
        },
        {
          "output_type": "stream",
          "name": "stderr",
          "text": [
            "\u001b[32m[I 2023-01-08 23:21:07,320]\u001b[0m Trial 82 finished with value: 10.461135349718418 and parameters: {'max_depth': 3, 'n_estimators': 854, 'learning_rate': 0.011552439250731954, 'lambda_l2': 4.546005529911163, 'num_leaves': 167, 'colsample_bytree': 0.4182758951762941}. Best is trial 82 with value: 10.461135349718418.\u001b[0m\n"
          ]
        },
        {
          "output_type": "stream",
          "name": "stdout",
          "text": [
            "Scores: [14.554642244830656, 4.444270875247923, 15.498324313281179, 7.3473039655139125]\n"
          ]
        },
        {
          "output_type": "stream",
          "name": "stderr",
          "text": [
            "\u001b[32m[I 2023-01-08 23:21:11,828]\u001b[0m Trial 83 finished with value: 10.459988904496717 and parameters: {'max_depth': 3, 'n_estimators': 866, 'learning_rate': 0.01397557995522496, 'lambda_l2': 4.611316892731575, 'num_leaves': 167, 'colsample_bytree': 0.41815543878285094}. Best is trial 83 with value: 10.459988904496717.\u001b[0m\n"
          ]
        },
        {
          "output_type": "stream",
          "name": "stdout",
          "text": [
            "Scores: [14.456363859758394, 4.39283113951872, 15.646206126578178, 7.344554492131571]\n"
          ]
        },
        {
          "output_type": "stream",
          "name": "stderr",
          "text": [
            "\u001b[32m[I 2023-01-08 23:21:16,225]\u001b[0m Trial 84 finished with value: 10.551062317193063 and parameters: {'max_depth': 3, 'n_estimators': 855, 'learning_rate': 0.008625165110569655, 'lambda_l2': 4.961831119780445, 'num_leaves': 168, 'colsample_bytree': 0.4015674561049548}. Best is trial 83 with value: 10.459988904496717.\u001b[0m\n"
          ]
        },
        {
          "output_type": "stream",
          "name": "stdout",
          "text": [
            "Scores: [14.664307977472644, 4.351502665313203, 15.655456506706209, 7.532982119280201]\n"
          ]
        },
        {
          "output_type": "stream",
          "name": "stderr",
          "text": [
            "\u001b[32m[I 2023-01-08 23:21:19,678]\u001b[0m Trial 85 finished with value: 10.58358161099589 and parameters: {'max_depth': 3, 'n_estimators': 612, 'learning_rate': 0.010800627595675717, 'lambda_l2': 7.527801618271821, 'num_leaves': 163, 'colsample_bytree': 0.44385435902128256}. Best is trial 83 with value: 10.459988904496717.\u001b[0m\n"
          ]
        },
        {
          "output_type": "stream",
          "name": "stdout",
          "text": [
            "Scores: [14.816232999636524, 4.305024426755735, 15.606584464974322, 7.606484552616973]\n"
          ]
        },
        {
          "output_type": "stream",
          "name": "stderr",
          "text": [
            "\u001b[32m[I 2023-01-08 23:21:35,082]\u001b[0m Trial 86 finished with value: 10.60539943319849 and parameters: {'max_depth': 5, 'n_estimators': 733, 'learning_rate': 0.005132246208726749, 'lambda_l2': 4.608820928643914, 'num_leaves': 139, 'colsample_bytree': 0.7849581945688369}. Best is trial 83 with value: 10.459988904496717.\u001b[0m\n"
          ]
        },
        {
          "output_type": "stream",
          "name": "stdout",
          "text": [
            "Scores: [14.488257457362526, 5.0866399003629805, 15.395624470431386, 7.45107590463707]\n"
          ]
        },
        {
          "output_type": "stream",
          "name": "stderr",
          "text": [
            "\u001b[32m[I 2023-01-08 23:22:22,232]\u001b[0m Trial 87 finished with value: 11.051827022342701 and parameters: {'max_depth': 15, 'n_estimators': 1015, 'learning_rate': 0.01640894355372613, 'lambda_l2': 3.60011374787871, 'num_leaves': 155, 'colsample_bytree': 0.3789305128988748}. Best is trial 83 with value: 10.459988904496717.\u001b[0m\n"
          ]
        },
        {
          "output_type": "stream",
          "name": "stdout",
          "text": [
            "Scores: [15.51584618319005, 5.206834914981237, 16.074468186276864, 7.4101588049226494]\n"
          ]
        },
        {
          "output_type": "stream",
          "name": "stderr",
          "text": [
            "\u001b[32m[I 2023-01-08 23:22:29,095]\u001b[0m Trial 88 finished with value: 10.526171766486684 and parameters: {'max_depth': 3, 'n_estimators': 829, 'learning_rate': 0.007891470609094106, 'lambda_l2': 8.922639841598578, 'num_leaves': 171, 'colsample_bytree': 0.7581505917661283}. Best is trial 83 with value: 10.459988904496717.\u001b[0m\n"
          ]
        },
        {
          "output_type": "stream",
          "name": "stdout",
          "text": [
            "Scores: [14.57394810909867, 4.39286141963058, 15.609798218645242, 7.52807931857224]\n"
          ]
        },
        {
          "output_type": "stream",
          "name": "stderr",
          "text": [
            "\u001b[32m[I 2023-01-08 23:22:36,108]\u001b[0m Trial 89 finished with value: 10.544643828655193 and parameters: {'max_depth': 3, 'n_estimators': 835, 'learning_rate': 0.007159526481506768, 'lambda_l2': 8.644685207460572, 'num_leaves': 171, 'colsample_bytree': 0.7582807030628421}. Best is trial 83 with value: 10.459988904496717.\u001b[0m\n"
          ]
        },
        {
          "output_type": "stream",
          "name": "stdout",
          "text": [
            "Scores: [14.5442311327451, 4.439564791989177, 15.562331986134378, 7.632447403752117]\n"
          ]
        },
        {
          "output_type": "stream",
          "name": "stderr",
          "text": [
            "\u001b[32m[I 2023-01-08 23:22:44,987]\u001b[0m Trial 90 finished with value: 10.506912033137457 and parameters: {'max_depth': 4, 'n_estimators': 687, 'learning_rate': 0.011259045325960244, 'lambda_l2': 9.975448654259242, 'num_leaves': 189, 'colsample_bytree': 0.7800304686897792}. Best is trial 83 with value: 10.459988904496717.\u001b[0m\n"
          ]
        },
        {
          "output_type": "stream",
          "name": "stdout",
          "text": [
            "Scores: [14.312928742342498, 4.987092999272646, 15.486789671089484, 7.240836719845196]\n"
          ]
        },
        {
          "output_type": "stream",
          "name": "stderr",
          "text": [
            "\u001b[32m[I 2023-01-08 23:22:53,526]\u001b[0m Trial 91 finished with value: 10.576691134097315 and parameters: {'max_depth': 4, 'n_estimators': 677, 'learning_rate': 0.011802916362269364, 'lambda_l2': 9.545893753330661, 'num_leaves': 168, 'colsample_bytree': 0.7793281025370304}. Best is trial 83 with value: 10.459988904496717.\u001b[0m\n"
          ]
        },
        {
          "output_type": "stream",
          "name": "stdout",
          "text": [
            "Scores: [14.461183493436614, 4.980412718480574, 15.584054108779455, 7.281114215692621]\n"
          ]
        },
        {
          "output_type": "stream",
          "name": "stderr",
          "text": [
            "\u001b[32m[I 2023-01-08 23:22:58,728]\u001b[0m Trial 92 finished with value: 10.471460635236292 and parameters: {'max_depth': 3, 'n_estimators': 606, 'learning_rate': 0.014012224854026471, 'lambda_l2': 7.420227939405079, 'num_leaves': 190, 'colsample_bytree': 0.7920395206381843}. Best is trial 83 with value: 10.459988904496717.\u001b[0m\n"
          ]
        },
        {
          "output_type": "stream",
          "name": "stdout",
          "text": [
            "Scores: [14.379695667161204, 4.458607672316235, 15.557793579413412, 7.489745622054314]\n"
          ]
        },
        {
          "output_type": "stream",
          "name": "stderr",
          "text": [
            "\u001b[32m[I 2023-01-08 23:23:10,206]\u001b[0m Trial 93 finished with value: 10.524659650967106 and parameters: {'max_depth': 4, 'n_estimators': 915, 'learning_rate': 0.014121622692334562, 'lambda_l2': 7.133062562838256, 'num_leaves': 188, 'colsample_bytree': 0.7922671320788629}. Best is trial 83 with value: 10.459988904496717.\u001b[0m\n"
          ]
        },
        {
          "output_type": "stream",
          "name": "stdout",
          "text": [
            "Scores: [14.153047353340504, 5.04651938195182, 15.731087269174173, 7.167984599401926]\n"
          ]
        },
        {
          "output_type": "stream",
          "name": "stderr",
          "text": [
            "\u001b[32m[I 2023-01-08 23:23:15,800]\u001b[0m Trial 94 finished with value: 10.4976794495971 and parameters: {'max_depth': 3, 'n_estimators': 615, 'learning_rate': 0.010140657906065605, 'lambda_l2': 5.428042086035051, 'num_leaves': 218, 'colsample_bytree': 0.7990482529178607}. Best is trial 83 with value: 10.459988904496717.\u001b[0m\n"
          ]
        },
        {
          "output_type": "stream",
          "name": "stdout",
          "text": [
            "Scores: [14.49261826989161, 4.374591367551547, 15.586013428693184, 7.537494732252061]\n"
          ]
        },
        {
          "output_type": "stream",
          "name": "stderr",
          "text": [
            "\u001b[32m[I 2023-01-08 23:23:21,747]\u001b[0m Trial 95 finished with value: 10.717093714848504 and parameters: {'max_depth': 3, 'n_estimators': 634, 'learning_rate': 0.004735028078897375, 'lambda_l2': 5.584164929581889, 'num_leaves': 219, 'colsample_bytree': 0.7711812279496416}. Best is trial 83 with value: 10.459988904496717.\u001b[0m\n"
          ]
        },
        {
          "output_type": "stream",
          "name": "stdout",
          "text": [
            "Scores: [15.127291259676088, 4.442147244193117, 15.484210584282247, 7.814725771242566]\n"
          ]
        },
        {
          "output_type": "stream",
          "name": "stderr",
          "text": [
            "\u001b[32m[I 2023-01-08 23:23:26,724]\u001b[0m Trial 96 finished with value: 10.496832965727085 and parameters: {'max_depth': 3, 'n_estimators': 577, 'learning_rate': 0.01050114843452684, 'lambda_l2': 6.833495867713096, 'num_leaves': 221, 'colsample_bytree': 0.748020854600684}. Best is trial 83 with value: 10.459988904496717.\u001b[0m\n"
          ]
        },
        {
          "output_type": "stream",
          "name": "stdout",
          "text": [
            "Scores: [14.44125423444206, 4.469514472171842, 15.53009379525994, 7.546469361034504]\n"
          ]
        },
        {
          "output_type": "stream",
          "name": "stderr",
          "text": [
            "\u001b[32m[I 2023-01-08 23:24:24,478]\u001b[0m Trial 97 finished with value: 10.677740662730935 and parameters: {'max_depth': 20, 'n_estimators': 552, 'learning_rate': 0.009465948748455225, 'lambda_l2': 6.4342118082714705, 'num_leaves': 251, 'colsample_bytree': 0.7266220561531336}. Best is trial 83 with value: 10.459988904496717.\u001b[0m\n"
          ]
        },
        {
          "output_type": "stream",
          "name": "stdout",
          "text": [
            "Scores: [14.904062422483404, 5.391088662295581, 15.334520509069353, 7.0812910570754]\n"
          ]
        },
        {
          "output_type": "stream",
          "name": "stderr",
          "text": [
            "\u001b[32m[I 2023-01-08 23:24:27,371]\u001b[0m Trial 98 finished with value: 10.67852852665159 and parameters: {'max_depth': 3, 'n_estimators': 339, 'learning_rate': 0.07932680932682425, 'lambda_l2': 4.3718909818707, 'num_leaves': 219, 'colsample_bytree': 0.7465679908187243}. Best is trial 83 with value: 10.459988904496717.\u001b[0m\n"
          ]
        },
        {
          "output_type": "stream",
          "name": "stdout",
          "text": [
            "Scores: [14.991612737814492, 4.918291316696895, 15.557686586394114, 7.246523465700862]\n"
          ]
        },
        {
          "output_type": "stream",
          "name": "stderr",
          "text": [
            "\u001b[32m[I 2023-01-08 23:24:43,084]\u001b[0m Trial 99 finished with value: 10.57020168972314 and parameters: {'max_depth': 5, 'n_estimators': 750, 'learning_rate': 0.005823617087407098, 'lambda_l2': 5.352467384966575, 'num_leaves': 205, 'colsample_bytree': 0.797681012290383}. Best is trial 83 with value: 10.459988904496717.\u001b[0m\n"
          ]
        },
        {
          "output_type": "stream",
          "name": "stdout",
          "text": [
            "Scores: [14.533226906044858, 5.121723221322758, 15.250100466650945, 7.375756164873996]\n",
            "  Value: 10.459988904496717\n",
            "  Params: \n",
            "    max_depth: 3\n",
            "    n_estimators: 866\n",
            "    learning_rate: 0.01397557995522496\n",
            "    lambda_l2: 4.611316892731575\n",
            "    num_leaves: 167\n",
            "    colsample_bytree: 0.41815543878285094\n"
          ]
        }
      ]
    },
    {
      "cell_type": "code",
      "source": [
        "best_params"
      ],
      "metadata": {
        "id": "limhkh1qbyJs",
        "colab": {
          "base_uri": "https://localhost:8080/"
        },
        "outputId": "bcaf4559-f643-4aa4-890b-c8e96d113e11"
      },
      "execution_count": null,
      "outputs": [
        {
          "output_type": "execute_result",
          "data": {
            "text/plain": [
              "{'max_depth': 3,\n",
              " 'n_estimators': 866,\n",
              " 'learning_rate': 0.01397557995522496,\n",
              " 'lambda_l2': 4.611316892731575,\n",
              " 'num_leaves': 167,\n",
              " 'colsample_bytree': 0.41815543878285094}"
            ]
          },
          "metadata": {},
          "execution_count": 10
        }
      ]
    },
    {
      "cell_type": "markdown",
      "source": [
        "# 東京"
      ],
      "metadata": {
        "id": "V8ZAnx1NnJFQ"
      }
    },
    {
      "cell_type": "code",
      "source": [
        "train_val_y = df_train_val[\"log_pollen_tokyo\"].values\n",
        "train_val_y_raw = df_train_val[\"pollen_tokyo\"].values\n",
        "\n",
        "f = partial(objective,\n",
        "            train_val_X,\n",
        "            train_val_y,\n",
        "            train_val_y_raw,\n",
        "            cv_indicies)\n",
        "study = optuna.create_study(direction=\"minimize\")\n",
        "study.optimize(f, n_trials=100)\n",
        "\n",
        "trial = study.best_trial\n",
        "\n",
        "print(\"  Value: {}\".format(trial.value))\n",
        "\n",
        "print(\"  Params: \")\n",
        "for key, value in trial.params.items():\n",
        "    print(\"    {}: {}\".format(key, value))\n",
        "best_params = trial.params"
      ],
      "metadata": {
        "id": "YnG4Dn7W1Dxl",
        "colab": {
          "base_uri": "https://localhost:8080/"
        },
        "outputId": "29f5f80b-aa69-4d0c-da55-d60adb19ecab"
      },
      "execution_count": null,
      "outputs": [
        {
          "output_type": "stream",
          "name": "stderr",
          "text": [
            "\u001b[32m[I 2023-01-08 23:24:43,123]\u001b[0m A new study created in memory with name: no-name-984a9f9d-4e4a-4cf8-940a-471c3a1c9895\u001b[0m\n",
            "\u001b[32m[I 2023-01-08 23:25:08,245]\u001b[0m Trial 0 finished with value: 6.578617314250896 and parameters: {'max_depth': 6, 'n_estimators': 1179, 'learning_rate': 0.0877953639835753, 'lambda_l2': 0.5702320403194425, 'num_leaves': 41, 'colsample_bytree': 0.7537787957083981}. Best is trial 0 with value: 6.578617314250896.\u001b[0m\n"
          ]
        },
        {
          "output_type": "stream",
          "name": "stdout",
          "text": [
            "Scores: [11.96680301887801, 4.4873391086767995, 5.094673910784909, 4.765653218663864]\n"
          ]
        },
        {
          "output_type": "stream",
          "name": "stderr",
          "text": [
            "\u001b[32m[I 2023-01-08 23:27:08,344]\u001b[0m Trial 1 finished with value: 6.623788198911243 and parameters: {'max_depth': 25, 'n_estimators': 1033, 'learning_rate': 0.036320876302840616, 'lambda_l2': 6.311700754081432, 'num_leaves': 229, 'colsample_bytree': 0.728794395208836}. Best is trial 0 with value: 6.578617314250896.\u001b[0m\n"
          ]
        },
        {
          "output_type": "stream",
          "name": "stdout",
          "text": [
            "Scores: [12.215653178544498, 4.6524302782337585, 4.903456778747881, 4.723612560118833]\n"
          ]
        },
        {
          "output_type": "stream",
          "name": "stderr",
          "text": [
            "\u001b[32m[I 2023-01-08 23:27:10,898]\u001b[0m Trial 2 finished with value: 6.427087173369171 and parameters: {'max_depth': 5, 'n_estimators': 297, 'learning_rate': 0.08250738991206417, 'lambda_l2': 3.7976457280359512, 'num_leaves': 59, 'colsample_bytree': 0.3004012711651385}. Best is trial 2 with value: 6.427087173369171.\u001b[0m\n"
          ]
        },
        {
          "output_type": "stream",
          "name": "stdout",
          "text": [
            "Scores: [11.889822264601767, 4.496505885483776, 4.8706469264053975, 4.451373616985744]\n"
          ]
        },
        {
          "output_type": "stream",
          "name": "stderr",
          "text": [
            "\u001b[32m[I 2023-01-08 23:28:21,639]\u001b[0m Trial 3 finished with value: 6.380473544830416 and parameters: {'max_depth': 13, 'n_estimators': 1732, 'learning_rate': 0.07672008093702139, 'lambda_l2': 0.1265022085598913, 'num_leaves': 186, 'colsample_bytree': 0.41893880273637635}. Best is trial 3 with value: 6.380473544830416.\u001b[0m\n"
          ]
        },
        {
          "output_type": "stream",
          "name": "stdout",
          "text": [
            "Scores: [12.174329468812289, 4.161508194734068, 4.906135920648507, 4.279920595126799]\n"
          ]
        },
        {
          "output_type": "stream",
          "name": "stderr",
          "text": [
            "\u001b[32m[I 2023-01-08 23:31:41,482]\u001b[0m Trial 4 finished with value: 6.473058064802222 and parameters: {'max_depth': 23, 'n_estimators': 2754, 'learning_rate': 0.01874627663488622, 'lambda_l2': 9.304448171497812, 'num_leaves': 236, 'colsample_bytree': 0.4114101259891051}. Best is trial 3 with value: 6.380473544830416.\u001b[0m\n"
          ]
        },
        {
          "output_type": "stream",
          "name": "stdout",
          "text": [
            "Scores: [11.801063878415835, 4.522202080838696, 5.067841169639618, 4.5011251303147395]\n"
          ]
        },
        {
          "output_type": "stream",
          "name": "stderr",
          "text": [
            "\u001b[32m[I 2023-01-08 23:32:22,016]\u001b[0m Trial 5 finished with value: 6.285567571975264 and parameters: {'max_depth': 12, 'n_estimators': 1558, 'learning_rate': 0.07599183629722102, 'lambda_l2': 0.5736518632717454, 'num_leaves': 56, 'colsample_bytree': 0.4249038923411426}. Best is trial 5 with value: 6.285567571975264.\u001b[0m\n"
          ]
        },
        {
          "output_type": "stream",
          "name": "stdout",
          "text": [
            "Scores: [11.559582684317595, 4.434815849115297, 4.92451990623552, 4.223351848232643]\n"
          ]
        },
        {
          "output_type": "stream",
          "name": "stderr",
          "text": [
            "\u001b[32m[I 2023-01-08 23:32:55,110]\u001b[0m Trial 6 finished with value: 6.462382526997363 and parameters: {'max_depth': 23, 'n_estimators': 395, 'learning_rate': 0.027922083714484264, 'lambda_l2': 0.20653749937020446, 'num_leaves': 191, 'colsample_bytree': 0.5269349140755013}. Best is trial 5 with value: 6.285567571975264.\u001b[0m\n"
          ]
        },
        {
          "output_type": "stream",
          "name": "stdout",
          "text": [
            "Scores: [12.06514119099255, 4.476673047412217, 4.951235124564695, 4.356480745019985]\n"
          ]
        },
        {
          "output_type": "stream",
          "name": "stderr",
          "text": [
            "\u001b[32m[I 2023-01-08 23:33:12,585]\u001b[0m Trial 7 finished with value: 6.490906910344966 and parameters: {'max_depth': 9, 'n_estimators': 604, 'learning_rate': 0.0171621360825982, 'lambda_l2': 0.16991265899691574, 'num_leaves': 40, 'colsample_bytree': 0.6086429930606302}. Best is trial 5 with value: 6.285567571975264.\u001b[0m\n"
          ]
        },
        {
          "output_type": "stream",
          "name": "stdout",
          "text": [
            "Scores: [11.953233899556873, 4.540675412102287, 5.0116866037189265, 4.45803172600178]\n"
          ]
        },
        {
          "output_type": "stream",
          "name": "stderr",
          "text": [
            "\u001b[32m[I 2023-01-08 23:35:15,894]\u001b[0m Trial 8 finished with value: 6.633840484245237 and parameters: {'max_depth': 27, 'n_estimators': 2784, 'learning_rate': 0.06041569522416509, 'lambda_l2': 5.823941524959159, 'num_leaves': 69, 'colsample_bytree': 0.5435922814946955}. Best is trial 5 with value: 6.285567571975264.\u001b[0m\n"
          ]
        },
        {
          "output_type": "stream",
          "name": "stdout",
          "text": [
            "Scores: [12.51795412397698, 4.453079513904432, 5.059686221121627, 4.504642077977908]\n"
          ]
        },
        {
          "output_type": "stream",
          "name": "stderr",
          "text": [
            "\u001b[32m[I 2023-01-08 23:35:47,471]\u001b[0m Trial 9 finished with value: 6.4758179025402445 and parameters: {'max_depth': 13, 'n_estimators': 488, 'learning_rate': 0.08306654714400658, 'lambda_l2': 0.6184560762035448, 'num_leaves': 107, 'colsample_bytree': 0.6929479357737711}. Best is trial 5 with value: 6.285567571975264.\u001b[0m\n"
          ]
        },
        {
          "output_type": "stream",
          "name": "stdout",
          "text": [
            "Scores: [11.61872510385619, 4.886332840289294, 4.691854108027214, 4.706359557988279]\n"
          ]
        },
        {
          "output_type": "stream",
          "name": "stderr",
          "text": [
            "\u001b[32m[I 2023-01-08 23:37:19,356]\u001b[0m Trial 10 finished with value: 6.408871173883465 and parameters: {'max_depth': 18, 'n_estimators': 1868, 'learning_rate': 0.05593617265995673, 'lambda_l2': 0.054883776128886584, 'num_leaves': 118, 'colsample_bytree': 0.41850737354004214}. Best is trial 5 with value: 6.285567571975264.\u001b[0m\n"
          ]
        },
        {
          "output_type": "stream",
          "name": "stdout",
          "text": [
            "Scores: [12.088239178899322, 4.14180248665758, 4.923991053563004, 4.481451976413956]\n"
          ]
        },
        {
          "output_type": "stream",
          "name": "stderr",
          "text": [
            "\u001b[32m[I 2023-01-08 23:38:44,742]\u001b[0m Trial 11 finished with value: 6.471614171152835 and parameters: {'max_depth': 14, 'n_estimators': 1908, 'learning_rate': 0.06826269667917942, 'lambda_l2': 1.6681170301740276, 'num_leaves': 172, 'colsample_bytree': 0.4236697121614414}. Best is trial 5 with value: 6.285567571975264.\u001b[0m\n"
          ]
        },
        {
          "output_type": "stream",
          "name": "stdout",
          "text": [
            "Scores: [11.990104349431956, 4.388626197129035, 5.116252116898718, 4.391474021151631]\n"
          ]
        },
        {
          "output_type": "stream",
          "name": "stderr",
          "text": [
            "\u001b[32m[I 2023-01-08 23:39:39,749]\u001b[0m Trial 12 finished with value: 6.544134201204038 and parameters: {'max_depth': 10, 'n_estimators': 2100, 'learning_rate': 0.07301609914019357, 'lambda_l2': 0.19701079066919244, 'num_leaves': 165, 'colsample_bytree': 0.31425366206546246}. Best is trial 5 with value: 6.285567571975264.\u001b[0m\n"
          ]
        },
        {
          "output_type": "stream",
          "name": "stdout",
          "text": [
            "Scores: [12.020819239069835, 4.050680854807088, 5.387953698325274, 4.717083012613954]\n"
          ]
        },
        {
          "output_type": "stream",
          "name": "stderr",
          "text": [
            "\u001b[32m[I 2023-01-08 23:40:45,425]\u001b[0m Trial 13 finished with value: 6.663276786881955 and parameters: {'max_depth': 18, 'n_estimators': 1453, 'learning_rate': 0.09733406479594454, 'lambda_l2': 0.050772533156967, 'num_leaves': 87, 'colsample_bytree': 0.47669682049667095}. Best is trial 5 with value: 6.285567571975264.\u001b[0m\n"
          ]
        },
        {
          "output_type": "stream",
          "name": "stdout",
          "text": [
            "Scores: [12.263786743246406, 4.451764600612151, 5.155847966104853, 4.781707837564412]\n"
          ]
        },
        {
          "output_type": "stream",
          "name": "stderr",
          "text": [
            "\u001b[32m[I 2023-01-08 23:41:06,647]\u001b[0m Trial 14 finished with value: 6.581391059376954 and parameters: {'max_depth': 18, 'n_estimators': 2270, 'learning_rate': 0.04684278588366032, 'lambda_l2': 1.278370885838846, 'num_leaves': 18, 'colsample_bytree': 0.37090149548767526}. Best is trial 5 with value: 6.285567571975264.\u001b[0m\n"
          ]
        },
        {
          "output_type": "stream",
          "name": "stdout",
          "text": [
            "Scores: [12.153461272747723, 4.758067527091728, 4.949734876047894, 4.464300561620469]\n"
          ]
        },
        {
          "output_type": "stream",
          "name": "stderr",
          "text": [
            "\u001b[32m[I 2023-01-08 23:42:53,544]\u001b[0m Trial 15 finished with value: 6.498260475673704 and parameters: {'max_depth': 11, 'n_estimators': 1512, 'learning_rate': 0.0029500347406454658, 'lambda_l2': 0.371777699240358, 'num_leaves': 146, 'colsample_bytree': 0.6126647594421932}. Best is trial 5 with value: 6.285567571975264.\u001b[0m\n"
          ]
        },
        {
          "output_type": "stream",
          "name": "stdout",
          "text": [
            "Scores: [11.920060580120484, 4.67141180275293, 4.879258192141503, 4.5223113276799]\n"
          ]
        },
        {
          "output_type": "stream",
          "name": "stderr",
          "text": [
            "\u001b[32m[I 2023-01-08 23:42:58,264]\u001b[0m Trial 16 finished with value: 6.730059271104074 and parameters: {'max_depth': 3, 'n_estimators': 868, 'learning_rate': 0.09819279628535967, 'lambda_l2': 0.12671714353207358, 'num_leaves': 206, 'colsample_bytree': 0.4667637264215235}. Best is trial 5 with value: 6.285567571975264.\u001b[0m\n"
          ]
        },
        {
          "output_type": "stream",
          "name": "stdout",
          "text": [
            "Scores: [11.936799665142882, 5.046881889682457, 5.049837300593637, 4.88671822899732]\n"
          ]
        },
        {
          "output_type": "stream",
          "name": "stderr",
          "text": [
            "\u001b[32m[I 2023-01-08 23:44:41,459]\u001b[0m Trial 17 finished with value: 6.352277889623074 and parameters: {'max_depth': 15, 'n_estimators': 2407, 'learning_rate': 0.0700930251140536, 'lambda_l2': 1.4455416893036237, 'num_leaves': 141, 'colsample_bytree': 0.36580487093952707}. Best is trial 5 with value: 6.285567571975264.\u001b[0m\n"
          ]
        },
        {
          "output_type": "stream",
          "name": "stdout",
          "text": [
            "Scores: [11.83215350748694, 4.237764765452994, 4.852985516984097, 4.486207768568268]\n"
          ]
        },
        {
          "output_type": "stream",
          "name": "stderr",
          "text": [
            "\u001b[32m[I 2023-01-08 23:46:30,901]\u001b[0m Trial 18 finished with value: 6.360042040514508 and parameters: {'max_depth': 16, 'n_estimators': 2445, 'learning_rate': 0.06387343180662561, 'lambda_l2': 1.4284114461720336, 'num_leaves': 147, 'colsample_bytree': 0.35464161048724147}. Best is trial 5 with value: 6.285567571975264.\u001b[0m\n"
          ]
        },
        {
          "output_type": "stream",
          "name": "stdout",
          "text": [
            "Scores: [11.970773380788692, 4.069802156975895, 4.969104031525537, 4.430488592767908]\n"
          ]
        },
        {
          "output_type": "stream",
          "name": "stderr",
          "text": [
            "\u001b[32m[I 2023-01-08 23:47:34,305]\u001b[0m Trial 19 finished with value: 6.585614836035399 and parameters: {'max_depth': 8, 'n_estimators': 2460, 'learning_rate': 0.04567466716806401, 'lambda_l2': 2.639729214752006, 'num_leaves': 95, 'colsample_bytree': 0.49993582098905287}. Best is trial 5 with value: 6.285567571975264.\u001b[0m\n"
          ]
        },
        {
          "output_type": "stream",
          "name": "stdout",
          "text": [
            "Scores: [12.229489205510342, 4.809574400142073, 4.925843870528147, 4.377551867961033]\n"
          ]
        },
        {
          "output_type": "stream",
          "name": "stderr",
          "text": [
            "\u001b[32m[I 2023-01-08 23:47:47,241]\u001b[0m Trial 20 finished with value: 6.563695605282332 and parameters: {'max_depth': 20, 'n_estimators': 2983, 'learning_rate': 0.054793700345784783, 'lambda_l2': 0.888823950670936, 'num_leaves': 6, 'colsample_bytree': 0.36006929014537026}. Best is trial 5 with value: 6.285567571975264.\u001b[0m\n"
          ]
        },
        {
          "output_type": "stream",
          "name": "stdout",
          "text": [
            "Scores: [11.9887002491083, 5.1335376140212565, 4.491185611272253, 4.64135894672752]\n"
          ]
        },
        {
          "output_type": "stream",
          "name": "stderr",
          "text": [
            "\u001b[32m[I 2023-01-08 23:49:30,398]\u001b[0m Trial 21 finished with value: 6.331457491768639 and parameters: {'max_depth': 16, 'n_estimators': 2412, 'learning_rate': 0.0639550301249868, 'lambda_l2': 1.9469607345219997, 'num_leaves': 136, 'colsample_bytree': 0.34768551259444536}. Best is trial 5 with value: 6.285567571975264.\u001b[0m\n"
          ]
        },
        {
          "output_type": "stream",
          "name": "stdout",
          "text": [
            "Scores: [12.179418051920067, 3.7504509520853264, 4.868057759228199, 4.527903203840962]\n"
          ]
        },
        {
          "output_type": "stream",
          "name": "stderr",
          "text": [
            "\u001b[32m[I 2023-01-08 23:51:06,250]\u001b[0m Trial 22 finished with value: 6.41545343765605 and parameters: {'max_depth': 16, 'n_estimators': 2195, 'learning_rate': 0.07017534470861597, 'lambda_l2': 2.6589869180350862, 'num_leaves': 137, 'colsample_bytree': 0.35334875070593064}. Best is trial 5 with value: 6.285567571975264.\u001b[0m\n"
          ]
        },
        {
          "output_type": "stream",
          "name": "stdout",
          "text": [
            "Scores: [12.148658895491208, 4.0609974719475765, 4.9442590694305295, 4.507898313754889]\n"
          ]
        },
        {
          "output_type": "stream",
          "name": "stderr",
          "text": [
            "\u001b[32m[I 2023-01-08 23:52:42,646]\u001b[0m Trial 23 finished with value: 6.381558369698732 and parameters: {'max_depth': 12, 'n_estimators': 2612, 'learning_rate': 0.088912390561076, 'lambda_l2': 0.9449887584769385, 'num_leaves': 124, 'colsample_bytree': 0.45116224007867844}. Best is trial 5 with value: 6.285567571975264.\u001b[0m\n"
          ]
        },
        {
          "output_type": "stream",
          "name": "stdout",
          "text": [
            "Scores: [12.005992120901965, 4.543686628672063, 4.752481871405617, 4.2240728578152815]\n"
          ]
        },
        {
          "output_type": "stream",
          "name": "stderr",
          "text": [
            "\u001b[32m[I 2023-01-08 23:53:24,522]\u001b[0m Trial 24 finished with value: 6.5066018192286394 and parameters: {'max_depth': 15, 'n_estimators': 1304, 'learning_rate': 0.07689906876515694, 'lambda_l2': 0.48494331293247067, 'num_leaves': 81, 'colsample_bytree': 0.3296396150940081}. Best is trial 5 with value: 6.285567571975264.\u001b[0m\n"
          ]
        },
        {
          "output_type": "stream",
          "name": "stdout",
          "text": [
            "Scores: [12.19385113244816, 4.020162983989097, 5.408899302996797, 4.403493857480505]\n"
          ]
        },
        {
          "output_type": "stream",
          "name": "stderr",
          "text": [
            "\u001b[32m[I 2023-01-08 23:55:17,233]\u001b[0m Trial 25 finished with value: 6.381644139460274 and parameters: {'max_depth': 20, 'n_estimators': 1956, 'learning_rate': 0.06381084027501213, 'lambda_l2': 2.028829062050705, 'num_leaves': 158, 'colsample_bytree': 0.3825643943255727}. Best is trial 5 with value: 6.285567571975264.\u001b[0m\n"
          ]
        },
        {
          "output_type": "stream",
          "name": "stdout",
          "text": [
            "Scores: [12.277997509645475, 4.249891841486777, 4.78197998040519, 4.216707226303653]\n"
          ]
        },
        {
          "output_type": "stream",
          "name": "stderr",
          "text": [
            "\u001b[32m[I 2023-01-08 23:56:56,308]\u001b[0m Trial 26 finished with value: 6.628431748207639 and parameters: {'max_depth': 16, 'n_estimators': 1668, 'learning_rate': 0.048105047916845674, 'lambda_l2': 0.2978688531497924, 'num_leaves': 110, 'colsample_bytree': 0.5895310343636839}. Best is trial 5 with value: 6.285567571975264.\u001b[0m\n"
          ]
        },
        {
          "output_type": "stream",
          "name": "stdout",
          "text": [
            "Scores: [12.412678966897673, 4.366849446341827, 5.199650753821101, 4.534547825769954]\n"
          ]
        },
        {
          "output_type": "stream",
          "name": "stderr",
          "text": [
            "\u001b[32m[I 2023-01-08 23:58:00,072]\u001b[0m Trial 27 finished with value: 6.599363507894479 and parameters: {'max_depth': 8, 'n_estimators': 2403, 'learning_rate': 0.059651168146595095, 'lambda_l2': 0.9954005087430298, 'num_leaves': 132, 'colsample_bytree': 0.5014788045223846}. Best is trial 5 with value: 6.285567571975264.\u001b[0m\n"
          ]
        },
        {
          "output_type": "stream",
          "name": "stdout",
          "text": [
            "Scores: [11.834256169334074, 4.965575005544157, 5.0909058502238835, 4.506717006475801]\n"
          ]
        },
        {
          "output_type": "stream",
          "name": "stderr",
          "text": [
            "\u001b[32m[I 2023-01-08 23:58:45,684]\u001b[0m Trial 28 finished with value: 6.347645515714926 and parameters: {'max_depth': 20, 'n_estimators': 748, 'learning_rate': 0.04140172794227451, 'lambda_l2': 3.4164118641786154, 'num_leaves': 208, 'colsample_bytree': 0.3878517128901224}. Best is trial 5 with value: 6.285567571975264.\u001b[0m\n"
          ]
        },
        {
          "output_type": "stream",
          "name": "stdout",
          "text": [
            "Scores: [11.826620296121117, 4.213745575169014, 5.07565732375561, 4.274558867813961]\n"
          ]
        },
        {
          "output_type": "stream",
          "name": "stderr",
          "text": [
            "\u001b[32m[I 2023-01-08 23:58:59,995]\u001b[0m Trial 29 finished with value: 6.2227076320903985 and parameters: {'max_depth': 21, 'n_estimators': 154, 'learning_rate': 0.04106391248589504, 'lambda_l2': 2.801115913151176, 'num_leaves': 253, 'colsample_bytree': 0.3979359499163855}. Best is trial 29 with value: 6.2227076320903985.\u001b[0m\n"
          ]
        },
        {
          "output_type": "stream",
          "name": "stdout",
          "text": [
            "Scores: [11.777914973166093, 4.055083197321246, 4.860639160922261, 4.197193196951992]\n"
          ]
        },
        {
          "output_type": "stream",
          "name": "stderr",
          "text": [
            "\u001b[32m[I 2023-01-08 23:59:14,253]\u001b[0m Trial 30 finished with value: 6.496447990505294 and parameters: {'max_depth': 22, 'n_estimators': 138, 'learning_rate': 0.03696291175416815, 'lambda_l2': 4.59528734763724, 'num_leaves': 248, 'colsample_bytree': 0.6508297649759913}. Best is trial 29 with value: 6.2227076320903985.\u001b[0m\n"
          ]
        },
        {
          "output_type": "stream",
          "name": "stdout",
          "text": [
            "Scores: [12.164915082567157, 4.517209008589573, 4.781139881423363, 4.5225279894410795]\n"
          ]
        },
        {
          "output_type": "stream",
          "name": "stderr",
          "text": [
            "\u001b[32m[I 2023-01-08 23:59:54,418]\u001b[0m Trial 31 finished with value: 6.3449260490108355 and parameters: {'max_depth': 20, 'n_estimators': 675, 'learning_rate': 0.02724687453143207, 'lambda_l2': 3.0134032470164684, 'num_leaves': 214, 'colsample_bytree': 0.3966773972743796}. Best is trial 29 with value: 6.2227076320903985.\u001b[0m\n"
          ]
        },
        {
          "output_type": "stream",
          "name": "stdout",
          "text": [
            "Scores: [11.905189195161633, 4.1613747409117146, 4.978451647473698, 4.334688612496297]\n"
          ]
        },
        {
          "output_type": "stream",
          "name": "stderr",
          "text": [
            "\u001b[32m[I 2023-01-09 00:01:13,236]\u001b[0m Trial 32 finished with value: 6.459958614411378 and parameters: {'max_depth': 25, 'n_estimators': 978, 'learning_rate': 0.028923199048639284, 'lambda_l2': 2.5715804687477917, 'num_leaves': 226, 'colsample_bytree': 0.4521837287240846}. Best is trial 29 with value: 6.2227076320903985.\u001b[0m\n"
          ]
        },
        {
          "output_type": "stream",
          "name": "stdout",
          "text": [
            "Scores: [12.170263922767658, 4.265195207049106, 4.946834462561385, 4.457540865267366]\n"
          ]
        },
        {
          "output_type": "stream",
          "name": "stderr",
          "text": [
            "\u001b[32m[I 2023-01-09 00:02:18,882]\u001b[0m Trial 33 finished with value: 6.411884585362697 and parameters: {'max_depth': 21, 'n_estimators': 1201, 'learning_rate': 0.02908605700846012, 'lambda_l2': 8.669095757811588, 'num_leaves': 256, 'colsample_bytree': 0.3256183068839413}. Best is trial 29 with value: 6.2227076320903985.\u001b[0m\n"
          ]
        },
        {
          "output_type": "stream",
          "name": "stdout",
          "text": [
            "Scores: [11.866629092561046, 4.155161939504261, 5.17486455313415, 4.450882756251329]\n"
          ]
        },
        {
          "output_type": "stream",
          "name": "stderr",
          "text": [
            "\u001b[32m[I 2023-01-09 00:02:30,497]\u001b[0m Trial 34 finished with value: 6.325455849387839 and parameters: {'max_depth': 18, 'n_estimators': 188, 'learning_rate': 0.020728157867530142, 'lambda_l2': 4.892752286262629, 'num_leaves': 217, 'colsample_bytree': 0.40216066392116945}. Best is trial 29 with value: 6.2227076320903985.\u001b[0m\n"
          ]
        },
        {
          "output_type": "stream",
          "name": "stdout",
          "text": [
            "Scores: [11.823139155984165, 4.124421754557249, 4.905282047620337, 4.448980439389604]\n"
          ]
        },
        {
          "output_type": "stream",
          "name": "stderr",
          "text": [
            "\u001b[32m[I 2023-01-09 00:02:35,391]\u001b[0m Trial 35 finished with value: 6.2490592077197284 and parameters: {'max_depth': 18, 'n_estimators': 188, 'learning_rate': 0.008802327147926496, 'lambda_l2': 6.143416168273172, 'num_leaves': 44, 'colsample_bytree': 0.42606235013136984}. Best is trial 29 with value: 6.2227076320903985.\u001b[0m\n"
          ]
        },
        {
          "output_type": "stream",
          "name": "stdout",
          "text": [
            "Scores: [12.012059147557203, 3.5117839557369734, 4.953426735931838, 4.518966991652899]\n"
          ]
        },
        {
          "output_type": "stream",
          "name": "stderr",
          "text": [
            "\u001b[32m[I 2023-01-09 00:02:41,848]\u001b[0m Trial 36 finished with value: 6.182148951268845 and parameters: {'max_depth': 18, 'n_estimators': 241, 'learning_rate': 0.003738785792592042, 'lambda_l2': 6.420528666122924, 'num_leaves': 45, 'colsample_bytree': 0.44149315797860406}. Best is trial 36 with value: 6.182148951268845.\u001b[0m\n"
          ]
        },
        {
          "output_type": "stream",
          "name": "stdout",
          "text": [
            "Scores: [12.287431520821869, 3.020118717198117, 4.958518760785491, 4.462526806269902]\n"
          ]
        },
        {
          "output_type": "stream",
          "name": "stderr",
          "text": [
            "\u001b[32m[I 2023-01-09 00:02:54,247]\u001b[0m Trial 37 finished with value: 6.252675930813095 and parameters: {'max_depth': 24, 'n_estimators': 352, 'learning_rate': 0.003540559274345323, 'lambda_l2': 9.329770563421096, 'num_leaves': 46, 'colsample_bytree': 0.4339951656615277}. Best is trial 36 with value: 6.182148951268845.\u001b[0m\n"
          ]
        },
        {
          "output_type": "stream",
          "name": "stdout",
          "text": [
            "Scores: [12.136938504751768, 3.352314857852503, 4.949157370790985, 4.572292989857121]\n"
          ]
        },
        {
          "output_type": "stream",
          "name": "stderr",
          "text": [
            "\u001b[32m[I 2023-01-09 00:03:03,114]\u001b[0m Trial 38 finished with value: 6.224587082828823 and parameters: {'max_depth': 24, 'n_estimators': 340, 'learning_rate': 0.0050653900824879595, 'lambda_l2': 7.289239791497372, 'num_leaves': 36, 'colsample_bytree': 0.5002098960787082}. Best is trial 36 with value: 6.182148951268845.\u001b[0m\n"
          ]
        },
        {
          "output_type": "stream",
          "name": "stdout",
          "text": [
            "Scores: [11.990276072942713, 3.601031563696637, 4.839382309941427, 4.467658384734515]\n"
          ]
        },
        {
          "output_type": "stream",
          "name": "stderr",
          "text": [
            "\u001b[32m[I 2023-01-09 00:03:21,256]\u001b[0m Trial 39 finished with value: 6.441453944103891 and parameters: {'max_depth': 26, 'n_estimators': 512, 'learning_rate': 0.010622882990244123, 'lambda_l2': 6.943001370951561, 'num_leaves': 31, 'colsample_bytree': 0.7977002655530435}. Best is trial 36 with value: 6.182148951268845.\u001b[0m\n"
          ]
        },
        {
          "output_type": "stream",
          "name": "stdout",
          "text": [
            "Scores: [12.03506162460532, 4.6279092185214825, 4.678178365530142, 4.424666567758622]\n"
          ]
        },
        {
          "output_type": "stream",
          "name": "stderr",
          "text": [
            "\u001b[32m[I 2023-01-09 00:03:25,374]\u001b[0m Trial 40 finished with value: 6.1922699364938545 and parameters: {'max_depth': 24, 'n_estimators': 101, 'learning_rate': 0.009479826543500549, 'lambda_l2': 6.87417654853948, 'num_leaves': 71, 'colsample_bytree': 0.5003019620013299}. Best is trial 36 with value: 6.182148951268845.\u001b[0m\n"
          ]
        },
        {
          "output_type": "stream",
          "name": "stdout",
          "text": [
            "Scores: [12.141182098134442, 3.2142857142857144, 5.001557650196996, 4.412054283358266]\n"
          ]
        },
        {
          "output_type": "stream",
          "name": "stderr",
          "text": [
            "\u001b[32m[I 2023-01-09 00:03:29,731]\u001b[0m Trial 41 finished with value: 6.237161283708291 and parameters: {'max_depth': 23, 'n_estimators': 106, 'learning_rate': 0.009472503702533205, 'lambda_l2': 6.430646135830846, 'num_leaves': 66, 'colsample_bytree': 0.5105235247204403}. Best is trial 36 with value: 6.182148951268845.\u001b[0m\n"
          ]
        },
        {
          "output_type": "stream",
          "name": "stdout",
          "text": [
            "Scores: [12.076830289320279, 3.39112289661595, 5.050189869041981, 4.430502079854953]\n"
          ]
        },
        {
          "output_type": "stream",
          "name": "stderr",
          "text": [
            "\u001b[32m[I 2023-01-09 00:03:42,236]\u001b[0m Trial 42 finished with value: 6.395639063273043 and parameters: {'max_depth': 24, 'n_estimators': 300, 'learning_rate': 0.014042721723159702, 'lambda_l2': 7.429128850404667, 'num_leaves': 61, 'colsample_bytree': 0.5610910896483275}. Best is trial 36 with value: 6.182148951268845.\u001b[0m\n"
          ]
        },
        {
          "output_type": "stream",
          "name": "stdout",
          "text": [
            "Scores: [11.938578504899763, 4.170890961842784, 5.010082606432357, 4.46300417991727]\n"
          ]
        },
        {
          "output_type": "stream",
          "name": "stderr",
          "text": [
            "\u001b[32m[I 2023-01-09 00:03:46,804]\u001b[0m Trial 43 finished with value: 6.212464680302563 and parameters: {'max_depth': 22, 'n_estimators': 106, 'learning_rate': 0.00782264037682495, 'lambda_l2': 4.362712785273689, 'num_leaves': 71, 'colsample_bytree': 0.5149793358973985}. Best is trial 36 with value: 6.182148951268845.\u001b[0m\n"
          ]
        },
        {
          "output_type": "stream",
          "name": "stdout",
          "text": [
            "Scores: [12.23411418887823, 3.1162207736431666, 4.982834870207983, 4.516688888480873]\n"
          ]
        },
        {
          "output_type": "stream",
          "name": "stderr",
          "text": [
            "\u001b[32m[I 2023-01-09 00:03:55,744]\u001b[0m Trial 44 finished with value: 6.519812094606485 and parameters: {'max_depth': 22, 'n_estimators': 465, 'learning_rate': 0.019594660806815378, 'lambda_l2': 4.349734740985825, 'num_leaves': 24, 'colsample_bytree': 0.5496747501240364}. Best is trial 36 with value: 6.182148951268845.\u001b[0m\n"
          ]
        },
        {
          "output_type": "stream",
          "name": "stdout",
          "text": [
            "Scores: [12.327192054374233, 4.631733478955245, 4.69872641439161, 4.421596430704856]\n"
          ]
        },
        {
          "output_type": "stream",
          "name": "stderr",
          "text": [
            "\u001b[32m[I 2023-01-09 00:04:08,293]\u001b[0m Trial 45 finished with value: 6.190346440888363 and parameters: {'max_depth': 27, 'n_estimators': 288, 'learning_rate': 0.006039488225769242, 'lambda_l2': 3.783263706634715, 'num_leaves': 80, 'colsample_bytree': 0.4797159460427009}. Best is trial 36 with value: 6.182148951268845.\u001b[0m\n"
          ]
        },
        {
          "output_type": "stream",
          "name": "stdout",
          "text": [
            "Scores: [11.838550680059717, 3.5858107346136925, 4.843769197898393, 4.493255150981651]\n"
          ]
        },
        {
          "output_type": "stream",
          "name": "stderr",
          "text": [
            "\u001b[32m[I 2023-01-09 00:04:34,146]\u001b[0m Trial 46 finished with value: 6.491215815336833 and parameters: {'max_depth': 27, 'n_estimators': 610, 'learning_rate': 0.0233534019470051, 'lambda_l2': 3.8161660734280405, 'num_leaves': 79, 'colsample_bytree': 0.4811755451730514}. Best is trial 36 with value: 6.182148951268845.\u001b[0m\n"
          ]
        },
        {
          "output_type": "stream",
          "name": "stdout",
          "text": [
            "Scores: [12.177556675683805, 4.509134830945856, 4.933985044999796, 4.344186709717875]\n"
          ]
        },
        {
          "output_type": "stream",
          "name": "stderr",
          "text": [
            "\u001b[32m[I 2023-01-09 00:04:51,781]\u001b[0m Trial 47 finished with value: 6.420412405132989 and parameters: {'max_depth': 26, 'n_estimators': 278, 'learning_rate': 0.015539339245316643, 'lambda_l2': 5.18753426178244, 'num_leaves': 95, 'colsample_bytree': 0.5224372797647505}. Best is trial 36 with value: 6.182148951268845.\u001b[0m\n"
          ]
        },
        {
          "output_type": "stream",
          "name": "stdout",
          "text": [
            "Scores: [11.896581528953204, 4.2421098667969, 5.1338859782273305, 4.409072246554523]\n"
          ]
        },
        {
          "output_type": "stream",
          "name": "stderr",
          "text": [
            "\u001b[32m[I 2023-01-09 00:05:10,857]\u001b[0m Trial 48 finished with value: 6.456123056396841 and parameters: {'max_depth': 22, 'n_estimators': 479, 'learning_rate': 0.01158716446873969, 'lambda_l2': 3.7670504584678155, 'num_leaves': 56, 'colsample_bytree': 0.575729675968206}. Best is trial 36 with value: 6.182148951268845.\u001b[0m\n"
          ]
        },
        {
          "output_type": "stream",
          "name": "stdout",
          "text": [
            "Scores: [12.106395011899941, 4.409424504368783, 4.860196617750492, 4.448476091568145]\n"
          ]
        },
        {
          "output_type": "stream",
          "name": "stderr",
          "text": [
            "\u001b[32m[I 2023-01-09 00:05:57,383]\u001b[0m Trial 49 finished with value: 6.4204829599154145 and parameters: {'max_depth': 26, 'n_estimators': 831, 'learning_rate': 0.006924348297569835, 'lambda_l2': 5.222389949841003, 'num_leaves': 100, 'colsample_bytree': 0.5305837724260765}. Best is trial 36 with value: 6.182148951268845.\u001b[0m\n"
          ]
        },
        {
          "output_type": "stream",
          "name": "stdout",
          "text": [
            "Scores: [12.048249680665949, 4.351850931387905, 4.821897184744298, 4.459934042863504]\n"
          ]
        },
        {
          "output_type": "stream",
          "name": "stderr",
          "text": [
            "\u001b[32m[I 2023-01-09 00:06:06,159]\u001b[0m Trial 50 finished with value: 6.315481201071652 and parameters: {'max_depth': 25, 'n_estimators': 222, 'learning_rate': 0.002284032217079997, 'lambda_l2': 2.2146877635120394, 'num_leaves': 72, 'colsample_bytree': 0.4491142195861413}. Best is trial 36 with value: 6.182148951268845.\u001b[0m\n"
          ]
        },
        {
          "output_type": "stream",
          "name": "stdout",
          "text": [
            "Scores: [12.406892148991119, 2.9557416130748217, 5.286903760805252, 4.612387281415416]\n"
          ]
        },
        {
          "output_type": "stream",
          "name": "stderr",
          "text": [
            "\u001b[32m[I 2023-01-09 00:06:17,873]\u001b[0m Trial 51 finished with value: 6.36159100226869 and parameters: {'max_depth': 23, 'n_estimators': 375, 'learning_rate': 0.006861167096979022, 'lambda_l2': 9.752826200237745, 'num_leaves': 50, 'colsample_bytree': 0.48689386680104374}. Best is trial 36 with value: 6.182148951268845.\u001b[0m\n"
          ]
        },
        {
          "output_type": "stream",
          "name": "stdout",
          "text": [
            "Scores: [12.116908647860319, 3.9726963616742523, 4.86540616542026, 4.491352834119926]\n"
          ]
        },
        {
          "output_type": "stream",
          "name": "stderr",
          "text": [
            "\u001b[32m[I 2023-01-09 00:06:25,858]\u001b[0m Trial 52 finished with value: 6.3057094341497715 and parameters: {'max_depth': 21, 'n_estimators': 365, 'learning_rate': 0.014042792632680566, 'lambda_l2': 8.154030667552272, 'num_leaves': 31, 'colsample_bytree': 0.4669004100897337}. Best is trial 36 with value: 6.182148951268845.\u001b[0m\n"
          ]
        },
        {
          "output_type": "stream",
          "name": "stdout",
          "text": [
            "Scores: [11.78866357091006, 4.239657760825672, 4.836969426988398, 4.357546977874958]\n"
          ]
        },
        {
          "output_type": "stream",
          "name": "stderr",
          "text": [
            "\u001b[32m[I 2023-01-09 00:06:32,309]\u001b[0m Trial 53 finished with value: 6.228096813043891 and parameters: {'max_depth': 24, 'n_estimators': 567, 'learning_rate': 0.005639937935245235, 'lambda_l2': 3.975445385260234, 'num_leaves': 11, 'colsample_bytree': 0.5157117157492757}. Best is trial 36 with value: 6.182148951268845.\u001b[0m\n"
          ]
        },
        {
          "output_type": "stream",
          "name": "stdout",
          "text": [
            "Scores: [12.300403259856052, 3.6734066328115476, 4.599017880433243, 4.339559479074721]\n"
          ]
        },
        {
          "output_type": "stream",
          "name": "stderr",
          "text": [
            "\u001b[32m[I 2023-01-09 00:06:35,025]\u001b[0m Trial 54 finished with value: 6.236696761436085 and parameters: {'max_depth': 19, 'n_estimators': 103, 'learning_rate': 0.023619530911868216, 'lambda_l2': 6.159558738581404, 'num_leaves': 36, 'colsample_bytree': 0.48875442837338523}. Best is trial 36 with value: 6.182148951268845.\u001b[0m\n"
          ]
        },
        {
          "output_type": "stream",
          "name": "stdout",
          "text": [
            "Scores: [11.73790650345087, 4.046507150249234, 4.774588930191941, 4.387784461852295]\n"
          ]
        },
        {
          "output_type": "stream",
          "name": "stderr",
          "text": [
            "\u001b[32m[I 2023-01-09 00:06:48,802]\u001b[0m Trial 55 finished with value: 6.3729147992416735 and parameters: {'max_depth': 25, 'n_estimators': 258, 'learning_rate': 0.016856970657411364, 'lambda_l2': 7.553759144163847, 'num_leaves': 69, 'colsample_bytree': 0.5310615327613611}. Best is trial 36 with value: 6.182148951268845.\u001b[0m\n"
          ]
        },
        {
          "output_type": "stream",
          "name": "stdout",
          "text": [
            "Scores: [11.745288116673686, 4.181652207241318, 5.105404252433757, 4.459314620617933]\n"
          ]
        },
        {
          "output_type": "stream",
          "name": "stderr",
          "text": [
            "\u001b[32m[I 2023-01-09 00:07:02,055]\u001b[0m Trial 56 finished with value: 6.3949457769649385 and parameters: {'max_depth': 27, 'n_estimators': 434, 'learning_rate': 0.03385907863814336, 'lambda_l2': 3.1253806239328794, 'num_leaves': 56, 'colsample_bytree': 0.4609594653024284}. Best is trial 36 with value: 6.182148951268845.\u001b[0m\n"
          ]
        },
        {
          "output_type": "stream",
          "name": "stdout",
          "text": [
            "Scores: [12.016353331558141, 4.304092106119221, 4.917557625147698, 4.3417800450346915]\n"
          ]
        },
        {
          "output_type": "stream",
          "name": "stderr",
          "text": [
            "\u001b[32m[I 2023-01-09 00:07:45,581]\u001b[0m Trial 57 finished with value: 6.38079850967296 and parameters: {'max_depth': 23, 'n_estimators': 665, 'learning_rate': 0.012323156765477364, 'lambda_l2': 5.687441963708168, 'num_leaves': 180, 'colsample_bytree': 0.44355807279132564}. Best is trial 36 with value: 6.182148951268845.\u001b[0m\n"
          ]
        },
        {
          "output_type": "stream",
          "name": "stdout",
          "text": [
            "Scores: [11.739005426441414, 4.2938453778035495, 4.974344792510674, 4.5159984419362]\n"
          ]
        },
        {
          "output_type": "stream",
          "name": "stderr",
          "text": [
            "\u001b[32m[I 2023-01-09 00:07:57,565]\u001b[0m Trial 58 finished with value: 6.190188793321765 and parameters: {'max_depth': 21, 'n_estimators': 300, 'learning_rate': 0.005202810629589997, 'lambda_l2': 3.1362813285955498, 'num_leaves': 83, 'colsample_bytree': 0.4155945396013472}. Best is trial 36 with value: 6.182148951268845.\u001b[0m\n"
          ]
        },
        {
          "output_type": "stream",
          "name": "stdout",
          "text": [
            "Scores: [11.856865262191821, 3.5345072042105206, 4.888868401814582, 4.480514305070138]\n"
          ]
        },
        {
          "output_type": "stream",
          "name": "stderr",
          "text": [
            "\u001b[32m[I 2023-01-09 00:08:06,974]\u001b[0m Trial 59 finished with value: 6.233505517387339 and parameters: {'max_depth': 19, 'n_estimators': 234, 'learning_rate': 0.008599402417490885, 'lambda_l2': 1.762289657350106, 'num_leaves': 80, 'colsample_bytree': 0.4238440471423206}. Best is trial 36 with value: 6.182148951268845.\u001b[0m\n"
          ]
        },
        {
          "output_type": "stream",
          "name": "stdout",
          "text": [
            "Scores: [11.78667539140343, 3.7346583647492673, 4.943242686224531, 4.469445627172128]\n"
          ]
        },
        {
          "output_type": "stream",
          "name": "stderr",
          "text": [
            "\u001b[32m[I 2023-01-09 00:09:01,352]\u001b[0m Trial 60 finished with value: 6.31429593519872 and parameters: {'max_depth': 19, 'n_estimators': 1050, 'learning_rate': 0.0025093879167952643, 'lambda_l2': 0.07828430883600954, 'num_leaves': 115, 'colsample_bytree': 0.41094382714724426}. Best is trial 36 with value: 6.182148951268845.\u001b[0m\n"
          ]
        },
        {
          "output_type": "stream",
          "name": "stdout",
          "text": [
            "Scores: [11.829911067990167, 3.9509705282300147, 5.064823233336993, 4.411478911237706]\n"
          ]
        },
        {
          "output_type": "stream",
          "name": "stderr",
          "text": [
            "\u001b[32m[I 2023-01-09 00:09:07,302]\u001b[0m Trial 61 finished with value: 6.2327823587636875 and parameters: {'max_depth': 21, 'n_estimators': 331, 'learning_rate': 0.005497762268198141, 'lambda_l2': 2.4648663701062983, 'num_leaves': 21, 'colsample_bytree': 0.49760050963141295}. Best is trial 36 with value: 6.182148951268845.\u001b[0m\n"
          ]
        },
        {
          "output_type": "stream",
          "name": "stdout",
          "text": [
            "Scores: [11.97216483345778, 3.6495208963499226, 4.737495938662261, 4.571947766584785]\n"
          ]
        },
        {
          "output_type": "stream",
          "name": "stderr",
          "text": [
            "\u001b[32m[I 2023-01-09 00:09:27,198]\u001b[0m Trial 62 finished with value: 6.380199271229858 and parameters: {'max_depth': 22, 'n_estimators': 427, 'learning_rate': 0.016378599000608188, 'lambda_l2': 4.3886039125270395, 'num_leaves': 89, 'colsample_bytree': 0.47196056890933036}. Best is trial 36 with value: 6.182148951268845.\u001b[0m\n"
          ]
        },
        {
          "output_type": "stream",
          "name": "stdout",
          "text": [
            "Scores: [11.733167364467183, 4.292759102467572, 5.1113951376772935, 4.3834754803073865]\n"
          ]
        },
        {
          "output_type": "stream",
          "name": "stderr",
          "text": [
            "\u001b[32m[I 2023-01-09 00:09:31,536]\u001b[0m Trial 63 finished with value: 6.145416817710876 and parameters: {'max_depth': 24, 'n_estimators': 110, 'learning_rate': 0.011277686358133867, 'lambda_l2': 3.258281823750559, 'num_leaves': 74, 'colsample_bytree': 0.4382405727248747}. Best is trial 63 with value: 6.145416817710876.\u001b[0m\n"
          ]
        },
        {
          "output_type": "stream",
          "name": "stdout",
          "text": [
            "Scores: [11.928713166569304, 3.2684733312635905, 4.979920682675129, 4.40456009033548]\n"
          ]
        },
        {
          "output_type": "stream",
          "name": "stderr",
          "text": [
            "\u001b[32m[I 2023-01-09 00:09:38,819]\u001b[0m Trial 64 finished with value: 6.242459515560058 and parameters: {'max_depth': 17, 'n_estimators': 191, 'learning_rate': 0.012319822287596201, 'lambda_l2': 3.179584887285258, 'num_leaves': 88, 'colsample_bytree': 0.3793963968970323}. Best is trial 63 with value: 6.145416817710876.\u001b[0m\n"
          ]
        },
        {
          "output_type": "stream",
          "name": "stdout",
          "text": [
            "Scores: [11.815687653936532, 3.6923755096761517, 5.0994721285982765, 4.362302770029269]\n"
          ]
        },
        {
          "output_type": "stream",
          "name": "stderr",
          "text": [
            "\u001b[32m[I 2023-01-09 00:09:43,010]\u001b[0m Trial 65 finished with value: 6.291119966331965 and parameters: {'max_depth': 23, 'n_estimators': 102, 'learning_rate': 0.022000200145599877, 'lambda_l2': 1.4971802546662345, 'num_leaves': 79, 'colsample_bytree': 0.4349877589469573}. Best is trial 63 with value: 6.145416817710876.\u001b[0m\n"
          ]
        },
        {
          "output_type": "stream",
          "name": "stdout",
          "text": [
            "Scores: [11.873191338092592, 3.873907237474387, 5.066147197629622, 4.351234092131258]\n"
          ]
        },
        {
          "output_type": "stream",
          "name": "stderr",
          "text": [
            "\u001b[32m[I 2023-01-09 00:10:08,757]\u001b[0m Trial 66 finished with value: 6.348076431395875 and parameters: {'max_depth': 21, 'n_estimators': 584, 'learning_rate': 0.00843441847322476, 'lambda_l2': 3.533531071400802, 'num_leaves': 101, 'colsample_bytree': 0.4105411514061249}. Best is trial 63 with value: 6.145416817710876.\u001b[0m\n"
          ]
        },
        {
          "output_type": "stream",
          "name": "stdout",
          "text": [
            "Scores: [11.929722902528473, 4.121543991809827, 4.951971474776751, 4.389067356468448]\n"
          ]
        },
        {
          "output_type": "stream",
          "name": "stderr",
          "text": [
            "\u001b[32m[I 2023-01-09 00:10:23,881]\u001b[0m Trial 67 finished with value: 6.348750688448846 and parameters: {'max_depth': 25, 'n_estimators': 272, 'learning_rate': 0.017376448550968017, 'lambda_l2': 2.8594256764745354, 'num_leaves': 122, 'colsample_bytree': 0.4580557941521146}. Best is trial 63 with value: 6.145416817710876.\u001b[0m\n"
          ]
        },
        {
          "output_type": "stream",
          "name": "stdout",
          "text": [
            "Scores: [11.739742257653296, 4.204381779542147, 5.067619898053733, 4.3832588185462065]\n"
          ]
        },
        {
          "output_type": "stream",
          "name": "stderr",
          "text": [
            "\u001b[32m[I 2023-01-09 00:10:42,899]\u001b[0m Trial 68 finished with value: 6.1900190275130935 and parameters: {'max_depth': 17, 'n_estimators': 517, 'learning_rate': 0.0023605517693865395, 'lambda_l2': 2.3017188577231638, 'num_leaves': 63, 'colsample_bytree': 0.393351307082595}. Best is trial 63 with value: 6.145416817710876.\u001b[0m\n"
          ]
        },
        {
          "output_type": "stream",
          "name": "stdout",
          "text": [
            "Scores: [11.964719655237431, 3.337526009373037, 4.975298749085933, 4.482531696355975]\n"
          ]
        },
        {
          "output_type": "stream",
          "name": "stderr",
          "text": [
            "\u001b[32m[I 2023-01-09 00:11:03,115]\u001b[0m Trial 69 finished with value: 6.2163381401164335 and parameters: {'max_depth': 27, 'n_estimators': 751, 'learning_rate': 0.0023814736387016856, 'lambda_l2': 2.128276665266593, 'num_leaves': 58, 'colsample_bytree': 0.343272297660711}. Best is trial 63 with value: 6.145416817710876.\u001b[0m\n"
          ]
        },
        {
          "output_type": "stream",
          "name": "stdout",
          "text": [
            "Scores: [11.878800762110515, 3.5914328062861824, 4.946744487837958, 4.4483745042310785]\n"
          ]
        },
        {
          "output_type": "stream",
          "name": "stderr",
          "text": [
            "\u001b[32m[I 2023-01-09 00:11:17,460]\u001b[0m Trial 70 finished with value: 6.42349973951871 and parameters: {'max_depth': 17, 'n_estimators': 547, 'learning_rate': 0.011256989754810185, 'lambda_l2': 1.1837875396637938, 'num_leaves': 51, 'colsample_bytree': 0.3732319723154022}. Best is trial 63 with value: 6.145416817710876.\u001b[0m\n"
          ]
        },
        {
          "output_type": "stream",
          "name": "stdout",
          "text": [
            "Scores: [12.100417172276074, 4.275727814491334, 5.099589651414391, 4.218264319893041]\n"
          ]
        },
        {
          "output_type": "stream",
          "name": "stderr",
          "text": [
            "\u001b[32m[I 2023-01-09 00:11:38,954]\u001b[0m Trial 71 finished with value: 6.213886477899356 and parameters: {'max_depth': 27, 'n_estimators': 718, 'learning_rate': 0.002092313127181329, 'lambda_l2': 2.1522470486416663, 'num_leaves': 69, 'colsample_bytree': 0.3296213662500319}. Best is trial 63 with value: 6.145416817710876.\u001b[0m\n"
          ]
        },
        {
          "output_type": "stream",
          "name": "stdout",
          "text": [
            "Scores: [12.007726693867863, 3.5117014192575886, 4.915127302925645, 4.420990495546329]\n"
          ]
        },
        {
          "output_type": "stream",
          "name": "stderr",
          "text": [
            "\u001b[32m[I 2023-01-09 00:11:52,240]\u001b[0m Trial 72 finished with value: 6.249507966820351 and parameters: {'max_depth': 17, 'n_estimators': 413, 'learning_rate': 0.005817504761213717, 'lambda_l2': 0.7567221555842494, 'num_leaves': 73, 'colsample_bytree': 0.33391193996443624}. Best is trial 63 with value: 6.145416817710876.\u001b[0m\n"
          ]
        },
        {
          "output_type": "stream",
          "name": "stdout",
          "text": [
            "Scores: [11.812371586758351, 3.65024507990724, 5.034059921452848, 4.501355279162963]\n"
          ]
        },
        {
          "output_type": "stream",
          "name": "stderr",
          "text": [
            "\u001b[32m[I 2023-01-09 00:11:58,100]\u001b[0m Trial 73 finished with value: 6.150765913269473 and parameters: {'max_depth': 26, 'n_estimators': 220, 'learning_rate': 0.008735380101566811, 'lambda_l2': 2.36017330620275, 'num_leaves': 65, 'colsample_bytree': 0.3003267915478638}. Best is trial 63 with value: 6.145416817710876.\u001b[0m\n"
          ]
        },
        {
          "output_type": "stream",
          "name": "stdout",
          "text": [
            "Scores: [11.818844971983228, 3.5385474549460207, 4.8767103471033355, 4.368960879045306]\n"
          ]
        },
        {
          "output_type": "stream",
          "name": "stderr",
          "text": [
            "\u001b[32m[I 2023-01-09 00:12:03,008]\u001b[0m Trial 74 finished with value: 6.215423943076653 and parameters: {'max_depth': 13, 'n_estimators': 198, 'learning_rate': 0.013239791144044314, 'lambda_l2': 4.54131313849683, 'num_leaves': 61, 'colsample_bytree': 0.3000403502051753}. Best is trial 63 with value: 6.145416817710876.\u001b[0m\n"
          ]
        },
        {
          "output_type": "stream",
          "name": "stdout",
          "text": [
            "Scores: [11.835730158482548, 3.689637524578367, 4.952839121851266, 4.383488967394431]\n"
          ]
        },
        {
          "output_type": "stream",
          "name": "stderr",
          "text": [
            "\u001b[32m[I 2023-01-09 00:12:15,221]\u001b[0m Trial 75 finished with value: 6.255126514223593 and parameters: {'max_depth': 26, 'n_estimators': 282, 'learning_rate': 0.008253023246764548, 'lambda_l2': 5.711718400474447, 'num_leaves': 88, 'colsample_bytree': 0.4352891572590116}. Best is trial 63 with value: 6.145416817710876.\u001b[0m\n"
          ]
        },
        {
          "output_type": "stream",
          "name": "stdout",
          "text": [
            "Scores: [11.850023461361001, 3.7230458057983458, 5.017279933152408, 4.430156856582617]\n"
          ]
        },
        {
          "output_type": "stream",
          "name": "stderr",
          "text": [
            "\u001b[32m[I 2023-01-09 00:12:22,528]\u001b[0m Trial 76 finished with value: 6.263059770543055 and parameters: {'max_depth': 14, 'n_estimators': 185, 'learning_rate': 0.01010022998795412, 'lambda_l2': 1.783736569945914, 'num_leaves': 64, 'colsample_bytree': 0.47681426230610824}. Best is trial 63 with value: 6.145416817710876.\u001b[0m\n"
          ]
        },
        {
          "output_type": "stream",
          "name": "stdout",
          "text": [
            "Scores: [11.796134371164246, 3.777805181029337, 4.996113056894999, 4.482186473083639]\n"
          ]
        },
        {
          "output_type": "stream",
          "name": "stderr",
          "text": [
            "\u001b[32m[I 2023-01-09 00:12:39,655]\u001b[0m Trial 77 finished with value: 6.343631492403035 and parameters: {'max_depth': 26, 'n_estimators': 492, 'learning_rate': 0.019062071460853182, 'lambda_l2': 2.413417954927884, 'num_leaves': 75, 'colsample_bytree': 0.3144718322638864}. Best is trial 63 with value: 6.145416817710876.\u001b[0m\n"
          ]
        },
        {
          "output_type": "stream",
          "name": "stdout",
          "text": [
            "Scores: [11.876018183497045, 4.1187996828847595, 5.147751778994918, 4.231956324235416]\n"
          ]
        },
        {
          "output_type": "stream",
          "name": "stderr",
          "text": [
            "\u001b[32m[I 2023-01-09 00:12:54,405]\u001b[0m Trial 78 finished with value: 6.2401584663492615 and parameters: {'max_depth': 24, 'n_estimators': 335, 'learning_rate': 0.005625036447731415, 'lambda_l2': 3.9754604317248146, 'num_leaves': 108, 'colsample_bytree': 0.38705035264203147}. Best is trial 63 with value: 6.145416817710876.\u001b[0m\n"
          ]
        },
        {
          "output_type": "stream",
          "name": "stdout",
          "text": [
            "Scores: [11.9103985844372, 3.6415102837037403, 4.851305319020445, 4.55741967823566]\n"
          ]
        },
        {
          "output_type": "stream",
          "name": "stderr",
          "text": [
            "\u001b[32m[I 2023-01-09 00:12:58,527]\u001b[0m Trial 79 finished with value: 6.257640322895281 and parameters: {'max_depth': 22, 'n_estimators': 100, 'learning_rate': 0.014850418743053638, 'lambda_l2': 3.2223963743052213, 'num_leaves': 42, 'colsample_bytree': 0.7116242213410783}. Best is trial 63 with value: 6.145416817710876.\u001b[0m\n"
          ]
        },
        {
          "output_type": "stream",
          "name": "stdout",
          "text": [
            "Scores: [11.959834414776825, 3.621944353276889, 4.997554544003742, 4.451227979523665]\n"
          ]
        },
        {
          "output_type": "stream",
          "name": "stderr",
          "text": [
            "\u001b[32m[I 2023-01-09 00:13:22,761]\u001b[0m Trial 80 finished with value: 6.242735245371154 and parameters: {'max_depth': 25, 'n_estimators': 418, 'learning_rate': 0.004676694309303072, 'lambda_l2': 1.153945830980818, 'num_leaves': 96, 'colsample_bytree': 0.5397602320251909}. Best is trial 63 with value: 6.145416817710876.\u001b[0m\n"
          ]
        },
        {
          "output_type": "stream",
          "name": "stdout",
          "text": [
            "Scores: [11.74685728995611, 3.812865172011124, 4.95295664466738, 4.458261874850003]\n"
          ]
        },
        {
          "output_type": "stream",
          "name": "stderr",
          "text": [
            "\u001b[32m[I 2023-01-09 00:13:28,355]\u001b[0m Trial 81 finished with value: 6.263640028218573 and parameters: {'max_depth': 27, 'n_estimators': 248, 'learning_rate': 0.0020440956833462608, 'lambda_l2': 2.2333349300541023, 'num_leaves': 49, 'colsample_bytree': 0.3098910675731016}. Best is trial 63 with value: 6.145416817710876.\u001b[0m\n"
          ]
        },
        {
          "output_type": "stream",
          "name": "stdout",
          "text": [
            "Scores: [12.091860750135321, 2.8449778381453763, 5.429149879595297, 4.6885716449983]\n"
          ]
        },
        {
          "output_type": "stream",
          "name": "stderr",
          "text": [
            "\u001b[32m[I 2023-01-09 00:13:47,868]\u001b[0m Trial 82 finished with value: 6.374468187764946 and parameters: {'max_depth': 25, 'n_estimators': 656, 'learning_rate': 0.007768429970260488, 'lambda_l2': 2.749571853215242, 'num_leaves': 67, 'colsample_bytree': 0.34266997972097785}. Best is trial 63 with value: 6.145416817710876.\u001b[0m\n"
          ]
        },
        {
          "output_type": "stream",
          "name": "stdout",
          "text": [
            "Scores: [12.000630633046901, 4.07110442261361, 5.098943275925761, 4.327194419473511]\n"
          ]
        },
        {
          "output_type": "stream",
          "name": "stderr",
          "text": [
            "\u001b[32m[I 2023-01-09 00:13:56,101]\u001b[0m Trial 83 finished with value: 6.2964870094204946 and parameters: {'max_depth': 27, 'n_estimators': 305, 'learning_rate': 0.009950609144807979, 'lambda_l2': 5.2258003187837225, 'num_leaves': 53, 'colsample_bytree': 0.35576885485417997}. Best is trial 63 with value: 6.145416817710876.\u001b[0m\n"
          ]
        },
        {
          "output_type": "stream",
          "name": "stdout",
          "text": [
            "Scores: [11.85053165461658, 3.905587596280456, 4.966926194204738, 4.462902592580202]\n"
          ]
        },
        {
          "output_type": "stream",
          "name": "stderr",
          "text": [
            "\u001b[32m[I 2023-01-09 00:14:52,801]\u001b[0m Trial 84 finished with value: 6.390499866215566 and parameters: {'max_depth': 24, 'n_estimators': 1383, 'learning_rate': 0.004374489779392718, 'lambda_l2': 1.9530190053755188, 'num_leaves': 82, 'colsample_bytree': 0.4072531198051302}. Best is trial 63 with value: 6.145416817710876.\u001b[0m\n"
          ]
        },
        {
          "output_type": "stream",
          "name": "stdout",
          "text": [
            "Scores: [11.935776954804442, 4.170897285670067, 5.07827770424818, 4.377047520139574]\n"
          ]
        },
        {
          "output_type": "stream",
          "name": "stderr",
          "text": [
            "\u001b[32m[I 2023-01-09 00:14:57,728]\u001b[0m Trial 85 finished with value: 6.227771486943958 and parameters: {'max_depth': 26, 'n_estimators': 175, 'learning_rate': 0.011199189750100974, 'lambda_l2': 3.638361219833878, 'num_leaves': 65, 'colsample_bytree': 0.32114183591602596}. Best is trial 63 with value: 6.145416817710876.\u001b[0m\n"
          ]
        },
        {
          "output_type": "stream",
          "name": "stdout",
          "text": [
            "Scores: [11.854267054743675, 3.6700080291539803, 5.095821590853366, 4.2909892730248105]\n"
          ]
        },
        {
          "output_type": "stream",
          "name": "stderr",
          "text": [
            "\u001b[32m[I 2023-01-09 00:15:03,079]\u001b[0m Trial 86 finished with value: 6.169763588983729 and parameters: {'max_depth': 4, 'n_estimators': 754, 'learning_rate': 0.007130982347910345, 'lambda_l2': 4.301681981314836, 'num_leaves': 74, 'colsample_bytree': 0.36522766694425135}. Best is trial 63 with value: 6.145416817710876.\u001b[0m\n"
          ]
        },
        {
          "output_type": "stream",
          "name": "stdout",
          "text": [
            "Scores: [11.646352890996898, 3.9327195110954456, 4.6258956089402465, 4.474086344902327]\n"
          ]
        },
        {
          "output_type": "stream",
          "name": "stderr",
          "text": [
            "\u001b[32m[I 2023-01-09 00:15:09,323]\u001b[0m Trial 87 finished with value: 6.485184435988246 and parameters: {'max_depth': 4, 'n_estimators': 812, 'learning_rate': 0.02614942908217796, 'lambda_l2': 6.693652458468319, 'num_leaves': 76, 'colsample_bytree': 0.44606409315947354}. Best is trial 63 with value: 6.145416817710876.\u001b[0m\n"
          ]
        },
        {
          "output_type": "stream",
          "name": "stdout",
          "text": [
            "Scores: [11.805688535059014, 4.75734334353441, 4.704437266641204, 4.673268598718356]\n"
          ]
        },
        {
          "output_type": "stream",
          "name": "stderr",
          "text": [
            "\u001b[32m[I 2023-01-09 00:15:30,760]\u001b[0m Trial 88 finished with value: 6.437774618505878 and parameters: {'max_depth': 8, 'n_estimators': 979, 'learning_rate': 0.01402194224661387, 'lambda_l2': 4.330714587030234, 'num_leaves': 93, 'colsample_bytree': 0.3902231432933939}. Best is trial 63 with value: 6.145416817710876.\u001b[0m\n"
          ]
        },
        {
          "output_type": "stream",
          "name": "stdout",
          "text": [
            "Scores: [11.83599673940255, 4.429269990094908, 5.123038113762369, 4.362793630763684]\n"
          ]
        },
        {
          "output_type": "stream",
          "name": "stderr",
          "text": [
            "\u001b[32m[I 2023-01-09 00:15:45,065]\u001b[0m Trial 89 finished with value: 6.351277975361347 and parameters: {'max_depth': 15, 'n_estimators': 519, 'learning_rate': 0.007117411269566911, 'lambda_l2': 4.914883660046705, 'num_leaves': 38, 'colsample_bytree': 0.5089356312037737}. Best is trial 63 with value: 6.145416817710876.\u001b[0m\n"
          ]
        },
        {
          "output_type": "stream",
          "name": "stdout",
          "text": [
            "Scores: [11.90900713176811, 4.192616795287022, 4.833436412059603, 4.470051562330654]\n"
          ]
        },
        {
          "output_type": "stream",
          "name": "stderr",
          "text": [
            "\u001b[32m[I 2023-01-09 00:15:50,252]\u001b[0m Trial 90 finished with value: 6.3814378026385725 and parameters: {'max_depth': 7, 'n_estimators': 370, 'learning_rate': 0.018312945993044116, 'lambda_l2': 8.591440676671155, 'num_leaves': 29, 'colsample_bytree': 0.36482156590272685}. Best is trial 63 with value: 6.145416817710876.\u001b[0m\n"
          ]
        },
        {
          "output_type": "stream",
          "name": "stdout",
          "text": [
            "Scores: [12.065211079817368, 4.038502861430334, 4.963054384873942, 4.458982884432642]\n"
          ]
        },
        {
          "output_type": "stream",
          "name": "stderr",
          "text": [
            "\u001b[32m[I 2023-01-09 00:16:14,541]\u001b[0m Trial 91 finished with value: 6.277087279929004 and parameters: {'max_depth': 20, 'n_estimators': 734, 'learning_rate': 0.004525721112307957, 'lambda_l2': 3.3608032124448144, 'num_leaves': 84, 'colsample_bytree': 0.3313592293315639}. Best is trial 63 with value: 6.145416817710876.\u001b[0m\n"
          ]
        },
        {
          "output_type": "stream",
          "name": "stdout",
          "text": [
            "Scores: [11.84469359264235, 3.7985209517897003, 5.100208478810332, 4.364926096473633]\n"
          ]
        },
        {
          "output_type": "stream",
          "name": "stderr",
          "text": [
            "\u001b[32m[I 2023-01-09 00:16:22,278]\u001b[0m Trial 92 finished with value: 6.126969811052801 and parameters: {'max_depth': 23, 'n_estimators': 160, 'learning_rate': 0.009148271396819509, 'lambda_l2': 2.4056285524139014, 'num_leaves': 68, 'colsample_bytree': 0.37313117665127893}. Best is trial 92 with value: 6.126969811052801.\u001b[0m\n"
          ]
        },
        {
          "output_type": "stream",
          "name": "stdout",
          "text": [
            "Scores: [11.860613309973482, 3.4279996703183135, 4.92922814932546, 4.290038114593949]\n"
          ]
        },
        {
          "output_type": "stream",
          "name": "stderr",
          "text": [
            "\u001b[32m[I 2023-01-09 00:16:28,741]\u001b[0m Trial 93 finished with value: 6.148617836079133 and parameters: {'max_depth': 10, 'n_estimators': 159, 'learning_rate': 0.009048587964579288, 'lambda_l2': 1.5519401054629711, 'num_leaves': 102, 'colsample_bytree': 0.41930417032347267}. Best is trial 92 with value: 6.126969811052801.\u001b[0m\n"
          ]
        },
        {
          "output_type": "stream",
          "name": "stdout",
          "text": [
            "Scores: [11.769199475169149, 3.4573041358052565, 4.906737308775424, 4.461230424566702]\n"
          ]
        },
        {
          "output_type": "stream",
          "name": "stderr",
          "text": [
            "\u001b[32m[I 2023-01-09 00:16:31,456]\u001b[0m Trial 94 finished with value: 6.223294092615841 and parameters: {'max_depth': 6, 'n_estimators': 158, 'learning_rate': 0.0094265694715604, 'lambda_l2': 1.5299284013864716, 'num_leaves': 61, 'colsample_bytree': 0.3977360256465193}. Best is trial 92 with value: 6.126969811052801.\u001b[0m\n"
          ]
        },
        {
          "output_type": "stream",
          "name": "stdout",
          "text": [
            "Scores: [11.84422999290246, 3.449789068760087, 5.060906436644483, 4.538250872156335]\n"
          ]
        },
        {
          "output_type": "stream",
          "name": "stderr",
          "text": [
            "\u001b[32m[I 2023-01-09 00:16:41,838]\u001b[0m Trial 95 finished with value: 6.344414641317243 and parameters: {'max_depth': 10, 'n_estimators': 253, 'learning_rate': 0.015400685877903941, 'lambda_l2': 1.7406832833603427, 'num_leaves': 102, 'colsample_bytree': 0.4227580197544146}. Best is trial 92 with value: 6.126969811052801.\u001b[0m\n"
          ]
        },
        {
          "output_type": "stream",
          "name": "stdout",
          "text": [
            "Scores: [11.859774644075658, 4.138143299182589, 5.046954326376151, 4.332786295634572]\n"
          ]
        },
        {
          "output_type": "stream",
          "name": "stderr",
          "text": [
            "\u001b[32m[I 2023-01-09 00:16:57,324]\u001b[0m Trial 96 finished with value: 6.372507544999285 and parameters: {'max_depth': 11, 'n_estimators': 393, 'learning_rate': 0.01246270738420192, 'lambda_l2': 2.9073251705478094, 'num_leaves': 114, 'colsample_bytree': 0.3760180089407452}. Best is trial 92 with value: 6.126969811052801.\u001b[0m\n"
          ]
        },
        {
          "output_type": "stream",
          "name": "stdout",
          "text": [
            "Scores: [11.929557829569704, 4.133524966366691, 5.148208096213032, 4.278739287847713]\n"
          ]
        },
        {
          "output_type": "stream",
          "name": "stderr",
          "text": [
            "\u001b[32m[I 2023-01-09 00:17:08,642]\u001b[0m Trial 97 finished with value: 6.518923653971314 and parameters: {'max_depth': 4, 'n_estimators': 1636, 'learning_rate': 0.09568486841310034, 'lambda_l2': 2.435198864711647, 'num_leaves': 75, 'colsample_bytree': 0.4141873369879931}. Best is trial 92 with value: 6.126969811052801.\u001b[0m\n"
          ]
        },
        {
          "output_type": "stream",
          "name": "stdout",
          "text": [
            "Scores: [11.899300215844434, 4.643854231161746, 4.716197765542394, 4.816342403336678]\n"
          ]
        },
        {
          "output_type": "stream",
          "name": "stderr",
          "text": [
            "\u001b[32m[I 2023-01-09 00:17:22,167]\u001b[0m Trial 98 finished with value: 6.26305543194967 and parameters: {'max_depth': 23, 'n_estimators': 319, 'learning_rate': 0.006716736787706921, 'lambda_l2': 4.016773416780573, 'num_leaves': 84, 'colsample_bytree': 0.4354008364210428}. Best is trial 92 with value: 6.126969811052801.\u001b[0m\n"
          ]
        },
        {
          "output_type": "stream",
          "name": "stdout",
          "text": [
            "Scores: [11.863662469506956, 3.748951667627721, 4.938973321083679, 4.500634269580326]\n"
          ]
        },
        {
          "output_type": "stream",
          "name": "stderr",
          "text": [
            "\u001b[32m[I 2023-01-09 00:17:32,428]\u001b[0m Trial 99 finished with value: 6.408122524584444 and parameters: {'max_depth': 14, 'n_estimators': 457, 'learning_rate': 0.05339884078422095, 'lambda_l2': 2.6822682829976174, 'num_leaves': 46, 'colsample_bytree': 0.3996297038414585}. Best is trial 92 with value: 6.126969811052801.\u001b[0m\n"
          ]
        },
        {
          "output_type": "stream",
          "name": "stdout",
          "text": [
            "Scores: [12.070483707365765, 4.276223360092347, 4.952766586396865, 4.333016444482796]\n",
            "  Value: 6.126969811052801\n",
            "  Params: \n",
            "    max_depth: 23\n",
            "    n_estimators: 160\n",
            "    learning_rate: 0.009148271396819509\n",
            "    lambda_l2: 2.4056285524139014\n",
            "    num_leaves: 68\n",
            "    colsample_bytree: 0.37313117665127893\n"
          ]
        }
      ]
    },
    {
      "cell_type": "code",
      "source": [
        "best_params"
      ],
      "metadata": {
        "id": "yiSSFn8anQhj",
        "colab": {
          "base_uri": "https://localhost:8080/"
        },
        "outputId": "9651ab0c-e39f-480f-c0a2-05bc0e24edff"
      },
      "execution_count": null,
      "outputs": [
        {
          "output_type": "execute_result",
          "data": {
            "text/plain": [
              "{'max_depth': 23,\n",
              " 'n_estimators': 160,\n",
              " 'learning_rate': 0.009148271396819509,\n",
              " 'lambda_l2': 2.4056285524139014,\n",
              " 'num_leaves': 68,\n",
              " 'colsample_bytree': 0.37313117665127893}"
            ]
          },
          "metadata": {},
          "execution_count": 12
        }
      ]
    },
    {
      "cell_type": "markdown",
      "source": [
        "# 千葉"
      ],
      "metadata": {
        "id": "qhfhc0B_nSjr"
      }
    },
    {
      "cell_type": "code",
      "source": [
        "train_val_y = df_train_val[\"log_pollen_chiba\"].values\n",
        "train_val_y_raw = df_train_val[\"pollen_chiba\"].values\n",
        "\n",
        "f = partial(objective,\n",
        "            train_val_X,\n",
        "            train_val_y,\n",
        "            train_val_y_raw,\n",
        "            cv_indicies)\n",
        "study = optuna.create_study(direction=\"minimize\")\n",
        "study.optimize(f, n_trials=100)\n",
        "\n",
        "trial = study.best_trial\n",
        "\n",
        "print(\"  Value: {}\".format(trial.value))\n",
        "\n",
        "print(\"  Params: \")\n",
        "for key, value in trial.params.items():\n",
        "    print(\"    {}: {}\".format(key, value))\n",
        "best_params = trial.params"
      ],
      "metadata": {
        "id": "I6LhC3fUnUP3",
        "colab": {
          "base_uri": "https://localhost:8080/"
        },
        "outputId": "868f7fa3-4b26-4097-9e90-ea23aa6ae0dc"
      },
      "execution_count": null,
      "outputs": [
        {
          "output_type": "stream",
          "name": "stderr",
          "text": [
            "\u001b[32m[I 2023-01-09 00:17:32,470]\u001b[0m A new study created in memory with name: no-name-887c2377-e801-40c3-9445-ab7a1c06d8b0\u001b[0m\n",
            "\u001b[32m[I 2023-01-09 00:18:31,496]\u001b[0m Trial 0 finished with value: 7.290138019829341 and parameters: {'max_depth': 26, 'n_estimators': 991, 'learning_rate': 0.04593165844090655, 'lambda_l2': 0.16378872149733661, 'num_leaves': 129, 'colsample_bytree': 0.464781491337246}. Best is trial 0 with value: 7.290138019829341.\u001b[0m\n"
          ]
        },
        {
          "output_type": "stream",
          "name": "stdout",
          "text": [
            "Scores: [13.816340125549935, 4.08246040567456, 6.233982273937156, 5.0277692741557125]\n"
          ]
        },
        {
          "output_type": "stream",
          "name": "stderr",
          "text": [
            "\u001b[32m[I 2023-01-09 00:19:33,557]\u001b[0m Trial 1 finished with value: 7.27787185318432 and parameters: {'max_depth': 19, 'n_estimators': 2051, 'learning_rate': 0.08104475967297785, 'lambda_l2': 0.9389285261872059, 'num_leaves': 48, 'colsample_bytree': 0.6256066071262791}. Best is trial 1 with value: 7.27787185318432.\u001b[0m\n"
          ]
        },
        {
          "output_type": "stream",
          "name": "stdout",
          "text": [
            "Scores: [13.500629959184561, 4.385945632602603, 6.446402270380888, 4.77850955056923]\n"
          ]
        },
        {
          "output_type": "stream",
          "name": "stderr",
          "text": [
            "\u001b[32m[I 2023-01-09 00:20:32,872]\u001b[0m Trial 2 finished with value: 7.517487900095559 and parameters: {'max_depth': 10, 'n_estimators': 1559, 'learning_rate': 0.032097887412316416, 'lambda_l2': 1.5848001300362429, 'num_leaves': 54, 'colsample_bytree': 0.7993941102422277}. Best is trial 1 with value: 7.27787185318432.\u001b[0m\n"
          ]
        },
        {
          "output_type": "stream",
          "name": "stdout",
          "text": [
            "Scores: [14.686538035373056, 4.122432708885031, 6.209274089099938, 5.05170676702421]\n"
          ]
        },
        {
          "output_type": "stream",
          "name": "stderr",
          "text": [
            "\u001b[32m[I 2023-01-09 00:21:43,760]\u001b[0m Trial 3 finished with value: 7.002297109485461 and parameters: {'max_depth': 20, 'n_estimators': 1402, 'learning_rate': 0.06279707308631628, 'lambda_l2': 0.10969868999609157, 'num_leaves': 230, 'colsample_bytree': 0.3594380682169148}. Best is trial 3 with value: 7.002297109485461.\u001b[0m\n"
          ]
        },
        {
          "output_type": "stream",
          "name": "stdout",
          "text": [
            "Scores: [12.57918079101145, 3.890154392016856, 6.475540326320873, 5.064312928592663]\n"
          ]
        },
        {
          "output_type": "stream",
          "name": "stderr",
          "text": [
            "\u001b[32m[I 2023-01-09 00:24:28,251]\u001b[0m Trial 4 finished with value: 7.203466471565207 and parameters: {'max_depth': 20, 'n_estimators': 2758, 'learning_rate': 0.07704358146002098, 'lambda_l2': 0.31242686900423855, 'num_leaves': 120, 'colsample_bytree': 0.6899743735219748}. Best is trial 3 with value: 7.002297109485461.\u001b[0m\n"
          ]
        },
        {
          "output_type": "stream",
          "name": "stdout",
          "text": [
            "Scores: [13.183324518338546, 4.199136362639391, 6.599100687829192, 4.832304317453696]\n"
          ]
        },
        {
          "output_type": "stream",
          "name": "stderr",
          "text": [
            "\u001b[32m[I 2023-01-09 00:24:35,585]\u001b[0m Trial 5 finished with value: 7.3981591240012925 and parameters: {'max_depth': 19, 'n_estimators': 1202, 'learning_rate': 0.08531377220371279, 'lambda_l2': 0.3549037293780367, 'num_leaves': 11, 'colsample_bytree': 0.3468114056288906}. Best is trial 3 with value: 7.002297109485461.\u001b[0m\n"
          ]
        },
        {
          "output_type": "stream",
          "name": "stdout",
          "text": [
            "Scores: [14.383203389281928, 4.119930627447458, 6.09647759916289, 4.9930248801128965]\n"
          ]
        },
        {
          "output_type": "stream",
          "name": "stderr",
          "text": [
            "\u001b[32m[I 2023-01-09 00:27:00,457]\u001b[0m Trial 6 finished with value: 7.24571183668619 and parameters: {'max_depth': 24, 'n_estimators': 2670, 'learning_rate': 0.03764464886813792, 'lambda_l2': 0.20427661990732812, 'num_leaves': 148, 'colsample_bytree': 0.40030673274368844}. Best is trial 3 with value: 7.002297109485461.\u001b[0m\n"
          ]
        },
        {
          "output_type": "stream",
          "name": "stdout",
          "text": [
            "Scores: [14.048502571363233, 3.849615620864141, 5.932884618338404, 5.151844536178982]\n"
          ]
        },
        {
          "output_type": "stream",
          "name": "stderr",
          "text": [
            "\u001b[32m[I 2023-01-09 00:27:38,857]\u001b[0m Trial 7 finished with value: 7.326111706561569 and parameters: {'max_depth': 11, 'n_estimators': 1001, 'learning_rate': 0.015825813132233617, 'lambda_l2': 3.014194334901729, 'num_leaves': 69, 'colsample_bytree': 0.6000561540882889}. Best is trial 3 with value: 7.002297109485461.\u001b[0m\n"
          ]
        },
        {
          "output_type": "stream",
          "name": "stdout",
          "text": [
            "Scores: [14.242040037069284, 4.188241391414277, 5.973137676416572, 4.901027721346147]\n"
          ]
        },
        {
          "output_type": "stream",
          "name": "stderr",
          "text": [
            "\u001b[32m[I 2023-01-09 00:27:53,872]\u001b[0m Trial 8 finished with value: 7.1374491181844535 and parameters: {'max_depth': 23, 'n_estimators': 382, 'learning_rate': 0.042035731205787345, 'lambda_l2': 9.395196759329707, 'num_leaves': 65, 'colsample_bytree': 0.3849864248383482}. Best is trial 3 with value: 7.002297109485461.\u001b[0m\n"
          ]
        },
        {
          "output_type": "stream",
          "name": "stdout",
          "text": [
            "Scores: [13.711453059434987, 3.939881456418006, 6.008139490514011, 4.890322466370809]\n"
          ]
        },
        {
          "output_type": "stream",
          "name": "stderr",
          "text": [
            "\u001b[32m[I 2023-01-09 00:28:50,721]\u001b[0m Trial 9 finished with value: 7.129208127089525 and parameters: {'max_depth': 17, 'n_estimators': 2570, 'learning_rate': 0.026868679302649384, 'lambda_l2': 2.8232727144529814, 'num_leaves': 66, 'colsample_bytree': 0.3007244565769631}. Best is trial 3 with value: 7.002297109485461.\u001b[0m\n"
          ]
        },
        {
          "output_type": "stream",
          "name": "stdout",
          "text": [
            "Scores: [13.286654341690353, 3.862365044311734, 6.352943609556191, 5.014869512799818]\n"
          ]
        },
        {
          "output_type": "stream",
          "name": "stderr",
          "text": [
            "\u001b[32m[I 2023-01-09 00:28:54,219]\u001b[0m Trial 10 finished with value: 7.316804071466618 and parameters: {'max_depth': 4, 'n_estimators': 369, 'learning_rate': 0.06566932508404949, 'lambda_l2': 0.05257940775309932, 'num_leaves': 253, 'colsample_bytree': 0.5084503126321867}. Best is trial 3 with value: 7.002297109485461.\u001b[0m\n"
          ]
        },
        {
          "output_type": "stream",
          "name": "stdout",
          "text": [
            "Scores: [14.546707457963748, 3.836774955402632, 5.686400810553129, 5.197333061946959]\n"
          ]
        },
        {
          "output_type": "stream",
          "name": "stderr",
          "text": [
            "\u001b[32m[I 2023-01-09 00:30:23,159]\u001b[0m Trial 11 finished with value: 7.080176986456474 and parameters: {'max_depth': 14, 'n_estimators': 2075, 'learning_rate': 0.005506620150211139, 'lambda_l2': 4.642849321359906, 'num_leaves': 251, 'colsample_bytree': 0.3037402369078649}. Best is trial 3 with value: 7.002297109485461.\u001b[0m\n"
          ]
        },
        {
          "output_type": "stream",
          "name": "stdout",
          "text": [
            "Scores: [13.347237199975748, 3.652411234645108, 6.195436066584262, 5.1256234446207785]\n"
          ]
        },
        {
          "output_type": "stream",
          "name": "stderr",
          "text": [
            "\u001b[32m[I 2023-01-09 00:31:48,757]\u001b[0m Trial 12 finished with value: 7.118593796061456 and parameters: {'max_depth': 13, 'n_estimators': 1927, 'learning_rate': 0.004570913217543538, 'lambda_l2': 0.06922607207747485, 'num_leaves': 245, 'colsample_bytree': 0.3020851795757509}. Best is trial 3 with value: 7.002297109485461.\u001b[0m\n"
          ]
        },
        {
          "output_type": "stream",
          "name": "stdout",
          "text": [
            "Scores: [13.561572172343395, 3.6823085991323317, 6.148419710574355, 5.082074702195742]\n"
          ]
        },
        {
          "output_type": "stream",
          "name": "stderr",
          "text": [
            "\u001b[32m[I 2023-01-09 00:32:29,122]\u001b[0m Trial 13 finished with value: 7.146088447764631 and parameters: {'max_depth': 7, 'n_estimators': 2170, 'learning_rate': 0.09990221432791072, 'lambda_l2': 9.234204262581994, 'num_leaves': 204, 'colsample_bytree': 0.455158064614421}. Best is trial 3 with value: 7.002297109485461.\u001b[0m\n"
          ]
        },
        {
          "output_type": "stream",
          "name": "stdout",
          "text": [
            "Scores: [13.478034532532373, 4.135945632602603, 6.233447926656754, 4.736925699266796]\n"
          ]
        },
        {
          "output_type": "stream",
          "name": "stderr",
          "text": [
            "\u001b[32m[I 2023-01-09 00:33:41,020]\u001b[0m Trial 14 finished with value: 7.242394107816685 and parameters: {'max_depth': 15, 'n_estimators': 1558, 'learning_rate': 0.057479942845669776, 'lambda_l2': 0.7618280056753085, 'num_leaves': 198, 'colsample_bytree': 0.41903778399916297}. Best is trial 3 with value: 7.002297109485461.\u001b[0m\n"
          ]
        },
        {
          "output_type": "stream",
          "name": "stdout",
          "text": [
            "Scores: [14.059038187714902, 3.8701349339251445, 5.886428251596641, 5.153975058030053]\n"
          ]
        },
        {
          "output_type": "stream",
          "name": "stderr",
          "text": [
            "\u001b[32m[I 2023-01-09 00:35:09,327]\u001b[0m Trial 15 finished with value: 7.35557261441022 and parameters: {'max_depth': 15, 'n_estimators': 2246, 'learning_rate': 0.059647490633895565, 'lambda_l2': 4.095532770096159, 'num_leaves': 215, 'colsample_bytree': 0.3549328353408307}. Best is trial 3 with value: 7.002297109485461.\u001b[0m\n"
          ]
        },
        {
          "output_type": "stream",
          "name": "stdout",
          "text": [
            "Scores: [14.421530014306448, 3.8341004706782873, 6.138750175551629, 5.027909797104518]\n"
          ]
        },
        {
          "output_type": "stream",
          "name": "stderr",
          "text": [
            "\u001b[32m[I 2023-01-09 00:36:56,436]\u001b[0m Trial 16 finished with value: 7.190259995831653 and parameters: {'max_depth': 23, 'n_estimators': 1294, 'learning_rate': 0.004384323696946836, 'lambda_l2': 0.11184671772471677, 'num_leaves': 163, 'colsample_bytree': 0.5294108980595149}. Best is trial 3 with value: 7.002297109485461.\u001b[0m\n"
          ]
        },
        {
          "output_type": "stream",
          "name": "stdout",
          "text": [
            "Scores: [13.820598143046125, 3.793135731679181, 6.103344705978696, 5.0439614026226085]\n"
          ]
        },
        {
          "output_type": "stream",
          "name": "stderr",
          "text": [
            "\u001b[32m[I 2023-01-09 00:37:40,566]\u001b[0m Trial 17 finished with value: 7.124761338480033 and parameters: {'max_depth': 8, 'n_estimators': 1763, 'learning_rate': 0.01959062681644631, 'lambda_l2': 0.43767706829566355, 'num_leaves': 178, 'colsample_bytree': 0.4519950518739101}. Best is trial 3 with value: 7.002297109485461.\u001b[0m\n"
          ]
        },
        {
          "output_type": "stream",
          "name": "stdout",
          "text": [
            "Scores: [13.599003216775424, 4.0317728086756945, 5.8267194935950855, 5.041549834873928]\n"
          ]
        },
        {
          "output_type": "stream",
          "name": "stderr",
          "text": [
            "\u001b[32m[I 2023-01-09 00:38:31,320]\u001b[0m Trial 18 finished with value: 7.02064401398016 and parameters: {'max_depth': 27, 'n_estimators': 782, 'learning_rate': 0.07061895828471325, 'lambda_l2': 1.4322552768464774, 'num_leaves': 234, 'colsample_bytree': 0.34891212920472287}. Best is trial 3 with value: 7.002297109485461.\u001b[0m\n"
          ]
        },
        {
          "output_type": "stream",
          "name": "stdout",
          "text": [
            "Scores: [12.303344411692676, 4.129857791924904, 6.34039472036332, 5.308979131939742]\n"
          ]
        },
        {
          "output_type": "stream",
          "name": "stderr",
          "text": [
            "\u001b[32m[I 2023-01-09 00:40:14,027]\u001b[0m Trial 19 finished with value: 7.294227412229145 and parameters: {'max_depth': 27, 'n_estimators': 1024, 'learning_rate': 0.06977164122943749, 'lambda_l2': 1.7546770155406874, 'num_leaves': 230, 'colsample_bytree': 0.5913556511685933}. Best is trial 3 with value: 7.002297109485461.\u001b[0m\n"
          ]
        },
        {
          "output_type": "stream",
          "name": "stdout",
          "text": [
            "Scores: [14.00013010421527, 4.025980516489599, 6.198733138156872, 4.952065890054839]\n"
          ]
        },
        {
          "output_type": "stream",
          "name": "stderr",
          "text": [
            "\u001b[32m[I 2023-01-09 00:40:49,930]\u001b[0m Trial 20 finished with value: 7.015315121195558 and parameters: {'max_depth': 21, 'n_estimators': 669, 'learning_rate': 0.09708174060151112, 'lambda_l2': 1.384614146312291, 'num_leaves': 112, 'colsample_bytree': 0.4953451659832347}. Best is trial 3 with value: 7.002297109485461.\u001b[0m\n"
          ]
        },
        {
          "output_type": "stream",
          "name": "stdout",
          "text": [
            "Scores: [12.943684924812342, 3.8645889321487203, 6.322841908872569, 4.9301447189486005]\n"
          ]
        },
        {
          "output_type": "stream",
          "name": "stderr",
          "text": [
            "\u001b[32m[I 2023-01-09 00:41:01,717]\u001b[0m Trial 21 finished with value: 7.20518927556426 and parameters: {'max_depth': 21, 'n_estimators': 225, 'learning_rate': 0.09853667552709489, 'lambda_l2': 1.2316911304934355, 'num_leaves': 100, 'colsample_bytree': 0.4933939508031687}. Best is trial 3 with value: 7.002297109485461.\u001b[0m\n"
          ]
        },
        {
          "output_type": "stream",
          "name": "stdout",
          "text": [
            "Scores: [13.035140228482573, 4.2620981571575225, 6.654262944850045, 4.8692557717669]\n"
          ]
        },
        {
          "output_type": "stream",
          "name": "stderr",
          "text": [
            "\u001b[32m[I 2023-01-09 00:41:30,104]\u001b[0m Trial 22 finished with value: 7.097417820222779 and parameters: {'max_depth': 25, 'n_estimators': 655, 'learning_rate': 0.08738120041880346, 'lambda_l2': 0.5734987080417459, 'num_leaves': 98, 'colsample_bytree': 0.3579290252831867}. Best is trial 3 with value: 7.002297109485461.\u001b[0m\n"
          ]
        },
        {
          "output_type": "stream",
          "name": "stdout",
          "text": [
            "Scores: [13.173335208446995, 4.073377902739944, 6.359472406798956, 4.783485762905224]\n"
          ]
        },
        {
          "output_type": "stream",
          "name": "stderr",
          "text": [
            "\u001b[32m[I 2023-01-09 00:42:22,742]\u001b[0m Trial 23 finished with value: 7.247691283470705 and parameters: {'max_depth': 22, 'n_estimators': 679, 'learning_rate': 0.07317141632603069, 'lambda_l2': 1.0570577701825241, 'num_leaves': 182, 'colsample_bytree': 0.5586947877629189}. Best is trial 3 with value: 7.002297109485461.\u001b[0m\n"
          ]
        },
        {
          "output_type": "stream",
          "name": "stdout",
          "text": [
            "Scores: [13.61617578685602, 3.990790714785573, 6.328991451694478, 5.05480718054675]\n"
          ]
        },
        {
          "output_type": "stream",
          "name": "stderr",
          "text": [
            "\u001b[32m[I 2023-01-09 00:43:12,930]\u001b[0m Trial 24 finished with value: 7.489338638101427 and parameters: {'max_depth': 18, 'n_estimators': 627, 'learning_rate': 0.05192308053059847, 'lambda_l2': 2.1222286920605233, 'num_leaves': 153, 'colsample_bytree': 0.676071616250554}. Best is trial 3 with value: 7.002297109485461.\u001b[0m\n"
          ]
        },
        {
          "output_type": "stream",
          "name": "stdout",
          "text": [
            "Scores: [14.465893560959005, 4.1055556872960395, 6.463837211060602, 4.922068093090065]\n"
          ]
        },
        {
          "output_type": "stream",
          "name": "stderr",
          "text": [
            "\u001b[32m[I 2023-01-09 00:44:40,036]\u001b[0m Trial 25 finished with value: 6.974632226644742 and parameters: {'max_depth': 27, 'n_estimators': 1288, 'learning_rate': 0.09023327781021623, 'lambda_l2': 0.577123102661381, 'num_leaves': 224, 'colsample_bytree': 0.4268197757523147}. Best is trial 25 with value: 6.974632226644742.\u001b[0m\n"
          ]
        },
        {
          "output_type": "stream",
          "name": "stdout",
          "text": [
            "Scores: [12.681932404712219, 3.8297685660592, 6.275291205582258, 5.11153673022529]\n"
          ]
        },
        {
          "output_type": "stream",
          "name": "stderr",
          "text": [
            "\u001b[32m[I 2023-01-09 00:45:39,664]\u001b[0m Trial 26 finished with value: 7.04290343288311 and parameters: {'max_depth': 21, 'n_estimators': 1330, 'learning_rate': 0.09454415592200283, 'lambda_l2': 0.21236674066591343, 'num_leaves': 103, 'colsample_bytree': 0.4236209331818224}. Best is trial 25 with value: 6.974632226644742.\u001b[0m\n"
          ]
        },
        {
          "output_type": "stream",
          "name": "stdout",
          "text": [
            "Scores: [13.027596467796705, 3.9711653213493348, 6.21848868467169, 4.954363257714706]\n"
          ]
        },
        {
          "output_type": "stream",
          "name": "stderr",
          "text": [
            "\u001b[32m[I 2023-01-09 00:47:36,247]\u001b[0m Trial 27 finished with value: 7.2138471752097395 and parameters: {'max_depth': 25, 'n_estimators': 1736, 'learning_rate': 0.0910414167822264, 'lambda_l2': 0.11666585586372237, 'num_leaves': 216, 'colsample_bytree': 0.48876805770885134}. Best is trial 25 with value: 6.974632226644742.\u001b[0m\n"
          ]
        },
        {
          "output_type": "stream",
          "name": "stdout",
          "text": [
            "Scores: [13.820253336472588, 4.1026841702439585, 5.915579128530496, 5.016872065591914]\n"
          ]
        },
        {
          "output_type": "stream",
          "name": "stderr",
          "text": [
            "\u001b[32m[I 2023-01-09 00:48:48,010]\u001b[0m Trial 28 finished with value: 7.180419171146527 and parameters: {'max_depth': 17, 'n_estimators': 1424, 'learning_rate': 0.08049312496155789, 'lambda_l2': 0.5553241032514861, 'num_leaves': 188, 'colsample_bytree': 0.4326449685785735}. Best is trial 25 with value: 6.974632226644742.\u001b[0m\n"
          ]
        },
        {
          "output_type": "stream",
          "name": "stdout",
          "text": [
            "Scores: [13.389492729846202, 4.024027548103251, 6.381494793307188, 4.92666161332947]\n"
          ]
        },
        {
          "output_type": "stream",
          "name": "stderr",
          "text": [
            "\u001b[32m[I 2023-01-09 00:49:54,866]\u001b[0m Trial 29 finished with value: 7.2025037948403465 and parameters: {'max_depth': 26, 'n_estimators': 1094, 'learning_rate': 0.08920742065400689, 'lambda_l2': 0.08792556669154374, 'num_leaves': 129, 'colsample_bytree': 0.4685541033515075}. Best is trial 25 with value: 6.974632226644742.\u001b[0m\n"
          ]
        },
        {
          "output_type": "stream",
          "name": "stdout",
          "text": [
            "Scores: [13.19012098802207, 4.260342221098911, 6.167080920540627, 5.192471049699775]\n"
          ]
        },
        {
          "output_type": "stream",
          "name": "stderr",
          "text": [
            "\u001b[32m[I 2023-01-09 00:50:43,474]\u001b[0m Trial 30 finished with value: 7.154459924693087 and parameters: {'max_depth': 23, 'n_estimators': 856, 'learning_rate': 0.06144096365009924, 'lambda_l2': 0.2668935242240127, 'num_leaves': 170, 'colsample_bytree': 0.38284252486768083}. Best is trial 25 with value: 6.974632226644742.\u001b[0m\n"
          ]
        },
        {
          "output_type": "stream",
          "name": "stdout",
          "text": [
            "Scores: [13.160413381712631, 3.9598270273868157, 6.412118020277344, 5.0854812693955544]\n"
          ]
        },
        {
          "output_type": "stream",
          "name": "stderr",
          "text": [
            "\u001b[32m[I 2023-01-09 00:51:39,672]\u001b[0m Trial 31 finished with value: 7.091006790342927 and parameters: {'max_depth': 27, 'n_estimators': 835, 'learning_rate': 0.04982843695006934, 'lambda_l2': 1.3282310060360818, 'num_leaves': 229, 'colsample_bytree': 0.33913612955183536}. Best is trial 25 with value: 6.974632226644742.\u001b[0m\n"
          ]
        },
        {
          "output_type": "stream",
          "name": "stdout",
          "text": [
            "Scores: [12.980110646123556, 3.7502499274846466, 6.352044069781904, 5.281622517981601]\n"
          ]
        },
        {
          "output_type": "stream",
          "name": "stderr",
          "text": [
            "\u001b[32m[I 2023-01-09 00:52:13,496]\u001b[0m Trial 32 finished with value: 7.047941669137325 and parameters: {'max_depth': 25, 'n_estimators': 510, 'learning_rate': 0.07264301860537094, 'lambda_l2': 0.7084580868768386, 'num_leaves': 231, 'colsample_bytree': 0.3756939515711444}. Best is trial 25 with value: 6.974632226644742.\u001b[0m\n"
          ]
        },
        {
          "output_type": "stream",
          "name": "stdout",
          "text": [
            "Scores: [12.71136181742107, 4.093158344571936, 6.389756083262967, 4.997490431293329]\n"
          ]
        },
        {
          "output_type": "stream",
          "name": "stderr",
          "text": [
            "\u001b[32m[I 2023-01-09 00:52:19,899]\u001b[0m Trial 33 finished with value: 6.931903269676325 and parameters: {'max_depth': 26, 'n_estimators': 101, 'learning_rate': 0.08187792840060666, 'lambda_l2': 0.8842031501785516, 'num_leaves': 207, 'colsample_bytree': 0.33147284972749785}. Best is trial 33 with value: 6.931903269676325.\u001b[0m\n"
          ]
        },
        {
          "output_type": "stream",
          "name": "stdout",
          "text": [
            "Scores: [12.48560738981805, 3.776505000499859, 6.423963407403292, 5.041537280984097]\n"
          ]
        },
        {
          "output_type": "stream",
          "name": "stderr",
          "text": [
            "\u001b[32m[I 2023-01-09 00:52:27,805]\u001b[0m Trial 34 finished with value: 7.120497181383501 and parameters: {'max_depth': 20, 'n_estimators': 120, 'learning_rate': 0.08202057844868839, 'lambda_l2': 0.8275532540187271, 'num_leaves': 204, 'colsample_bytree': 0.4027804611736894}. Best is trial 33 with value: 6.931903269676325.\u001b[0m\n"
          ]
        },
        {
          "output_type": "stream",
          "name": "stdout",
          "text": [
            "Scores: [13.245066602517122, 4.063507270494383, 6.156733525438719, 5.016681327083784]\n"
          ]
        },
        {
          "output_type": "stream",
          "name": "stderr",
          "text": [
            "\u001b[32m[I 2023-01-09 00:52:47,971]\u001b[0m Trial 35 finished with value: 6.947700181527017 and parameters: {'max_depth': 24, 'n_estimators': 358, 'learning_rate': 0.0948542419775942, 'lambda_l2': 0.15233525343449777, 'num_leaves': 148, 'colsample_bytree': 0.3250350912189772}. Best is trial 33 with value: 6.931903269676325.\u001b[0m\n"
          ]
        },
        {
          "output_type": "stream",
          "name": "stdout",
          "text": [
            "Scores: [12.403512782683018, 3.7508656535088227, 6.512445028850949, 5.123977261065279]\n"
          ]
        },
        {
          "output_type": "stream",
          "name": "stderr",
          "text": [
            "\u001b[32m[I 2023-01-09 00:52:58,808]\u001b[0m Trial 36 finished with value: 7.0670878709204565 and parameters: {'max_depth': 24, 'n_estimators': 222, 'learning_rate': 0.07812131641904738, 'lambda_l2': 0.1467618542920517, 'num_leaves': 144, 'colsample_bytree': 0.3264242613294765}. Best is trial 33 with value: 6.931903269676325.\u001b[0m\n"
          ]
        },
        {
          "output_type": "stream",
          "name": "stdout",
          "text": [
            "Scores: [12.78498964764566, 3.8420673926194344, 6.492754828238586, 5.14853961517815]\n"
          ]
        },
        {
          "output_type": "stream",
          "name": "stderr",
          "text": [
            "\u001b[32m[I 2023-01-09 00:56:47,250]\u001b[0m Trial 37 finished with value: 7.861580702641313 and parameters: {'max_depth': 26, 'n_estimators': 2992, 'learning_rate': 0.09210605844979591, 'lambda_l2': 0.17302277730078539, 'num_leaves': 216, 'colsample_bytree': 0.756189724437704}. Best is trial 33 with value: 6.931903269676325.\u001b[0m\n"
          ]
        },
        {
          "output_type": "stream",
          "name": "stdout",
          "text": [
            "Scores: [15.49149092401806, 4.051651766671555, 6.7485802006012126, 5.154599919274427]\n"
          ]
        },
        {
          "output_type": "stream",
          "name": "stderr",
          "text": [
            "\u001b[32m[I 2023-01-09 00:57:08,095]\u001b[0m Trial 38 finished with value: 7.111314958981282 and parameters: {'max_depth': 24, 'n_estimators': 375, 'learning_rate': 0.08438773015385148, 'lambda_l2': 0.3851296657539963, 'num_leaves': 197, 'colsample_bytree': 0.3235641527509863}. Best is trial 33 with value: 6.931903269676325.\u001b[0m\n"
          ]
        },
        {
          "output_type": "stream",
          "name": "stdout",
          "text": [
            "Scores: [13.05545970262473, 3.916860061919427, 6.354168637909644, 5.118771433471329]\n"
          ]
        },
        {
          "output_type": "stream",
          "name": "stderr",
          "text": [
            "\u001b[32m[I 2023-01-09 00:59:00,262]\u001b[0m Trial 39 finished with value: 7.118992108898182 and parameters: {'max_depth': 19, 'n_estimators': 2396, 'learning_rate': 0.07656503557839378, 'lambda_l2': 0.27206156549283805, 'num_leaves': 243, 'colsample_bytree': 0.39339012285347663}. Best is trial 33 with value: 6.931903269676325.\u001b[0m\n"
          ]
        },
        {
          "output_type": "stream",
          "name": "stdout",
          "text": [
            "Scores: [13.305656734952466, 3.9835453091824227, 6.22063889478717, 4.966127496670664]\n"
          ]
        },
        {
          "output_type": "stream",
          "name": "stderr",
          "text": [
            "\u001b[32m[I 2023-01-09 00:59:21,982]\u001b[0m Trial 40 finished with value: 7.064415469026254 and parameters: {'max_depth': 22, 'n_estimators': 1687, 'learning_rate': 0.06678891811372162, 'lambda_l2': 0.0653424113557448, 'num_leaves': 28, 'colsample_bytree': 0.37004315360062373}. Best is trial 33 with value: 6.931903269676325.\u001b[0m\n"
          ]
        },
        {
          "output_type": "stream",
          "name": "stdout",
          "text": [
            "Scores: [12.479691952427114, 4.550602798651036, 6.3633422886335795, 4.864024836393288]\n"
          ]
        },
        {
          "output_type": "stream",
          "name": "stderr",
          "text": [
            "\u001b[32m[I 2023-01-09 00:59:47,067]\u001b[0m Trial 41 finished with value: 7.1265171932420435 and parameters: {'max_depth': 21, 'n_estimators': 533, 'learning_rate': 0.0951878687605134, 'lambda_l2': 0.5315236855756252, 'num_leaves': 116, 'colsample_bytree': 0.41197873623944214}. Best is trial 33 with value: 6.931903269676325.\u001b[0m\n"
          ]
        },
        {
          "output_type": "stream",
          "name": "stdout",
          "text": [
            "Scores: [13.107304864549043, 3.7414137149597018, 6.530897380115986, 5.126452813343445]\n"
          ]
        },
        {
          "output_type": "stream",
          "name": "stderr",
          "text": [
            "\u001b[32m[I 2023-01-09 00:59:52,574]\u001b[0m Trial 42 finished with value: 7.185383669389251 and parameters: {'max_depth': 25, 'n_estimators': 119, 'learning_rate': 0.08459511804724697, 'lambda_l2': 1.0228557441708908, 'num_leaves': 90, 'colsample_bytree': 0.4418673398346499}. Best is trial 33 with value: 6.931903269676325.\u001b[0m\n"
          ]
        },
        {
          "output_type": "stream",
          "name": "stdout",
          "text": [
            "Scores: [13.203887476299263, 4.344544845016042, 6.216103973867234, 4.976998382374468]\n"
          ]
        },
        {
          "output_type": "stream",
          "name": "stderr",
          "text": [
            "\u001b[32m[I 2023-01-09 01:00:44,860]\u001b[0m Trial 43 finished with value: 7.044111668249365 and parameters: {'max_depth': 22, 'n_estimators': 1126, 'learning_rate': 0.09325223377890479, 'lambda_l2': 0.12211950848751016, 'num_leaves': 140, 'colsample_bytree': 0.3318701199474199}. Best is trial 33 with value: 6.931903269676325.\u001b[0m\n"
          ]
        },
        {
          "output_type": "stream",
          "name": "stdout",
          "text": [
            "Scores: [12.459640591144488, 3.948914701270687, 6.692209459020084, 5.0756819215622]\n"
          ]
        },
        {
          "output_type": "stream",
          "name": "stderr",
          "text": [
            "\u001b[32m[I 2023-01-09 01:01:09,335]\u001b[0m Trial 44 finished with value: 7.298896121908497 and parameters: {'max_depth': 19, 'n_estimators': 443, 'learning_rate': 0.09731899313993536, 'lambda_l2': 1.951168359566127, 'num_leaves': 125, 'colsample_bytree': 0.4845440103982659}. Best is trial 33 with value: 6.931903269676325.\u001b[0m\n"
          ]
        },
        {
          "output_type": "stream",
          "name": "stdout",
          "text": [
            "Scores: [13.485642099600078, 4.234407325616269, 6.549192156655272, 4.926342905762366]\n"
          ]
        },
        {
          "output_type": "stream",
          "name": "stderr",
          "text": [
            "\u001b[32m[I 2023-01-09 01:01:24,762]\u001b[0m Trial 45 finished with value: 7.0095657973962595 and parameters: {'max_depth': 24, 'n_estimators': 310, 'learning_rate': 0.08683907704842381, 'lambda_l2': 2.79410096739908, 'num_leaves': 165, 'colsample_bytree': 0.31241806729238364}. Best is trial 33 with value: 6.931903269676325.\u001b[0m\n"
          ]
        },
        {
          "output_type": "stream",
          "name": "stdout",
          "text": [
            "Scores: [12.817174706351707, 3.720148256519734, 6.283396161745388, 5.2175440649682105]\n"
          ]
        },
        {
          "output_type": "stream",
          "name": "stderr",
          "text": [
            "\u001b[32m[I 2023-01-09 01:01:37,865]\u001b[0m Trial 46 finished with value: 6.967624831713835 and parameters: {'max_depth': 26, 'n_estimators': 257, 'learning_rate': 0.08891683703554651, 'lambda_l2': 2.8769122282517174, 'num_leaves': 159, 'colsample_bytree': 0.3110898355819257}. Best is trial 33 with value: 6.931903269676325.\u001b[0m\n"
          ]
        },
        {
          "output_type": "stream",
          "name": "stdout",
          "text": [
            "Scores: [12.454897266978914, 3.717948997723716, 6.408820948704734, 5.288832113447977]\n"
          ]
        },
        {
          "output_type": "stream",
          "name": "stderr",
          "text": [
            "\u001b[32m[I 2023-01-09 01:02:31,449]\u001b[0m Trial 47 finished with value: 7.128171746598885 and parameters: {'max_depth': 27, 'n_estimators': 923, 'learning_rate': 0.034401760685275645, 'lambda_l2': 6.864297082824396, 'num_leaves': 156, 'colsample_bytree': 0.3643420087868721}. Best is trial 33 with value: 6.931903269676325.\u001b[0m\n"
          ]
        },
        {
          "output_type": "stream",
          "name": "stdout",
          "text": [
            "Scores: [13.554499170027013, 3.8107096405652037, 6.203450034857197, 4.944028140946126]\n"
          ]
        },
        {
          "output_type": "stream",
          "name": "stderr",
          "text": [
            "\u001b[32m[I 2023-01-09 01:03:43,933]\u001b[0m Trial 48 finished with value: 7.009257812964225 and parameters: {'max_depth': 26, 'n_estimators': 1465, 'learning_rate': 0.0788012766529044, 'lambda_l2': 0.08634153291074567, 'num_leaves': 189, 'colsample_bytree': 0.30153063693192195}. Best is trial 33 with value: 6.931903269676325.\u001b[0m\n"
          ]
        },
        {
          "output_type": "stream",
          "name": "stdout",
          "text": [
            "Scores: [12.633468695550343, 3.7852180678199687, 6.264501692023245, 5.353842796463344]\n"
          ]
        },
        {
          "output_type": "stream",
          "name": "stderr",
          "text": [
            "\u001b[32m[I 2023-01-09 01:05:24,962]\u001b[0m Trial 49 finished with value: 7.178789863806539 and parameters: {'max_depth': 23, 'n_estimators': 1947, 'learning_rate': 0.07568224559430549, 'lambda_l2': 0.21292479700354808, 'num_leaves': 218, 'colsample_bytree': 0.3390301039329863}. Best is trial 33 with value: 6.931903269676325.\u001b[0m\n"
          ]
        },
        {
          "output_type": "stream",
          "name": "stdout",
          "text": [
            "Scores: [12.907310122550783, 4.021032885846336, 6.580858436198491, 5.205958010630551]\n"
          ]
        },
        {
          "output_type": "stream",
          "name": "stderr",
          "text": [
            "\u001b[32m[I 2023-01-09 01:05:26,358]\u001b[0m Trial 50 finished with value: 7.0045810998419755 and parameters: {'max_depth': 3, 'n_estimators': 234, 'learning_rate': 0.06585878772013544, 'lambda_l2': 4.499330887020483, 'num_leaves': 174, 'colsample_bytree': 0.3838366002615733}. Best is trial 33 with value: 6.931903269676325.\u001b[0m\n"
          ]
        },
        {
          "output_type": "stream",
          "name": "stdout",
          "text": [
            "Scores: [13.075003934788114, 3.647611378247647, 5.744155396146568, 5.551553690185574]\n"
          ]
        },
        {
          "output_type": "stream",
          "name": "stderr",
          "text": [
            "\u001b[32m[I 2023-01-09 01:05:38,854]\u001b[0m Trial 51 finished with value: 7.205753377659033 and parameters: {'max_depth': 12, 'n_estimators': 308, 'learning_rate': 0.054179757545750995, 'lambda_l2': 5.088026288345382, 'num_leaves': 174, 'colsample_bytree': 0.38798023062858655}. Best is trial 33 with value: 6.931903269676325.\u001b[0m\n"
          ]
        },
        {
          "output_type": "stream",
          "name": "stdout",
          "text": [
            "Scores: [14.027557290455835, 3.7522521539529285, 6.098015295101644, 4.945188771125727]\n"
          ]
        },
        {
          "output_type": "stream",
          "name": "stderr",
          "text": [
            "\u001b[32m[I 2023-01-09 01:05:41,515]\u001b[0m Trial 52 finished with value: 7.127026620457001 and parameters: {'max_depth': 7, 'n_estimators': 127, 'learning_rate': 0.04418007498079731, 'lambda_l2': 3.9387223379731906, 'num_leaves': 137, 'colsample_bytree': 0.32089732690572054}. Best is trial 33 with value: 6.931903269676325.\u001b[0m\n"
          ]
        },
        {
          "output_type": "stream",
          "name": "stdout",
          "text": [
            "Scores: [13.667303900001182, 3.5515532505076868, 6.011658241781724, 5.277591089537414]\n"
          ]
        },
        {
          "output_type": "stream",
          "name": "stderr",
          "text": [
            "\u001b[32m[I 2023-01-09 01:05:43,919]\u001b[0m Trial 53 finished with value: 6.96530901968371 and parameters: {'max_depth': 3, 'n_estimators': 493, 'learning_rate': 0.06149207381988518, 'lambda_l2': 5.848921411836532, 'num_leaves': 201, 'colsample_bytree': 0.3484714125468942}. Best is trial 33 with value: 6.931903269676325.\u001b[0m\n"
          ]
        },
        {
          "output_type": "stream",
          "name": "stdout",
          "text": [
            "Scores: [13.19841816823685, 3.491438344000669, 5.717858231395114, 5.453521335102209]\n"
          ]
        },
        {
          "output_type": "stream",
          "name": "stderr",
          "text": [
            "\u001b[32m[I 2023-01-09 01:05:56,427]\u001b[0m Trial 54 finished with value: 7.584950688683381 and parameters: {'max_depth': 9, 'n_estimators': 509, 'learning_rate': 0.061071894534703505, 'lambda_l2': 2.374017038905188, 'num_leaves': 242, 'colsample_bytree': 0.3548156206530081}. Best is trial 33 with value: 6.931903269676325.\u001b[0m\n"
          ]
        },
        {
          "output_type": "stream",
          "name": "stdout",
          "text": [
            "Scores: [15.185215341310787, 4.007667736374566, 6.114186744446292, 5.032732932601877]\n"
          ]
        },
        {
          "output_type": "stream",
          "name": "stderr",
          "text": [
            "\u001b[32m[I 2023-01-09 01:06:14,595]\u001b[0m Trial 55 finished with value: 7.309079664083493 and parameters: {'max_depth': 6, 'n_estimators': 1288, 'learning_rate': 0.08298945167248648, 'lambda_l2': 6.45233206133471, 'num_leaves': 206, 'colsample_bytree': 0.34782798863547354}. Best is trial 33 with value: 6.931903269676325.\u001b[0m\n"
          ]
        },
        {
          "output_type": "stream",
          "name": "stdout",
          "text": [
            "Scores: [14.431499162715877, 4.10646696181182, 5.845250011756448, 4.853102520049828]\n"
          ]
        },
        {
          "output_type": "stream",
          "name": "stderr",
          "text": [
            "\u001b[32m[I 2023-01-09 01:06:45,101]\u001b[0m Trial 56 finished with value: 6.966749618710684 and parameters: {'max_depth': 16, 'n_estimators': 742, 'learning_rate': 0.08935093248798315, 'lambda_l2': 3.501188040435931, 'num_leaves': 223, 'colsample_bytree': 0.3158520012429134}. Best is trial 33 with value: 6.931903269676325.\u001b[0m\n"
          ]
        },
        {
          "output_type": "stream",
          "name": "stdout",
          "text": [
            "Scores: [12.630998517303686, 3.6983409591784935, 6.1166624431409415, 5.420996555219614]\n"
          ]
        },
        {
          "output_type": "stream",
          "name": "stderr",
          "text": [
            "\u001b[32m[I 2023-01-09 01:07:06,668]\u001b[0m Trial 57 finished with value: 7.001698987631146 and parameters: {'max_depth': 11, 'n_estimators': 737, 'learning_rate': 0.0890711305822098, 'lambda_l2': 3.4337391887384516, 'num_leaves': 255, 'colsample_bytree': 0.31759017132513606}. Best is trial 33 with value: 6.931903269676325.\u001b[0m\n"
          ]
        },
        {
          "output_type": "stream",
          "name": "stdout",
          "text": [
            "Scores: [12.90485002504519, 3.789099375551699, 6.253815987348298, 5.059030562579398]\n"
          ]
        },
        {
          "output_type": "stream",
          "name": "stderr",
          "text": [
            "\u001b[32m[I 2023-01-09 01:07:11,757]\u001b[0m Trial 58 finished with value: 7.162305163785506 and parameters: {'max_depth': 5, 'n_estimators': 573, 'learning_rate': 0.0999761504017975, 'lambda_l2': 6.647589860513814, 'num_leaves': 193, 'colsample_bytree': 0.33047857936161185}. Best is trial 33 with value: 6.931903269676325.\u001b[0m\n"
          ]
        },
        {
          "output_type": "stream",
          "name": "stdout",
          "text": [
            "Scores: [14.120638110829894, 3.6754746130756684, 5.873123335428264, 4.979984595808198]\n"
          ]
        },
        {
          "output_type": "stream",
          "name": "stderr",
          "text": [
            "\u001b[32m[I 2023-01-09 01:07:30,275]\u001b[0m Trial 59 finished with value: 7.133665722188924 and parameters: {'max_depth': 16, 'n_estimators': 434, 'learning_rate': 0.09148074832829607, 'lambda_l2': 5.594101140831251, 'num_leaves': 208, 'colsample_bytree': 0.304188952959908}. Best is trial 33 with value: 6.931903269676325.\u001b[0m\n"
          ]
        },
        {
          "output_type": "stream",
          "name": "stdout",
          "text": [
            "Scores: [13.288403003599015, 3.6008543470624454, 6.393652848018436, 5.2517526900758]\n"
          ]
        },
        {
          "output_type": "stream",
          "name": "stderr",
          "text": [
            "\u001b[32m[I 2023-01-09 01:07:50,622]\u001b[0m Trial 60 finished with value: 7.37780240781308 and parameters: {'max_depth': 27, 'n_estimators': 302, 'learning_rate': 0.08866346269856146, 'lambda_l2': 2.5465129660234678, 'num_leaves': 226, 'colsample_bytree': 0.3634314124441515}. Best is trial 33 with value: 6.931903269676325.\u001b[0m\n"
          ]
        },
        {
          "output_type": "stream",
          "name": "stdout",
          "text": [
            "Scores: [14.102037056373211, 3.928198355881947, 6.417656289855628, 5.063317929141531]\n"
          ]
        },
        {
          "output_type": "stream",
          "name": "stderr",
          "text": [
            "\u001b[32m[I 2023-01-09 01:08:11,424]\u001b[0m Trial 61 finished with value: 7.275372573773355 and parameters: {'max_depth': 10, 'n_estimators': 711, 'learning_rate': 0.08673224872661536, 'lambda_l2': 3.440545871090475, 'num_leaves': 243, 'colsample_bytree': 0.31621970375806824}. Best is trial 33 with value: 6.931903269676325.\u001b[0m\n"
          ]
        },
        {
          "output_type": "stream",
          "name": "stdout",
          "text": [
            "Scores: [13.379119436040236, 4.0415029408254055, 6.500990476206626, 5.179877442021152]\n"
          ]
        },
        {
          "output_type": "stream",
          "name": "stderr",
          "text": [
            "\u001b[32m[I 2023-01-09 01:08:29,746]\u001b[0m Trial 62 finished with value: 7.3575875215841595 and parameters: {'max_depth': 14, 'n_estimators': 434, 'learning_rate': 0.0959308897214188, 'lambda_l2': 8.525862000664501, 'num_leaves': 256, 'colsample_bytree': 0.34133141853328397}. Best is trial 33 with value: 6.931903269676325.\u001b[0m\n"
          ]
        },
        {
          "output_type": "stream",
          "name": "stdout",
          "text": [
            "Scores: [13.804368750672227, 3.7830680671058845, 6.720747821777212, 5.122165446781311]\n"
          ]
        },
        {
          "output_type": "stream",
          "name": "stderr",
          "text": [
            "\u001b[32m[I 2023-01-09 01:09:00,248]\u001b[0m Trial 63 finished with value: 7.07408192104301 and parameters: {'max_depth': 12, 'n_estimators': 973, 'learning_rate': 0.08970730585016046, 'lambda_l2': 3.390311479852557, 'num_leaves': 223, 'colsample_bytree': 0.3162020008087254}. Best is trial 33 with value: 6.931903269676325.\u001b[0m\n"
          ]
        },
        {
          "output_type": "stream",
          "name": "stdout",
          "text": [
            "Scores: [13.219163610225399, 3.911067769733332, 5.92059587182225, 5.245500432391063]\n"
          ]
        },
        {
          "output_type": "stream",
          "name": "stderr",
          "text": [
            "\u001b[32m[I 2023-01-09 01:09:22,797]\u001b[0m Trial 64 finished with value: 7.334171906355443 and parameters: {'max_depth': 10, 'n_estimators': 730, 'learning_rate': 0.08054652632174625, 'lambda_l2': 3.115729972899348, 'num_leaves': 236, 'colsample_bytree': 0.4065571524164337}. Best is trial 33 with value: 6.931903269676325.\u001b[0m\n"
          ]
        },
        {
          "output_type": "stream",
          "name": "stdout",
          "text": [
            "Scores: [14.035851664079509, 4.185517648607998, 5.987589454042077, 5.127728858692186]\n"
          ]
        },
        {
          "output_type": "stream",
          "name": "stderr",
          "text": [
            "\u001b[32m[I 2023-01-09 01:09:24,090]\u001b[0m Trial 65 finished with value: 6.858083802668255 and parameters: {'max_depth': 3, 'n_estimators': 228, 'learning_rate': 0.09346035337424284, 'lambda_l2': 3.829538847098128, 'num_leaves': 159, 'colsample_bytree': 0.34802872499463844}. Best is trial 65 with value: 6.858083802668255.\u001b[0m\n"
          ]
        },
        {
          "output_type": "stream",
          "name": "stdout",
          "text": [
            "Scores: [12.789930004138972, 3.5986797173073937, 5.659361680753143, 5.3843638084735135]\n"
          ]
        },
        {
          "output_type": "stream",
          "name": "stderr",
          "text": [
            "\u001b[32m[I 2023-01-09 01:09:26,396]\u001b[0m Trial 66 finished with value: 7.229560070937848 and parameters: {'max_depth': 4, 'n_estimators': 220, 'learning_rate': 0.08456817942460743, 'lambda_l2': 1.6282105004739735, 'num_leaves': 159, 'colsample_bytree': 0.5320128263630935}. Best is trial 65 with value: 6.858083802668255.\u001b[0m\n"
          ]
        },
        {
          "output_type": "stream",
          "name": "stdout",
          "text": [
            "Scores: [14.248507394102557, 3.9263931617414016, 5.571909049951577, 5.1714306779558585]\n"
          ]
        },
        {
          "output_type": "stream",
          "name": "stderr",
          "text": [
            "\u001b[32m[I 2023-01-09 01:09:30,789]\u001b[0m Trial 67 finished with value: 6.992082171786973 and parameters: {'max_depth': 4, 'n_estimators': 615, 'learning_rate': 0.0935041741729181, 'lambda_l2': 8.562015644434346, 'num_leaves': 187, 'colsample_bytree': 0.3725976749377566}. Best is trial 65 with value: 6.858083802668255.\u001b[0m\n"
          ]
        },
        {
          "output_type": "stream",
          "name": "stdout",
          "text": [
            "Scores: [13.486969261221187, 3.9582434946149734, 5.690518014070597, 4.832597917241135]\n"
          ]
        },
        {
          "output_type": "stream",
          "name": "stderr",
          "text": [
            "\u001b[32m[I 2023-01-09 01:09:31,924]\u001b[0m Trial 68 finished with value: 6.981768640211057 and parameters: {'max_depth': 3, 'n_estimators': 179, 'learning_rate': 0.039433065068971415, 'lambda_l2': 5.431667824587218, 'num_leaves': 151, 'colsample_bytree': 0.3527705711223804}. Best is trial 65 with value: 6.858083802668255.\u001b[0m\n"
          ]
        },
        {
          "output_type": "stream",
          "name": "stdout",
          "text": [
            "Scores: [13.227056645043644, 3.4043222190994737, 5.676120002286778, 5.6195756944143325]\n"
          ]
        },
        {
          "output_type": "stream",
          "name": "stderr",
          "text": [
            "\u001b[32m[I 2023-01-09 01:09:35,307]\u001b[0m Trial 69 finished with value: 7.020173647221602 and parameters: {'max_depth': 5, 'n_estimators': 340, 'learning_rate': 0.07430989017447925, 'lambda_l2': 4.3309445878879735, 'num_leaves': 183, 'colsample_bytree': 0.3364722006016511}. Best is trial 65 with value: 6.858083802668255.\u001b[0m\n"
          ]
        },
        {
          "output_type": "stream",
          "name": "stdout",
          "text": [
            "Scores: [13.913400769819594, 3.813728931863086, 5.44546809334001, 4.908096793863718]\n"
          ]
        },
        {
          "output_type": "stream",
          "name": "stderr",
          "text": [
            "\u001b[32m[I 2023-01-09 01:09:54,846]\u001b[0m Trial 70 finished with value: 7.112529329563512 and parameters: {'max_depth': 26, 'n_estimators': 261, 'learning_rate': 0.09632626640298837, 'lambda_l2': 2.2564455943906663, 'num_leaves': 200, 'colsample_bytree': 0.43441626927615096}. Best is trial 65 with value: 6.858083802668255.\u001b[0m\n"
          ]
        },
        {
          "output_type": "stream",
          "name": "stdout",
          "text": [
            "Scores: [13.081633614367087, 3.820932353534255, 6.530245162024546, 5.01730618832816]\n"
          ]
        },
        {
          "output_type": "stream",
          "name": "stderr",
          "text": [
            "\u001b[32m[I 2023-01-09 01:09:56,003]\u001b[0m Trial 71 finished with value: 7.138765241403259 and parameters: {'max_depth': 3, 'n_estimators': 180, 'learning_rate': 0.0387119370103077, 'lambda_l2': 5.956678140045629, 'num_leaves': 150, 'colsample_bytree': 0.35625056435292685}. Best is trial 65 with value: 6.858083802668255.\u001b[0m\n"
          ]
        },
        {
          "output_type": "stream",
          "name": "stdout",
          "text": [
            "Scores: [13.479632613604121, 3.6308821309044554, 5.761682565649578, 5.682863655454882]\n"
          ]
        },
        {
          "output_type": "stream",
          "name": "stderr",
          "text": [
            "\u001b[32m[I 2023-01-09 01:10:02,391]\u001b[0m Trial 72 finished with value: 6.953247279723959 and parameters: {'max_depth': 3, 'n_estimators': 433, 'learning_rate': 0.015826287604536242, 'lambda_l2': 7.576827246153182, 'num_leaves': 164, 'colsample_bytree': 0.6320941308940593}. Best is trial 65 with value: 6.858083802668255.\u001b[0m\n"
          ]
        },
        {
          "output_type": "stream",
          "name": "stdout",
          "text": [
            "Scores: [13.019407884486855, 3.4891651980817486, 5.725990070479088, 5.578425965848145]\n"
          ]
        },
        {
          "output_type": "stream",
          "name": "stderr",
          "text": [
            "\u001b[32m[I 2023-01-09 01:10:10,475]\u001b[0m Trial 73 finished with value: 6.977786765038862 and parameters: {'max_depth': 5, 'n_estimators': 445, 'learning_rate': 0.013358487849181325, 'lambda_l2': 3.8600822856592893, 'num_leaves': 135, 'colsample_bytree': 0.6572186447730836}. Best is trial 65 with value: 6.858083802668255.\u001b[0m\n"
          ]
        },
        {
          "output_type": "stream",
          "name": "stdout",
          "text": [
            "Scores: [13.586303051409763, 3.492726328280906, 5.576625946651901, 5.255491733812877]\n"
          ]
        },
        {
          "output_type": "stream",
          "name": "stderr",
          "text": [
            "\u001b[32m[I 2023-01-09 01:10:21,307]\u001b[0m Trial 74 finished with value: 7.058830568531229 and parameters: {'max_depth': 6, 'n_estimators': 403, 'learning_rate': 0.02701655576340429, 'lambda_l2': 7.099063805557714, 'num_leaves': 164, 'colsample_bytree': 0.7738278509542649}. Best is trial 65 with value: 6.858083802668255.\u001b[0m\n"
          ]
        },
        {
          "output_type": "stream",
          "name": "stdout",
          "text": [
            "Scores: [13.68757245509367, 3.8068529618744416, 5.695978116752558, 5.044918740404246]\n"
          ]
        },
        {
          "output_type": "stream",
          "name": "stderr",
          "text": [
            "\u001b[32m[I 2023-01-09 01:11:03,892]\u001b[0m Trial 75 finished with value: 7.146167915191029 and parameters: {'max_depth': 25, 'n_estimators': 501, 'learning_rate': 0.012842996024501724, 'lambda_l2': 7.512462783345763, 'num_leaves': 209, 'colsample_bytree': 0.5695872640887271}. Best is trial 65 with value: 6.858083802668255.\u001b[0m\n"
          ]
        },
        {
          "output_type": "stream",
          "name": "stdout",
          "text": [
            "Scores: [13.678997081278302, 3.762270560444292, 6.017104282536713, 5.126299736504809]\n"
          ]
        },
        {
          "output_type": "stream",
          "name": "stderr",
          "text": [
            "\u001b[32m[I 2023-01-09 01:11:51,061]\u001b[0m Trial 76 finished with value: 7.213844071830155 and parameters: {'max_depth': 26, 'n_estimators': 558, 'learning_rate': 0.09164759046995766, 'lambda_l2': 5.088312625914945, 'num_leaves': 144, 'colsample_bytree': 0.626519173083182}. Best is trial 65 with value: 6.858083802668255.\u001b[0m\n"
          ]
        },
        {
          "output_type": "stream",
          "name": "stdout",
          "text": [
            "Scores: [13.271257869150496, 3.882113582952808, 6.7047314652921095, 4.997273369925208]\n"
          ]
        },
        {
          "output_type": "stream",
          "name": "stderr",
          "text": [
            "\u001b[32m[I 2023-01-09 01:12:03,840]\u001b[0m Trial 77 finished with value: 6.9612295486977285 and parameters: {'max_depth': 4, 'n_estimators': 861, 'learning_rate': 0.047732434347165856, 'lambda_l2': 1.866898248198803, 'num_leaves': 180, 'colsample_bytree': 0.7150271923053583}. Best is trial 65 with value: 6.858083802668255.\u001b[0m\n"
          ]
        },
        {
          "output_type": "stream",
          "name": "stdout",
          "text": [
            "Scores: [13.382025662874346, 3.8223434830193277, 5.613021943889315, 5.027527105007927]\n"
          ]
        },
        {
          "output_type": "stream",
          "name": "stderr",
          "text": [
            "\u001b[32m[I 2023-01-09 01:12:13,552]\u001b[0m Trial 78 finished with value: 6.929999926198044 and parameters: {'max_depth': 4, 'n_estimators': 831, 'learning_rate': 0.026500107017691038, 'lambda_l2': 2.7707040682975546, 'num_leaves': 169, 'colsample_bytree': 0.7192941900043223}. Best is trial 65 with value: 6.858083802668255.\u001b[0m\n"
          ]
        },
        {
          "output_type": "stream",
          "name": "stdout",
          "text": [
            "Scores: [13.488299229433405, 3.6847121644060388, 5.578985015468614, 4.968003295484118]\n"
          ]
        },
        {
          "output_type": "stream",
          "name": "stderr",
          "text": [
            "\u001b[32m[I 2023-01-09 01:12:22,848]\u001b[0m Trial 79 finished with value: 7.0566626025915085 and parameters: {'max_depth': 4, 'n_estimators': 798, 'learning_rate': 0.024333970899873398, 'lambda_l2': 0.8711767145076037, 'num_leaves': 180, 'colsample_bytree': 0.7016861844680762}. Best is trial 65 with value: 6.858083802668255.\u001b[0m\n"
          ]
        },
        {
          "output_type": "stream",
          "name": "stdout",
          "text": [
            "Scores: [13.607125187112322, 3.6652591742565694, 5.792252026778048, 5.162014022219094]\n"
          ]
        },
        {
          "output_type": "stream",
          "name": "stderr",
          "text": [
            "\u001b[32m[I 2023-01-09 01:12:42,805]\u001b[0m Trial 80 finished with value: 7.533362098427872 and parameters: {'max_depth': 6, 'n_estimators': 899, 'learning_rate': 0.0229817508782064, 'lambda_l2': 1.4852550080629605, 'num_leaves': 175, 'colsample_bytree': 0.7114703453372456}. Best is trial 65 with value: 6.858083802668255.\u001b[0m\n"
          ]
        },
        {
          "output_type": "stream",
          "name": "stdout",
          "text": [
            "Scores: [15.47234356310126, 3.801824169958325, 5.872979822629485, 4.986300838022421]\n"
          ]
        },
        {
          "output_type": "stream",
          "name": "stderr",
          "text": [
            "\u001b[32m[I 2023-01-09 01:12:47,888]\u001b[0m Trial 81 finished with value: 6.94513549334615 and parameters: {'max_depth': 3, 'n_estimators': 643, 'learning_rate': 0.008854006606955983, 'lambda_l2': 1.8642557954346681, 'num_leaves': 170, 'colsample_bytree': 0.6637863590533807}. Best is trial 65 with value: 6.858083802668255.\u001b[0m\n"
          ]
        },
        {
          "output_type": "stream",
          "name": "stdout",
          "text": [
            "Scores: [13.061062236633042, 3.50225942810288, 5.612866851029767, 5.604353457618908]\n"
          ]
        },
        {
          "output_type": "stream",
          "name": "stderr",
          "text": [
            "\u001b[32m[I 2023-01-09 01:12:56,404]\u001b[0m Trial 82 finished with value: 6.910454860854164 and parameters: {'max_depth': 3, 'n_estimators': 1025, 'learning_rate': 0.008575954283447611, 'lambda_l2': 1.856345151477836, 'num_leaves': 165, 'colsample_bytree': 0.736199793523863}. Best is trial 65 with value: 6.858083802668255.\u001b[0m\n"
          ]
        },
        {
          "output_type": "stream",
          "name": "stdout",
          "text": [
            "Scores: [13.010219591238421, 3.4165471585368072, 5.642343216542792, 5.572709477098633]\n"
          ]
        },
        {
          "output_type": "stream",
          "name": "stderr",
          "text": [
            "\u001b[32m[I 2023-01-09 01:13:05,069]\u001b[0m Trial 83 finished with value: 6.943088529480108 and parameters: {'max_depth': 3, 'n_estimators': 1033, 'learning_rate': 0.007481738126190761, 'lambda_l2': 1.621616033115017, 'num_leaves': 169, 'colsample_bytree': 0.7303859543083421}. Best is trial 65 with value: 6.858083802668255.\u001b[0m\n"
          ]
        },
        {
          "output_type": "stream",
          "name": "stdout",
          "text": [
            "Scores: [13.184237453822059, 3.417810513776079, 5.657120482747469, 5.513185667574824]\n"
          ]
        },
        {
          "output_type": "stream",
          "name": "stderr",
          "text": [
            "\u001b[32m[I 2023-01-09 01:13:20,231]\u001b[0m Trial 84 finished with value: 7.060852389271807 and parameters: {'max_depth': 4, 'n_estimators': 1215, 'learning_rate': 0.0071290436345527106, 'lambda_l2': 1.907013079562233, 'num_leaves': 169, 'colsample_bytree': 0.7242212765272371}. Best is trial 65 with value: 6.858083802668255.\u001b[0m\n"
          ]
        },
        {
          "output_type": "stream",
          "name": "stdout",
          "text": [
            "Scores: [13.726813161225085, 3.474758354739411, 5.679037819438533, 5.362800221684201]\n"
          ]
        },
        {
          "output_type": "stream",
          "name": "stderr",
          "text": [
            "\u001b[32m[I 2023-01-09 01:13:41,126]\u001b[0m Trial 85 finished with value: 7.160367623667773 and parameters: {'max_depth': 5, 'n_estimators': 1129, 'learning_rate': 0.008233124308541305, 'lambda_l2': 1.741453833348823, 'num_leaves': 168, 'colsample_bytree': 0.7385317570199371}. Best is trial 65 with value: 6.858083802668255.\u001b[0m\n"
          ]
        },
        {
          "output_type": "stream",
          "name": "stdout",
          "text": [
            "Scores: [14.11257547931599, 3.5819504699642035, 5.73845955184253, 5.208484993548372]\n"
          ]
        },
        {
          "output_type": "stream",
          "name": "stderr",
          "text": [
            "\u001b[32m[I 2023-01-09 01:13:51,756]\u001b[0m Trial 86 finished with value: 7.204115580864147 and parameters: {'max_depth': 3, 'n_estimators': 931, 'learning_rate': 0.002245031846457063, 'lambda_l2': 1.314906306495448, 'num_leaves': 159, 'colsample_bytree': 0.6707833338120437}. Best is trial 65 with value: 6.858083802668255.\u001b[0m\n"
          ]
        },
        {
          "output_type": "stream",
          "name": "stdout",
          "text": [
            "Scores: [14.036897825508913, 3.4639025608551686, 5.546147473413629, 5.769514463678878]\n"
          ]
        },
        {
          "output_type": "stream",
          "name": "stderr",
          "text": [
            "\u001b[32m[I 2023-01-09 01:14:05,762]\u001b[0m Trial 87 finished with value: 7.088574146457868 and parameters: {'max_depth': 4, 'n_estimators': 1076, 'learning_rate': 0.016567762745266265, 'lambda_l2': 1.0713272169700547, 'num_leaves': 143, 'colsample_bytree': 0.794461008627043}. Best is trial 65 with value: 6.858083802668255.\u001b[0m\n"
          ]
        },
        {
          "output_type": "stream",
          "name": "stdout",
          "text": [
            "Scores: [13.788585487626847, 3.7250292741900486, 5.677838433072819, 5.1628433909417595]\n"
          ]
        },
        {
          "output_type": "stream",
          "name": "stderr",
          "text": [
            "\u001b[32m[I 2023-01-09 01:14:31,753]\u001b[0m Trial 88 finished with value: 7.430871438725968 and parameters: {'max_depth': 7, 'n_estimators': 844, 'learning_rate': 0.009661171644628049, 'lambda_l2': 1.9262221206806902, 'num_leaves': 183, 'colsample_bytree': 0.6486733763142117}. Best is trial 65 with value: 6.858083802668255.\u001b[0m\n"
          ]
        },
        {
          "output_type": "stream",
          "name": "stdout",
          "text": [
            "Scores: [14.853566863504279, 3.8373906814268075, 5.874661031367017, 5.157867178605765]\n"
          ]
        },
        {
          "output_type": "stream",
          "name": "stderr",
          "text": [
            "\u001b[32m[I 2023-01-09 01:14:40,231]\u001b[0m Trial 89 finished with value: 6.811186348701067 and parameters: {'max_depth': 3, 'n_estimators': 1037, 'learning_rate': 0.018915877953732042, 'lambda_l2': 1.1962075186563603, 'num_leaves': 129, 'colsample_bytree': 0.7556537313928661}. Best is trial 89 with value: 6.811186348701067.\u001b[0m\n"
          ]
        },
        {
          "output_type": "stream",
          "name": "stdout",
          "text": [
            "Scores: [12.823895627944596, 3.588161455846738, 5.443513920931894, 5.38917439008104]\n"
          ]
        },
        {
          "output_type": "stream",
          "name": "stderr",
          "text": [
            "\u001b[32m[I 2023-01-09 01:14:48,700]\u001b[0m Trial 90 finished with value: 6.884839388553479 and parameters: {'max_depth': 3, 'n_estimators': 1030, 'learning_rate': 0.019133607492992158, 'lambda_l2': 0.6782837057547481, 'num_leaves': 126, 'colsample_bytree': 0.7676387660222651}. Best is trial 89 with value: 6.811186348701067.\u001b[0m\n"
          ]
        },
        {
          "output_type": "stream",
          "name": "stdout",
          "text": [
            "Scores: [13.196578264314274, 3.528736162486797, 5.412734360169089, 5.401308767243757]\n"
          ]
        },
        {
          "output_type": "stream",
          "name": "stderr",
          "text": [
            "\u001b[32m[I 2023-01-09 01:14:56,831]\u001b[0m Trial 91 finished with value: 6.838552356681113 and parameters: {'max_depth': 3, 'n_estimators': 1006, 'learning_rate': 0.019692339756805902, 'lambda_l2': 0.6763732602178462, 'num_leaves': 129, 'colsample_bytree': 0.747240732173883}. Best is trial 89 with value: 6.811186348701067.\u001b[0m\n"
          ]
        },
        {
          "output_type": "stream",
          "name": "stdout",
          "text": [
            "Scores: [12.889876713760614, 3.55254568629632, 5.384795690594818, 5.526991336072702]\n"
          ]
        },
        {
          "output_type": "stream",
          "name": "stderr",
          "text": [
            "\u001b[32m[I 2023-01-09 01:15:06,626]\u001b[0m Trial 92 finished with value: 6.810608134257508 and parameters: {'max_depth': 3, 'n_estimators': 1215, 'learning_rate': 0.019968051076355877, 'lambda_l2': 0.700548080492304, 'num_leaves': 125, 'colsample_bytree': 0.7479512948643986}. Best is trial 92 with value: 6.810608134257508.\u001b[0m\n"
          ]
        },
        {
          "output_type": "stream",
          "name": "stdout",
          "text": [
            "Scores: [12.826956903174462, 3.600213991997302, 5.413646720937245, 5.401614920921028]\n"
          ]
        },
        {
          "output_type": "stream",
          "name": "stderr",
          "text": [
            "\u001b[32m[I 2023-01-09 01:15:15,198]\u001b[0m Trial 93 finished with value: 6.782750175494744 and parameters: {'max_depth': 3, 'n_estimators': 1054, 'learning_rate': 0.02106254674290088, 'lambda_l2': 0.6484278868756463, 'num_leaves': 123, 'colsample_bytree': 0.751170293232725}. Best is trial 93 with value: 6.782750175494744.\u001b[0m\n"
          ]
        },
        {
          "output_type": "stream",
          "name": "stdout",
          "text": [
            "Scores: [13.018802239203746, 3.5107189308633675, 5.274304503632798, 5.327175028279065]\n"
          ]
        },
        {
          "output_type": "stream",
          "name": "stderr",
          "text": [
            "\u001b[32m[I 2023-01-09 01:15:33,171]\u001b[0m Trial 94 finished with value: 7.355511119443982 and parameters: {'max_depth': 5, 'n_estimators': 1041, 'learning_rate': 0.0208897583303251, 'lambda_l2': 0.4466376619523606, 'num_leaves': 122, 'colsample_bytree': 0.747451749646036}. Best is trial 93 with value: 6.782750175494744.\u001b[0m\n"
          ]
        },
        {
          "output_type": "stream",
          "name": "stdout",
          "text": [
            "Scores: [14.857029477539568, 3.8295715337314635, 5.740466249159231, 4.994977217345669]\n"
          ]
        },
        {
          "output_type": "stream",
          "name": "stderr",
          "text": [
            "\u001b[32m[I 2023-01-09 01:15:43,169]\u001b[0m Trial 95 finished with value: 6.766457364343425 and parameters: {'max_depth': 3, 'n_estimators': 1233, 'learning_rate': 0.030139062254810847, 'lambda_l2': 0.69825297208385, 'num_leaves': 108, 'colsample_bytree': 0.7706021026655606}. Best is trial 95 with value: 6.766457364343425.\u001b[0m\n"
          ]
        },
        {
          "output_type": "stream",
          "name": "stdout",
          "text": [
            "Scores: [12.886096728783865, 3.598975265798998, 5.300001975201393, 5.280755487589442]\n"
          ]
        },
        {
          "output_type": "stream",
          "name": "stderr",
          "text": [
            "\u001b[32m[I 2023-01-09 01:16:00,417]\u001b[0m Trial 96 finished with value: 7.0620522704978885 and parameters: {'max_depth': 4, 'n_estimators': 1199, 'learning_rate': 0.029815081759928502, 'lambda_l2': 0.6487474925737381, 'num_leaves': 113, 'colsample_bytree': 0.7750716643830375}. Best is trial 95 with value: 6.766457364343425.\u001b[0m\n"
          ]
        },
        {
          "output_type": "stream",
          "name": "stdout",
          "text": [
            "Scores: [13.625743596460024, 3.9758666615829292, 5.599026346647888, 5.047572477300712]\n"
          ]
        },
        {
          "output_type": "stream",
          "name": "stderr",
          "text": [
            "\u001b[32m[I 2023-01-09 01:16:32,180]\u001b[0m Trial 97 finished with value: 7.4931007311743905 and parameters: {'max_depth': 6, 'n_estimators': 1355, 'learning_rate': 0.01863673418572477, 'lambda_l2': 0.7596066905931406, 'num_leaves': 90, 'colsample_bytree': 0.7641000678397366}. Best is trial 95 with value: 6.766457364343425.\u001b[0m\n"
          ]
        },
        {
          "output_type": "stream",
          "name": "stdout",
          "text": [
            "Scores: [15.399112604123253, 3.8577868492829763, 5.741247918122478, 4.974255553168854]\n"
          ]
        },
        {
          "output_type": "stream",
          "name": "stderr",
          "text": [
            "\u001b[32m[I 2023-01-09 01:16:52,718]\u001b[0m Trial 98 finished with value: 7.379993946916569 and parameters: {'max_depth': 5, 'n_estimators': 1201, 'learning_rate': 0.03207682704121881, 'lambda_l2': 0.5033824162257245, 'num_leaves': 130, 'colsample_bytree': 0.787022129305033}. Best is trial 95 with value: 6.766457364343425.\u001b[0m\n"
          ]
        },
        {
          "output_type": "stream",
          "name": "stdout",
          "text": [
            "Scores: [14.904581912185666, 3.807517945980552, 5.880499147536731, 4.927376781963323]\n"
          ]
        },
        {
          "output_type": "stream",
          "name": "stderr",
          "text": [
            "\u001b[32m[I 2023-01-09 01:17:04,734]\u001b[0m Trial 99 finished with value: 6.82266386207849 and parameters: {'max_depth': 3, 'n_estimators': 1612, 'learning_rate': 0.024220854290188255, 'lambda_l2': 0.6940099051751804, 'num_leaves': 104, 'colsample_bytree': 0.6882306077439566}. Best is trial 95 with value: 6.766457364343425.\u001b[0m\n"
          ]
        },
        {
          "output_type": "stream",
          "name": "stdout",
          "text": [
            "Scores: [12.909283252419257, 3.8311304374623387, 5.365783350061637, 5.184458408370726]\n",
            "  Value: 6.766457364343425\n",
            "  Params: \n",
            "    max_depth: 3\n",
            "    n_estimators: 1233\n",
            "    learning_rate: 0.030139062254810847\n",
            "    lambda_l2: 0.69825297208385\n",
            "    num_leaves: 108\n",
            "    colsample_bytree: 0.7706021026655606\n"
          ]
        }
      ]
    },
    {
      "cell_type": "code",
      "source": [
        "best_params"
      ],
      "metadata": {
        "id": "j5k0QnPbnYNm",
        "colab": {
          "base_uri": "https://localhost:8080/"
        },
        "outputId": "5ba84541-807e-43ed-9241-084a19b04923"
      },
      "execution_count": null,
      "outputs": [
        {
          "output_type": "execute_result",
          "data": {
            "text/plain": [
              "{'max_depth': 3,\n",
              " 'n_estimators': 1233,\n",
              " 'learning_rate': 0.030139062254810847,\n",
              " 'lambda_l2': 0.69825297208385,\n",
              " 'num_leaves': 108,\n",
              " 'colsample_bytree': 0.7706021026655606}"
            ]
          },
          "metadata": {},
          "execution_count": 14
        }
      ]
    }
  ]
}